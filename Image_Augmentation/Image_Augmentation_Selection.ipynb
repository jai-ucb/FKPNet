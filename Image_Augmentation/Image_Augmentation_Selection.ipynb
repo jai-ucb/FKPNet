{
 "cells": [
  {
   "cell_type": "code",
   "execution_count": 1,
   "metadata": {},
   "outputs": [],
   "source": [
    "import pandas as pd"
   ]
  },
  {
   "cell_type": "markdown",
   "metadata": {},
   "source": [
    "### Create Clean DataSet For Training by using the flags created during the EDA/Processing Stage"
   ]
  },
  {
   "cell_type": "code",
   "execution_count": 2,
   "metadata": {},
   "outputs": [],
   "source": [
    "train_data_ext = pd.read_csv('processed_training_flag.csv')"
   ]
  },
  {
   "cell_type": "code",
   "execution_count": 3,
   "metadata": {},
   "outputs": [],
   "source": [
    "train_data = pd.read_csv('training.csv')"
   ]
  },
  {
   "cell_type": "code",
   "execution_count": 4,
   "metadata": {},
   "outputs": [],
   "source": [
    "final_df = pd.merge(train_data,train_data_ext,left_index=True, right_index=True)\n",
    "final_df =  final_df[final_df['is_extreme_image'] == 0]\n",
    "final_df =  final_df[final_df['is_missing_pixel'] == 0]\n",
    "final_df =  final_df[final_df['num_missing_keypoints'] == 0]\n",
    "final_df =  final_df[final_df['is_duplicate'] == 0]\n",
    "final_df.drop(columns=['is_extreme_image','is_missing_pixel','num_missing_keypoints','Unnamed: 0','is_duplicate'],inplace=True,axis=0)\n",
    "final_df.to_csv(\"train_to_aug.csv\", index=False)"
   ]
  }
 ],
 "metadata": {
  "environment": {
   "name": "tf2-gpu.2-1.m55",
   "type": "gcloud",
   "uri": "gcr.io/deeplearning-platform-release/tf2-gpu.2-1:m55"
  },
  "kernelspec": {
   "display_name": "Python 3",
   "language": "python",
   "name": "python3"
  },
  "language_info": {
   "codemirror_mode": {
    "name": "ipython",
    "version": 3
   },
   "file_extension": ".py",
   "mimetype": "text/x-python",
   "name": "python",
   "nbconvert_exporter": "python",
   "pygments_lexer": "ipython3",
   "version": "3.7.8"
  }
 },
 "nbformat": 4,
 "nbformat_minor": 4
}
