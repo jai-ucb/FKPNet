{
 "cells": [
  {
   "cell_type": "markdown",
   "metadata": {},
   "source": [
    "# GPU Monitor"
   ]
  },
  {
   "cell_type": "code",
   "execution_count": 1,
   "metadata": {},
   "outputs": [],
   "source": [
    "#https://developer.nvidia.com/blog/profiling-and-optimizing-deep-neural-networks-with-dlprof-and-pyprof/\n",
    "#nvidia-smi\n",
    "#nvidia-smi dmon"
   ]
  },
  {
   "cell_type": "markdown",
   "metadata": {},
   "source": [
    "## Import Libs"
   ]
  },
  {
   "cell_type": "code",
   "execution_count": 2,
   "metadata": {},
   "outputs": [],
   "source": [
    "# This tells matplotlib not to try opening a new window for each plot.\n",
    "%matplotlib inline\n",
    "\n",
    "import os\n",
    "####*IMPORANT*: Have to do this line *before* importing tensorflow\n",
    "os.environ['PYTHONHASHSEED']=str(1)\n",
    "\n",
    "# General libraries.\n",
    "import re\n",
    "import numpy as np\n",
    "import matplotlib.pyplot as plt\n",
    "import pandas as pd\n",
    "import pickle\n",
    "\n",
    "from sklearn.datasets import make_regression\n",
    "from sklearn.tree import DecisionTreeRegressor\n",
    "from sklearn.model_selection import cross_val_score\n",
    "from sklearn.metrics import confusion_matrix\n",
    "from sklearn import metrics\n",
    "from sklearn.model_selection import train_test_split\n",
    "from sklearn.ensemble import RandomForestRegressor\n",
    "\n",
    "import cv2\n",
    "from math import sin, cos, pi\n",
    "from time import strftime\n",
    "from datetime import datetime"
   ]
  },
  {
   "cell_type": "code",
   "execution_count": 3,
   "metadata": {},
   "outputs": [],
   "source": [
    "train_data = pd.read_csv('data/training.csv') \n",
    "test_data = pd.read_csv('data/test.csv') \n",
    "Id_data = pd.read_csv('data/IdLookupTable.csv') "
   ]
  },
  {
   "cell_type": "markdown",
   "metadata": {},
   "source": [
    "# MODEL EXAMPLE\n",
    "https://www.tensorflow.org/tutorials/images/cnn"
   ]
  },
  {
   "cell_type": "code",
   "execution_count": 4,
   "metadata": {},
   "outputs": [],
   "source": [
    "from tensorflow import keras\n",
    "from keras.layers import Conv2D,Dropout,Dense,Flatten\n",
    "from keras.models import Sequential\n",
    "from keras.layers.advanced_activations import LeakyReLU\n",
    "from keras.models import Sequential, Model\n",
    "from keras.layers import Activation, Convolution2D, MaxPooling2D, BatchNormalization, Flatten, Dense, Dropout, Conv2D,MaxPool2D, ZeroPadding2D\n",
    "import random\n",
    "import tensorflow as tf\n",
    "\n"
   ]
  },
  {
   "cell_type": "code",
   "execution_count": 5,
   "metadata": {},
   "outputs": [],
   "source": [
    "epochs = 100\n",
    "def reset_random_seeds():\n",
    "    os.environ['PYTHONHASHSEED']=str(1)\n",
    "    tf.random.set_seed(1)\n",
    "    np.random.seed(1)\n",
    "    random.seed(1)\n",
    "\n",
    "#make some random data\n",
    "reset_random_seeds()"
   ]
  },
  {
   "cell_type": "code",
   "execution_count": 6,
   "metadata": {},
   "outputs": [
    {
     "name": "stdout",
     "output_type": "stream",
     "text": [
      "Model: \"sequential\"\n",
      "_________________________________________________________________\n",
      "Layer (type)                 Output Shape              Param #   \n",
      "=================================================================\n",
      "conv2d (Conv2D)              (None, 96, 96, 32)        288       \n",
      "_________________________________________________________________\n",
      "leaky_re_lu (LeakyReLU)      (None, 96, 96, 32)        0         \n",
      "_________________________________________________________________\n",
      "batch_normalization (BatchNo (None, 96, 96, 32)        128       \n",
      "_________________________________________________________________\n",
      "conv2d_1 (Conv2D)            (None, 96, 96, 32)        9216      \n",
      "_________________________________________________________________\n",
      "leaky_re_lu_1 (LeakyReLU)    (None, 96, 96, 32)        0         \n",
      "_________________________________________________________________\n",
      "batch_normalization_1 (Batch (None, 96, 96, 32)        128       \n",
      "_________________________________________________________________\n",
      "max_pooling2d (MaxPooling2D) (None, 48, 48, 32)        0         \n",
      "_________________________________________________________________\n",
      "conv2d_2 (Conv2D)            (None, 48, 48, 64)        18432     \n",
      "_________________________________________________________________\n",
      "leaky_re_lu_2 (LeakyReLU)    (None, 48, 48, 64)        0         \n",
      "_________________________________________________________________\n",
      "batch_normalization_2 (Batch (None, 48, 48, 64)        256       \n",
      "_________________________________________________________________\n",
      "conv2d_3 (Conv2D)            (None, 48, 48, 64)        36864     \n",
      "_________________________________________________________________\n",
      "leaky_re_lu_3 (LeakyReLU)    (None, 48, 48, 64)        0         \n",
      "_________________________________________________________________\n",
      "batch_normalization_3 (Batch (None, 48, 48, 64)        256       \n",
      "_________________________________________________________________\n",
      "max_pooling2d_1 (MaxPooling2 (None, 24, 24, 64)        0         \n",
      "_________________________________________________________________\n",
      "conv2d_4 (Conv2D)            (None, 24, 24, 96)        55296     \n",
      "_________________________________________________________________\n",
      "leaky_re_lu_4 (LeakyReLU)    (None, 24, 24, 96)        0         \n",
      "_________________________________________________________________\n",
      "batch_normalization_4 (Batch (None, 24, 24, 96)        384       \n",
      "_________________________________________________________________\n",
      "conv2d_5 (Conv2D)            (None, 24, 24, 96)        82944     \n",
      "_________________________________________________________________\n",
      "leaky_re_lu_5 (LeakyReLU)    (None, 24, 24, 96)        0         \n",
      "_________________________________________________________________\n",
      "batch_normalization_5 (Batch (None, 24, 24, 96)        384       \n",
      "_________________________________________________________________\n",
      "max_pooling2d_2 (MaxPooling2 (None, 12, 12, 96)        0         \n",
      "_________________________________________________________________\n",
      "flatten (Flatten)            (None, 13824)             0         \n",
      "_________________________________________________________________\n",
      "dense (Dense)                (None, 512)               7078400   \n",
      "_________________________________________________________________\n",
      "dropout (Dropout)            (None, 512)               0         \n",
      "_________________________________________________________________\n",
      "dense_1 (Dense)              (None, 30)                15390     \n",
      "=================================================================\n",
      "Total params: 7,298,366\n",
      "Trainable params: 7,297,598\n",
      "Non-trainable params: 768\n",
      "_________________________________________________________________\n",
      "('Failed to import pydot. You must `pip install pydot` and install graphviz (https://graphviz.gitlab.io/download/), ', 'for `pydotprint` to work.')\n"
     ]
    }
   ],
   "source": [
    "model = Sequential()\n",
    "\n",
    "#Block 1\n",
    "model.add(Convolution2D(32, (3,3), padding='same', use_bias=False, input_shape=(96,96,1)))\n",
    "model.add(LeakyReLU(alpha = 0.1))\n",
    "model.add(BatchNormalization())\n",
    "\n",
    "model.add(Convolution2D(32, (3,3), padding='same', use_bias=False))\n",
    "model.add(LeakyReLU(alpha = 0.1))\n",
    "model.add(BatchNormalization())\n",
    "model.add(MaxPool2D(pool_size=(2, 2)))\n",
    "\n",
    "#Block 2\n",
    "model.add(Convolution2D(64, (3,3), padding='same', use_bias=False))\n",
    "model.add(LeakyReLU(alpha = 0.1))\n",
    "model.add(BatchNormalization())\n",
    "\n",
    "model.add(Convolution2D(64, (3,3), padding='same', use_bias=False))\n",
    "model.add(LeakyReLU(alpha = 0.1))\n",
    "model.add(BatchNormalization())\n",
    "model.add(MaxPool2D(pool_size=(2, 2)))\n",
    "\n",
    "# Block 3\n",
    "model.add(Convolution2D(96, (3,3), padding='same', use_bias=False))\n",
    "model.add(LeakyReLU(alpha = 0.1))\n",
    "model.add(BatchNormalization())\n",
    "\n",
    "model.add(Convolution2D(96, (3,3), padding='same', use_bias=False))\n",
    "model.add(LeakyReLU(alpha = 0.1))\n",
    "model.add(BatchNormalization())\n",
    "model.add(MaxPool2D(pool_size=(2, 2)))\n",
    "\n",
    "model.add(Flatten())\n",
    "model.add(Dense(512,activation='relu'))\n",
    "model.add(Dropout(0.1))\n",
    "model.add(Dense(30))\n",
    "model.summary()\n",
    "keras.utils.plot_model(model, show_shapes=True)"
   ]
  },
  {
   "cell_type": "code",
   "execution_count": 7,
   "metadata": {},
   "outputs": [],
   "source": [
    "model.compile(optimizer='adam',loss='mean_squared_error',metrics=['mae','accuracy'])"
   ]
  },
  {
   "cell_type": "code",
   "execution_count": 8,
   "metadata": {},
   "outputs": [
    {
     "name": "stdout",
     "output_type": "stream",
     "text": [
      "7049\n"
     ]
    }
   ],
   "source": [
    "train_data = pd.read_csv('data/training.csv')\n",
    "\n",
    "images = []\n",
    "y_train = []\n",
    "\n",
    "print(len(train_data))\n",
    "train_data = train_data.fillna(method = 'ffill')\n",
    "for idx, sample in train_data.iterrows():\n",
    "    image = np.array(sample['Image'].split(' '), dtype=int)\n",
    "    image = np.reshape(image, (96,96,1))\n",
    "    images.append(image)\n",
    "X_train = np.array(images)"
   ]
  },
  {
   "cell_type": "code",
   "execution_count": 9,
   "metadata": {},
   "outputs": [],
   "source": [
    "training = train_data.drop('Image',axis = 1)\n",
    "\n",
    "y_train = []\n",
    "for idx, sample in training.iterrows():\n",
    "    y = training.iloc[idx,:]\n",
    "    y_train.append(y)    \n",
    "y_train = np.array(y_train,dtype = 'float')"
   ]
  },
  {
   "cell_type": "code",
   "execution_count": 10,
   "metadata": {},
   "outputs": [
    {
     "name": "stdout",
     "output_type": "stream",
     "text": [
      "Epoch 1/100\n",
      " 2/13 [===>..........................] - ETA: 2s - loss: 1834.6469 - mae: 38.1427 - accuracy: 0.3711WARNING:tensorflow:Callbacks method `on_train_batch_end` is slow compared to the batch time (batch time: 0.1447s vs `on_train_batch_end` time: 0.2410s). Check your callbacks.\n",
      "13/13 [==============================] - 6s 435ms/step - loss: 430.8959 - mae: 14.2795 - accuracy: 0.3463 - val_loss: 1124.1740 - val_mae: 30.6895 - val_accuracy: 0.0312\n",
      "Epoch 2/100\n",
      "13/13 [==============================] - 5s 350ms/step - loss: 59.7421 - mae: 6.0545 - accuracy: 0.3407 - val_loss: 1242.7560 - val_mae: 32.4374 - val_accuracy: 0.2787\n",
      "Epoch 3/100\n",
      "13/13 [==============================] - 5s 353ms/step - loss: 40.2895 - mae: 4.9683 - accuracy: 0.3905 - val_loss: 912.9638 - val_mae: 27.5512 - val_accuracy: 0.3128\n",
      "Epoch 4/100\n",
      "13/13 [==============================] - 5s 352ms/step - loss: 35.5227 - mae: 4.6455 - accuracy: 0.4139 - val_loss: 718.1671 - val_mae: 24.4848 - val_accuracy: 0.3270\n",
      "Epoch 5/100\n",
      "13/13 [==============================] - 5s 356ms/step - loss: 32.7814 - mae: 4.4757 - accuracy: 0.4261 - val_loss: 342.6812 - val_mae: 16.6003 - val_accuracy: 0.3007\n",
      "Epoch 6/100\n",
      "13/13 [==============================] - 5s 346ms/step - loss: 28.7608 - mae: 4.1813 - accuracy: 0.4400 - val_loss: 238.8423 - val_mae: 13.9078 - val_accuracy: 0.3837\n",
      "Epoch 7/100\n",
      "13/13 [==============================] - 4s 346ms/step - loss: 26.5809 - mae: 4.0167 - accuracy: 0.4641 - val_loss: 245.6799 - val_mae: 14.2494 - val_accuracy: 0.3745\n",
      "Epoch 8/100\n",
      "13/13 [==============================] - 5s 346ms/step - loss: 24.8426 - mae: 3.8715 - accuracy: 0.4756 - val_loss: 100.1248 - val_mae: 8.7092 - val_accuracy: 0.3468\n",
      "Epoch 9/100\n",
      "13/13 [==============================] - 4s 345ms/step - loss: 22.8513 - mae: 3.7025 - accuracy: 0.4994 - val_loss: 98.6434 - val_mae: 8.8047 - val_accuracy: 0.5298\n",
      "Epoch 10/100\n",
      "13/13 [==============================] - 5s 350ms/step - loss: 22.1613 - mae: 3.6424 - accuracy: 0.5146 - val_loss: 48.6949 - val_mae: 5.9001 - val_accuracy: 0.6007\n",
      "Epoch 11/100\n",
      "13/13 [==============================] - 5s 349ms/step - loss: 22.3828 - mae: 3.6629 - accuracy: 0.5258 - val_loss: 43.0135 - val_mae: 5.4995 - val_accuracy: 0.6078\n",
      "Epoch 12/100\n",
      "13/13 [==============================] - 5s 349ms/step - loss: 23.8374 - mae: 3.7750 - accuracy: 0.5473 - val_loss: 9.2623 - val_mae: 2.1449 - val_accuracy: 0.5638\n",
      "Epoch 13/100\n",
      "13/13 [==============================] - 5s 349ms/step - loss: 24.1719 - mae: 3.8149 - accuracy: 0.5448 - val_loss: 9.4961 - val_mae: 2.1669 - val_accuracy: 0.6660\n",
      "Epoch 14/100\n",
      "13/13 [==============================] - 5s 347ms/step - loss: 21.4671 - mae: 3.5801 - accuracy: 0.5421 - val_loss: 6.5305 - val_mae: 1.7732 - val_accuracy: 0.7050\n",
      "Epoch 15/100\n",
      "13/13 [==============================] - 5s 348ms/step - loss: 18.9183 - mae: 3.3507 - accuracy: 0.5512 - val_loss: 12.4682 - val_mae: 2.7516 - val_accuracy: 0.7128\n",
      "Epoch 16/100\n",
      "13/13 [==============================] - 5s 351ms/step - loss: 19.4875 - mae: 3.4077 - accuracy: 0.5611 - val_loss: 12.4753 - val_mae: 2.7654 - val_accuracy: 0.7262\n",
      "Epoch 17/100\n",
      "13/13 [==============================] - 5s 347ms/step - loss: 17.2279 - mae: 3.1886 - accuracy: 0.5781 - val_loss: 17.1323 - val_mae: 3.3232 - val_accuracy: 0.7284\n",
      "Epoch 18/100\n",
      "13/13 [==============================] - 5s 349ms/step - loss: 17.2157 - mae: 3.1887 - accuracy: 0.5753 - val_loss: 9.2042 - val_mae: 2.2182 - val_accuracy: 0.7390\n",
      "Epoch 19/100\n",
      "13/13 [==============================] - 5s 350ms/step - loss: 20.8446 - mae: 3.5353 - accuracy: 0.5833 - val_loss: 16.6797 - val_mae: 3.2435 - val_accuracy: 0.7433\n",
      "Epoch 20/100\n",
      "13/13 [==============================] - 5s 350ms/step - loss: 17.6362 - mae: 3.2321 - accuracy: 0.5774 - val_loss: 24.6800 - val_mae: 4.1229 - val_accuracy: 0.7440\n",
      "Epoch 21/100\n",
      "13/13 [==============================] - 5s 346ms/step - loss: 16.3287 - mae: 3.0991 - accuracy: 0.5896 - val_loss: 15.4303 - val_mae: 3.2196 - val_accuracy: 0.7504\n",
      "Epoch 22/100\n",
      "13/13 [==============================] - 5s 351ms/step - loss: 16.0630 - mae: 3.0715 - accuracy: 0.6074 - val_loss: 14.3708 - val_mae: 3.0887 - val_accuracy: 0.7397\n",
      "Epoch 23/100\n",
      "13/13 [==============================] - 5s 349ms/step - loss: 16.9005 - mae: 3.1519 - accuracy: 0.6099 - val_loss: 11.2724 - val_mae: 2.4820 - val_accuracy: 0.7475\n",
      "Epoch 24/100\n",
      "13/13 [==============================] - 5s 354ms/step - loss: 16.0059 - mae: 3.0668 - accuracy: 0.6093 - val_loss: 9.3474 - val_mae: 2.3414 - val_accuracy: 0.7426\n",
      "Epoch 25/100\n",
      "13/13 [==============================] - 5s 353ms/step - loss: 14.9558 - mae: 2.9651 - accuracy: 0.6182 - val_loss: 5.1986 - val_mae: 1.5744 - val_accuracy: 0.7546\n",
      "Epoch 26/100\n",
      "13/13 [==============================] - 5s 356ms/step - loss: 17.7091 - mae: 3.2283 - accuracy: 0.6308 - val_loss: 12.0236 - val_mae: 2.6471 - val_accuracy: 0.7475\n",
      "Epoch 27/100\n",
      "13/13 [==============================] - 5s 347ms/step - loss: 14.8814 - mae: 2.9579 - accuracy: 0.6239 - val_loss: 7.4722 - val_mae: 2.0115 - val_accuracy: 0.7489\n",
      "Epoch 28/100\n",
      "13/13 [==============================] - 5s 350ms/step - loss: 13.7908 - mae: 2.8436 - accuracy: 0.6365 - val_loss: 8.4281 - val_mae: 2.1575 - val_accuracy: 0.7518\n",
      "Epoch 29/100\n",
      "13/13 [==============================] - 5s 348ms/step - loss: 14.4028 - mae: 2.9030 - accuracy: 0.6347 - val_loss: 12.6529 - val_mae: 2.8953 - val_accuracy: 0.7426\n",
      "Epoch 30/100\n",
      "13/13 [==============================] - 4s 346ms/step - loss: 13.9570 - mae: 2.8614 - accuracy: 0.6416 - val_loss: 9.0525 - val_mae: 2.2574 - val_accuracy: 0.7631\n",
      "Epoch 31/100\n",
      "13/13 [==============================] - 5s 349ms/step - loss: 14.6814 - mae: 2.9258 - accuracy: 0.6436 - val_loss: 5.1893 - val_mae: 1.5742 - val_accuracy: 0.7525\n",
      "Epoch 32/100\n",
      "13/13 [==============================] - 5s 361ms/step - loss: 15.0918 - mae: 2.9714 - accuracy: 0.6464 - val_loss: 5.6414 - val_mae: 1.6167 - val_accuracy: 0.7582\n",
      "Epoch 33/100\n",
      "13/13 [==============================] - 5s 354ms/step - loss: 14.4458 - mae: 2.9118 - accuracy: 0.6544 - val_loss: 12.0689 - val_mae: 2.7530 - val_accuracy: 0.7504\n",
      "Epoch 34/100\n",
      "13/13 [==============================] - 5s 349ms/step - loss: 15.3388 - mae: 2.9946 - accuracy: 0.6521 - val_loss: 5.2715 - val_mae: 1.5564 - val_accuracy: 0.7440\n",
      "Epoch 35/100\n",
      "13/13 [==============================] - 5s 351ms/step - loss: 17.0695 - mae: 3.1708 - accuracy: 0.6625 - val_loss: 27.6250 - val_mae: 4.5249 - val_accuracy: 0.7496\n",
      "Epoch 36/100\n",
      "13/13 [==============================] - 5s 353ms/step - loss: 18.3493 - mae: 3.2911 - accuracy: 0.6624 - val_loss: 25.7244 - val_mae: 4.2457 - val_accuracy: 0.7496\n",
      "Epoch 37/100\n",
      "13/13 [==============================] - 5s 352ms/step - loss: 14.6199 - mae: 2.9250 - accuracy: 0.6597 - val_loss: 31.6017 - val_mae: 4.3736 - val_accuracy: 0.7546\n",
      "Epoch 38/100\n",
      "13/13 [==============================] - 5s 349ms/step - loss: 14.5357 - mae: 2.9208 - accuracy: 0.6560 - val_loss: 34.2398 - val_mae: 4.6910 - val_accuracy: 0.7603\n",
      "Epoch 39/100\n",
      "13/13 [==============================] - 5s 350ms/step - loss: 14.4995 - mae: 2.9156 - accuracy: 0.6606 - val_loss: 29.9359 - val_mae: 4.6519 - val_accuracy: 0.7596\n",
      "Epoch 40/100\n",
      "13/13 [==============================] - 5s 350ms/step - loss: 13.7010 - mae: 2.8344 - accuracy: 0.6611 - val_loss: 11.7376 - val_mae: 2.4910 - val_accuracy: 0.7645\n",
      "Epoch 41/100\n",
      "13/13 [==============================] - 5s 350ms/step - loss: 12.5410 - mae: 2.7038 - accuracy: 0.6833 - val_loss: 10.5663 - val_mae: 2.4545 - val_accuracy: 0.7787\n",
      "Epoch 42/100\n",
      "13/13 [==============================] - 5s 353ms/step - loss: 12.0163 - mae: 2.6388 - accuracy: 0.6874 - val_loss: 8.0081 - val_mae: 2.0324 - val_accuracy: 0.7645\n",
      "Epoch 43/100\n",
      "13/13 [==============================] - 5s 355ms/step - loss: 13.2588 - mae: 2.7804 - accuracy: 0.6788 - val_loss: 6.3466 - val_mae: 1.8221 - val_accuracy: 0.7596\n",
      "Epoch 44/100\n",
      "13/13 [==============================] - 5s 351ms/step - loss: 12.7648 - mae: 2.7188 - accuracy: 0.6714 - val_loss: 9.9364 - val_mae: 2.4065 - val_accuracy: 0.7546\n",
      "Epoch 45/100\n",
      "13/13 [==============================] - 5s 353ms/step - loss: 16.0938 - mae: 3.0704 - accuracy: 0.6840 - val_loss: 7.4874 - val_mae: 1.9400 - val_accuracy: 0.7532\n",
      "Epoch 46/100\n",
      "13/13 [==============================] - 5s 349ms/step - loss: 12.7167 - mae: 2.7119 - accuracy: 0.6840 - val_loss: 5.1920 - val_mae: 1.5513 - val_accuracy: 0.7553\n",
      "Epoch 47/100\n",
      "13/13 [==============================] - 5s 354ms/step - loss: 11.9800 - mae: 2.6335 - accuracy: 0.6902 - val_loss: 8.4417 - val_mae: 2.1162 - val_accuracy: 0.7582\n",
      "Epoch 48/100\n",
      "13/13 [==============================] - 5s 358ms/step - loss: 11.6265 - mae: 2.5939 - accuracy: 0.6813 - val_loss: 9.4619 - val_mae: 2.2324 - val_accuracy: 0.7511\n",
      "Epoch 49/100\n",
      "13/13 [==============================] - 5s 357ms/step - loss: 13.8349 - mae: 2.8289 - accuracy: 0.6952 - val_loss: 6.7411 - val_mae: 1.8189 - val_accuracy: 0.7596\n",
      "Epoch 50/100\n",
      "13/13 [==============================] - 5s 350ms/step - loss: 11.2347 - mae: 2.5509 - accuracy: 0.6966 - val_loss: 7.9344 - val_mae: 2.0110 - val_accuracy: 0.7589\n",
      "Epoch 51/100\n",
      "13/13 [==============================] - 5s 347ms/step - loss: 10.4541 - mae: 2.4580 - accuracy: 0.6932 - val_loss: 4.8973 - val_mae: 1.4819 - val_accuracy: 0.7582\n",
      "Epoch 52/100\n",
      "13/13 [==============================] - 5s 347ms/step - loss: 11.6478 - mae: 2.6040 - accuracy: 0.7058 - val_loss: 4.5762 - val_mae: 1.4401 - val_accuracy: 0.7631\n",
      "Epoch 53/100\n",
      "13/13 [==============================] - 5s 347ms/step - loss: 14.0737 - mae: 2.8761 - accuracy: 0.7115 - val_loss: 6.1902 - val_mae: 1.7229 - val_accuracy: 0.7624\n",
      "Epoch 54/100\n",
      "13/13 [==============================] - 5s 348ms/step - loss: 13.0422 - mae: 2.7633 - accuracy: 0.7056 - val_loss: 6.7287 - val_mae: 1.8267 - val_accuracy: 0.7617\n",
      "Epoch 55/100\n",
      "13/13 [==============================] - 5s 347ms/step - loss: 11.4137 - mae: 2.5652 - accuracy: 0.7063 - val_loss: 4.3617 - val_mae: 1.3791 - val_accuracy: 0.7674\n",
      "Epoch 56/100\n",
      "13/13 [==============================] - 5s 348ms/step - loss: 10.1562 - mae: 2.4171 - accuracy: 0.7140 - val_loss: 5.5654 - val_mae: 1.6239 - val_accuracy: 0.7688\n",
      "Epoch 57/100\n",
      "13/13 [==============================] - 5s 347ms/step - loss: 9.9052 - mae: 2.3859 - accuracy: 0.7157 - val_loss: 5.5183 - val_mae: 1.6019 - val_accuracy: 0.7674\n",
      "Epoch 58/100\n",
      "13/13 [==============================] - 5s 347ms/step - loss: 11.6375 - mae: 2.6020 - accuracy: 0.7106 - val_loss: 5.1500 - val_mae: 1.5288 - val_accuracy: 0.7709\n",
      "Epoch 59/100\n",
      "13/13 [==============================] - 5s 346ms/step - loss: 15.5646 - mae: 3.0090 - accuracy: 0.7164 - val_loss: 7.2755 - val_mae: 1.9146 - val_accuracy: 0.7709\n",
      "Epoch 60/100\n",
      "13/13 [==============================] - 5s 348ms/step - loss: 12.5161 - mae: 2.6979 - accuracy: 0.7090 - val_loss: 7.2064 - val_mae: 1.9561 - val_accuracy: 0.7723\n",
      "Epoch 61/100\n",
      "13/13 [==============================] - 5s 347ms/step - loss: 10.9489 - mae: 2.5111 - accuracy: 0.7115 - val_loss: 8.2395 - val_mae: 2.1053 - val_accuracy: 0.7695\n",
      "Epoch 62/100\n",
      "13/13 [==============================] - 4s 345ms/step - loss: 10.5144 - mae: 2.4621 - accuracy: 0.7140 - val_loss: 4.7739 - val_mae: 1.4685 - val_accuracy: 0.7660\n",
      "Epoch 63/100\n",
      "13/13 [==============================] - 5s 347ms/step - loss: 11.0649 - mae: 2.5279 - accuracy: 0.7207 - val_loss: 11.4763 - val_mae: 2.5338 - val_accuracy: 0.7652\n",
      "Epoch 64/100\n",
      "13/13 [==============================] - 5s 347ms/step - loss: 13.0451 - mae: 2.7553 - accuracy: 0.7242 - val_loss: 5.8752 - val_mae: 1.6712 - val_accuracy: 0.7695\n",
      "Epoch 65/100\n",
      "13/13 [==============================] - 5s 347ms/step - loss: 10.6745 - mae: 2.4831 - accuracy: 0.7308 - val_loss: 5.3675 - val_mae: 1.6095 - val_accuracy: 0.7688\n",
      "Epoch 66/100\n",
      "13/13 [==============================] - 5s 348ms/step - loss: 10.3081 - mae: 2.4394 - accuracy: 0.7218 - val_loss: 5.1653 - val_mae: 1.5332 - val_accuracy: 0.7730\n",
      "Epoch 67/100\n",
      "13/13 [==============================] - 5s 348ms/step - loss: 10.5917 - mae: 2.4689 - accuracy: 0.7290 - val_loss: 10.2545 - val_mae: 2.3874 - val_accuracy: 0.7631\n",
      "Epoch 68/100\n",
      "13/13 [==============================] - 5s 349ms/step - loss: 14.6534 - mae: 2.9023 - accuracy: 0.7356 - val_loss: 12.1441 - val_mae: 2.6715 - val_accuracy: 0.7730\n",
      "Epoch 69/100\n",
      "13/13 [==============================] - 5s 348ms/step - loss: 11.8999 - mae: 2.6264 - accuracy: 0.7216 - val_loss: 10.0310 - val_mae: 2.4275 - val_accuracy: 0.7674\n",
      "Epoch 70/100\n",
      "13/13 [==============================] - 5s 350ms/step - loss: 10.2714 - mae: 2.4296 - accuracy: 0.7384 - val_loss: 8.5003 - val_mae: 2.1118 - val_accuracy: 0.7468\n",
      "Epoch 71/100\n",
      "13/13 [==============================] - 5s 359ms/step - loss: 8.9415 - mae: 2.2616 - accuracy: 0.7386 - val_loss: 15.6925 - val_mae: 3.1509 - val_accuracy: 0.7674\n",
      "Epoch 72/100\n",
      "13/13 [==============================] - 5s 355ms/step - loss: 9.5022 - mae: 2.3340 - accuracy: 0.7359 - val_loss: 10.8439 - val_mae: 2.5010 - val_accuracy: 0.7596\n",
      "Epoch 73/100\n",
      "13/13 [==============================] - 5s 358ms/step - loss: 8.5827 - mae: 2.2177 - accuracy: 0.7407 - val_loss: 8.5692 - val_mae: 2.1460 - val_accuracy: 0.7766\n",
      "Epoch 74/100\n",
      "13/13 [==============================] - 5s 351ms/step - loss: 10.0379 - mae: 2.4018 - accuracy: 0.7409 - val_loss: 10.2886 - val_mae: 2.2434 - val_accuracy: 0.7617\n",
      "Epoch 75/100\n",
      "13/13 [==============================] - 5s 357ms/step - loss: 14.0326 - mae: 2.8704 - accuracy: 0.7459 - val_loss: 17.0148 - val_mae: 3.1132 - val_accuracy: 0.7709\n",
      "Epoch 76/100\n",
      "13/13 [==============================] - 5s 352ms/step - loss: 11.7922 - mae: 2.6126 - accuracy: 0.7462 - val_loss: 5.5687 - val_mae: 1.6701 - val_accuracy: 0.7674\n",
      "Epoch 77/100\n",
      "13/13 [==============================] - 5s 353ms/step - loss: 9.6122 - mae: 2.3534 - accuracy: 0.7469 - val_loss: 5.0757 - val_mae: 1.5531 - val_accuracy: 0.7617\n",
      "Epoch 78/100\n",
      "13/13 [==============================] - 5s 353ms/step - loss: 9.8766 - mae: 2.3976 - accuracy: 0.7526 - val_loss: 6.7679 - val_mae: 1.8429 - val_accuracy: 0.7766\n",
      "Epoch 79/100\n",
      "13/13 [==============================] - 5s 355ms/step - loss: 10.3642 - mae: 2.4423 - accuracy: 0.7439 - val_loss: 6.7231 - val_mae: 1.8382 - val_accuracy: 0.7745\n",
      "Epoch 80/100\n",
      "13/13 [==============================] - 5s 348ms/step - loss: 13.2106 - mae: 2.7729 - accuracy: 0.7439 - val_loss: 7.0658 - val_mae: 1.8947 - val_accuracy: 0.7709\n",
      "Epoch 81/100\n",
      "13/13 [==============================] - 5s 352ms/step - loss: 9.3617 - mae: 2.3109 - accuracy: 0.7588 - val_loss: 4.3614 - val_mae: 1.3803 - val_accuracy: 0.7631\n",
      "Epoch 82/100\n",
      "13/13 [==============================] - 5s 367ms/step - loss: 9.2981 - mae: 2.3143 - accuracy: 0.7461 - val_loss: 5.8864 - val_mae: 1.7161 - val_accuracy: 0.7723\n",
      "Epoch 83/100\n",
      "13/13 [==============================] - 5s 359ms/step - loss: 9.2463 - mae: 2.3090 - accuracy: 0.7487 - val_loss: 5.9485 - val_mae: 1.7046 - val_accuracy: 0.7752\n",
      "Epoch 84/100\n",
      "13/13 [==============================] - 5s 363ms/step - loss: 7.7288 - mae: 2.1002 - accuracy: 0.7508 - val_loss: 4.4352 - val_mae: 1.3824 - val_accuracy: 0.7766\n",
      "Epoch 85/100\n",
      "13/13 [==============================] - 5s 359ms/step - loss: 8.3820 - mae: 2.1895 - accuracy: 0.7592 - val_loss: 7.6176 - val_mae: 1.9123 - val_accuracy: 0.7766\n",
      "Epoch 86/100\n",
      "13/13 [==============================] - 5s 358ms/step - loss: 10.2935 - mae: 2.4345 - accuracy: 0.7503 - val_loss: 7.4721 - val_mae: 1.9639 - val_accuracy: 0.7631\n",
      "Epoch 87/100\n",
      "13/13 [==============================] - 5s 349ms/step - loss: 8.8220 - mae: 2.2543 - accuracy: 0.7535 - val_loss: 6.4063 - val_mae: 1.7136 - val_accuracy: 0.7652\n",
      "Epoch 88/100\n",
      "13/13 [==============================] - 5s 366ms/step - loss: 8.9731 - mae: 2.2663 - accuracy: 0.7659 - val_loss: 5.3785 - val_mae: 1.5625 - val_accuracy: 0.7660\n",
      "Epoch 89/100\n",
      "13/13 [==============================] - 5s 360ms/step - loss: 8.0154 - mae: 2.1389 - accuracy: 0.7712 - val_loss: 6.8857 - val_mae: 1.8879 - val_accuracy: 0.7738\n",
      "Epoch 90/100\n",
      "13/13 [==============================] - 5s 352ms/step - loss: 7.7298 - mae: 2.1017 - accuracy: 0.7640 - val_loss: 8.0288 - val_mae: 2.0865 - val_accuracy: 0.7780\n",
      "Epoch 91/100\n"
     ]
    },
    {
     "name": "stdout",
     "output_type": "stream",
     "text": [
      "13/13 [==============================] - 5s 360ms/step - loss: 8.4753 - mae: 2.2011 - accuracy: 0.7636 - val_loss: 14.8234 - val_mae: 2.9533 - val_accuracy: 0.7809\n",
      "Epoch 92/100\n",
      "13/13 [==============================] - 5s 356ms/step - loss: 11.1478 - mae: 2.5273 - accuracy: 0.7682 - val_loss: 11.7504 - val_mae: 2.4529 - val_accuracy: 0.7652\n",
      "Epoch 93/100\n",
      "13/13 [==============================] - 5s 371ms/step - loss: 9.4322 - mae: 2.3291 - accuracy: 0.7680 - val_loss: 6.5276 - val_mae: 1.7818 - val_accuracy: 0.7667\n",
      "Epoch 94/100\n",
      "13/13 [==============================] - 5s 365ms/step - loss: 8.1810 - mae: 2.1595 - accuracy: 0.7714 - val_loss: 7.7488 - val_mae: 2.0461 - val_accuracy: 0.7759\n",
      "Epoch 95/100\n",
      "13/13 [==============================] - 5s 360ms/step - loss: 8.4516 - mae: 2.1980 - accuracy: 0.7808 - val_loss: 6.5601 - val_mae: 1.7460 - val_accuracy: 0.7660\n",
      "Epoch 96/100\n",
      "13/13 [==============================] - 5s 352ms/step - loss: 8.8376 - mae: 2.2496 - accuracy: 0.7700 - val_loss: 4.5294 - val_mae: 1.4187 - val_accuracy: 0.7716\n",
      "Epoch 97/100\n",
      "13/13 [==============================] - 5s 353ms/step - loss: 8.6168 - mae: 2.2263 - accuracy: 0.7695 - val_loss: 6.9716 - val_mae: 1.9055 - val_accuracy: 0.7709\n",
      "Epoch 98/100\n",
      "13/13 [==============================] - 5s 360ms/step - loss: 7.7499 - mae: 2.1024 - accuracy: 0.7707 - val_loss: 5.1867 - val_mae: 1.5481 - val_accuracy: 0.7780\n",
      "Epoch 99/100\n",
      "13/13 [==============================] - 5s 351ms/step - loss: 7.1824 - mae: 2.0205 - accuracy: 0.7854 - val_loss: 6.6310 - val_mae: 1.8016 - val_accuracy: 0.7794\n",
      "Epoch 100/100\n",
      "13/13 [==============================] - 5s 346ms/step - loss: 7.9040 - mae: 2.1235 - accuracy: 0.7739 - val_loss: 7.7471 - val_mae: 2.0719 - val_accuracy: 0.7837\n",
      "Duration: 0:07:54.977309\n"
     ]
    }
   ],
   "source": [
    "start_time = datetime.now()\n",
    "history = model.fit(X_train,y_train,epochs = epochs,batch_size = 450,validation_split = 0.2)\n",
    "end_time = datetime.now()\n",
    "print('Duration: {}'.format(end_time - start_time))"
   ]
  },
  {
   "cell_type": "code",
   "execution_count": 11,
   "metadata": {},
   "outputs": [
    {
     "name": "stdout",
     "output_type": "stream",
     "text": [
      "221/221 - 2s - loss: 5.7037 - mae: 1.8444 - accuracy: 0.8447\n"
     ]
    },
    {
     "data": {
      "image/png": "[encoded data removed]",
      "text/plain": [
       "<Figure size 432x288 with 1 Axes>"
      ]
     },
     "metadata": {
      "needs_background": "light"
     },
     "output_type": "display_data"
    }
   ],
   "source": [
    "plt.plot(history.history['accuracy'], label='accuracy')\n",
    "plt.plot(history.history['val_accuracy'], label = 'val_accuracy')\n",
    "plt.xlabel('Epoch')\n",
    "plt.ylabel('Accuracy')\n",
    "plt.ylim([0.5, 1])\n",
    "plt.legend(loc='lower right')\n",
    "\n",
    "test_loss, test_acc, acc = model.evaluate(X_train,y_train, verbose=2)"
   ]
  },
  {
   "cell_type": "code",
   "execution_count": 12,
   "metadata": {},
   "outputs": [],
   "source": [
    "arc = '3block_2FC'\n",
    "subname = '{}_epochs_{}_'.format(arc, epochs)\n",
    "model_name = \"data/models/\"+subname+strftime(\"%Y-%m-%d_%H-%M-%S\")+\".keras\"\n",
    "model.save(model_name)"
   ]
  },
  {
   "cell_type": "code",
   "execution_count": 13,
   "metadata": {},
   "outputs": [
    {
     "data": {
      "text/plain": [
       "'data/models/3block_2FC_epochs_100_2020-12-04_23-57-58.keras'"
      ]
     },
     "execution_count": 13,
     "metadata": {},
     "output_type": "execute_result"
    }
   ],
   "source": [
    "model_name"
   ]
  },
  {
   "cell_type": "code",
   "execution_count": 14,
   "metadata": {},
   "outputs": [],
   "source": [
    "# model_name = \"model_simple_nn_2020-11-13_06-57-10.keras\"\n",
    "model = keras.models.load_model(model_name)"
   ]
  },
  {
   "cell_type": "code",
   "execution_count": 15,
   "metadata": {},
   "outputs": [
    {
     "name": "stdout",
     "output_type": "stream",
     "text": [
      "('Failed to import pydot. You must `pip install pydot` and install graphviz (https://graphviz.gitlab.io/download/), ', 'for `pydotprint` to work.')\n"
     ]
    }
   ],
   "source": [
    "keras.utils.plot_model(model, show_shapes=True)"
   ]
  },
  {
   "cell_type": "code",
   "execution_count": 16,
   "metadata": {},
   "outputs": [],
   "source": [
    "images = []\n",
    "\n",
    "test_data = pd.read_csv('data/test.csv') \n",
    "for idx, sample in test_data.iterrows():\n",
    "    image = np.array(sample['Image'].split(' '), dtype=int)\n",
    "    image = np.reshape(image, (96,96,1))\n",
    "    images.append(image)\n",
    "X_predict = np.array(images)"
   ]
  },
  {
   "cell_type": "markdown",
   "metadata": {},
   "source": [
    "# Make Predictions"
   ]
  },
  {
   "cell_type": "code",
   "execution_count": 20,
   "metadata": {},
   "outputs": [],
   "source": [
    "Id_data = pd.read_csv('data/IdLookupTable.csv') \n",
    "\n",
    "test_preds = model.predict(X_predict)\n",
    "test_preds[test_preds > 96] = 96\n",
    "\n",
    "image_id = list(Id_data[\"ImageId\"]-1)\n",
    "mark_names = list(Id_data['FeatureName'])\n",
    "mark_id = [mark_names.index(x) for x in mark_names]\n",
    "\n",
    "req_predictions = [test_preds[x,y] for x,y in zip(image_id,mark_id)]\n",
    "\n",
    "rowid = pd.Series(Id_data['RowId'], name = 'RowId')\n",
    "loc = pd.Series(req_predictions, name = 'Location')\n",
    "submission = pd.concat([rowid, loc], axis = 1)\n",
    "submission.to_csv('data/{}submission.csv'.format(subname),index = False)"
   ]
  },
  {
   "cell_type": "code",
   "execution_count": 19,
   "metadata": {},
   "outputs": [
    {
     "data": {
      "text/plain": [
       "'data/3block_2FC_epochs_100_submission.csv'"
      ]
     },
     "execution_count": 19,
     "metadata": {},
     "output_type": "execute_result"
    }
   ],
   "source": [
    "'data/{}submission.csv'.format(subname)"
   ]
  },
  {
   "cell_type": "code",
   "execution_count": null,
   "metadata": {},
   "outputs": [],
   "source": []
  }
 ],
 "metadata": {
  "environment": {
   "name": "tf2-gpu.2-1.m55",
   "type": "gcloud",
   "uri": "gcr.io/deeplearning-platform-release/tf2-gpu.2-1:m55"
  },
  "kernelspec": {
   "display_name": "Python 3",
   "language": "python",
   "name": "python3"
  },
  "language_info": {
   "codemirror_mode": {
    "name": "ipython",
    "version": 3
   },
   "file_extension": ".py",
   "mimetype": "text/x-python",
   "name": "python",
   "nbconvert_exporter": "python",
   "pygments_lexer": "ipython3",
   "version": "3.6.9"
  }
 },
 "nbformat": 4,
 "nbformat_minor": 4
}
