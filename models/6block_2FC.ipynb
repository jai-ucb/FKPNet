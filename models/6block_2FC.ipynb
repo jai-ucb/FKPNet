{
 "cells": [
  {
   "cell_type": "markdown",
   "metadata": {},
   "source": [
    "# GPU Monitor"
   ]
  },
  {
   "cell_type": "code",
   "execution_count": 1,
   "metadata": {},
   "outputs": [],
   "source": [
    "#https://developer.nvidia.com/blog/profiling-and-optimizing-deep-neural-networks-with-dlprof-and-pyprof/\n",
    "#nvidia-smi\n",
    "#nvidia-smi dmon"
   ]
  },
  {
   "cell_type": "markdown",
   "metadata": {},
   "source": [
    "## Import Libs"
   ]
  },
  {
   "cell_type": "code",
   "execution_count": 2,
   "metadata": {},
   "outputs": [],
   "source": [
    "# This tells matplotlib not to try opening a new window for each plot.\n",
    "%matplotlib inline\n",
    "\n",
    "import os\n",
    "####*IMPORANT*: Have to do this line *before* importing tensorflow\n",
    "os.environ['PYTHONHASHSEED']=str(1)\n",
    "\n",
    "# General libraries.\n",
    "import re\n",
    "import numpy as np\n",
    "import matplotlib.pyplot as plt\n",
    "import pandas as pd\n",
    "import pickle\n",
    "\n",
    "from sklearn.datasets import make_regression\n",
    "from sklearn.tree import DecisionTreeRegressor\n",
    "from sklearn.model_selection import cross_val_score\n",
    "from sklearn.metrics import confusion_matrix\n",
    "from sklearn import metrics\n",
    "from sklearn.model_selection import train_test_split\n",
    "from sklearn.ensemble import RandomForestRegressor\n",
    "\n",
    "import cv2\n",
    "from math import sin, cos, pi\n",
    "from time import strftime\n",
    "from datetime import datetime"
   ]
  },
  {
   "cell_type": "code",
   "execution_count": 3,
   "metadata": {},
   "outputs": [],
   "source": [
    "train_data = pd.read_csv('data/training.csv') \n",
    "test_data = pd.read_csv('data/test.csv') \n",
    "Id_data = pd.read_csv('data/IdLookupTable.csv') "
   ]
  },
  {
   "cell_type": "markdown",
   "metadata": {},
   "source": [
    "# MODEL EXAMPLE\n",
    "https://www.tensorflow.org/tutorials/images/cnn"
   ]
  },
  {
   "cell_type": "code",
   "execution_count": 4,
   "metadata": {},
   "outputs": [],
   "source": [
    "from tensorflow import keras\n",
    "from keras.layers import Conv2D,Dropout,Dense,Flatten\n",
    "from keras.models import Sequential\n",
    "from keras.layers.advanced_activations import LeakyReLU\n",
    "from keras.models import Sequential, Model\n",
    "from keras.layers import Activation, Convolution2D, MaxPooling2D, BatchNormalization, Flatten, Dense, Dropout, Conv2D,MaxPool2D, ZeroPadding2D\n",
    "import random\n",
    "import tensorflow as tf\n",
    "\n"
   ]
  },
  {
   "cell_type": "code",
   "execution_count": 5,
   "metadata": {},
   "outputs": [],
   "source": [
    "epochs = 100\n",
    "def reset_random_seeds():\n",
    "    os.environ['PYTHONHASHSEED']=str(1)\n",
    "    tf.random.set_seed(1)\n",
    "    np.random.seed(1)\n",
    "    random.seed(1)\n",
    "\n",
    "#make some random data\n",
    "reset_random_seeds()"
   ]
  },
  {
   "cell_type": "code",
   "execution_count": 6,
   "metadata": {},
   "outputs": [
    {
     "name": "stdout",
     "output_type": "stream",
     "text": [
      "Model: \"sequential\"\n",
      "_________________________________________________________________\n",
      "Layer (type)                 Output Shape              Param #   \n",
      "=================================================================\n",
      "conv2d (Conv2D)              (None, 96, 96, 32)        288       \n",
      "_________________________________________________________________\n",
      "leaky_re_lu (LeakyReLU)      (None, 96, 96, 32)        0         \n",
      "_________________________________________________________________\n",
      "batch_normalization (BatchNo (None, 96, 96, 32)        128       \n",
      "_________________________________________________________________\n",
      "conv2d_1 (Conv2D)            (None, 96, 96, 32)        9216      \n",
      "_________________________________________________________________\n",
      "leaky_re_lu_1 (LeakyReLU)    (None, 96, 96, 32)        0         \n",
      "_________________________________________________________________\n",
      "batch_normalization_1 (Batch (None, 96, 96, 32)        128       \n",
      "_________________________________________________________________\n",
      "max_pooling2d (MaxPooling2D) (None, 48, 48, 32)        0         \n",
      "_________________________________________________________________\n",
      "conv2d_2 (Conv2D)            (None, 48, 48, 64)        18432     \n",
      "_________________________________________________________________\n",
      "leaky_re_lu_2 (LeakyReLU)    (None, 48, 48, 64)        0         \n",
      "_________________________________________________________________\n",
      "batch_normalization_2 (Batch (None, 48, 48, 64)        256       \n",
      "_________________________________________________________________\n",
      "conv2d_3 (Conv2D)            (None, 48, 48, 64)        36864     \n",
      "_________________________________________________________________\n",
      "leaky_re_lu_3 (LeakyReLU)    (None, 48, 48, 64)        0         \n",
      "_________________________________________________________________\n",
      "batch_normalization_3 (Batch (None, 48, 48, 64)        256       \n",
      "_________________________________________________________________\n",
      "max_pooling2d_1 (MaxPooling2 (None, 24, 24, 64)        0         \n",
      "_________________________________________________________________\n",
      "conv2d_4 (Conv2D)            (None, 24, 24, 96)        55296     \n",
      "_________________________________________________________________\n",
      "leaky_re_lu_4 (LeakyReLU)    (None, 24, 24, 96)        0         \n",
      "_________________________________________________________________\n",
      "batch_normalization_4 (Batch (None, 24, 24, 96)        384       \n",
      "_________________________________________________________________\n",
      "conv2d_5 (Conv2D)            (None, 24, 24, 96)        82944     \n",
      "_________________________________________________________________\n",
      "leaky_re_lu_5 (LeakyReLU)    (None, 24, 24, 96)        0         \n",
      "_________________________________________________________________\n",
      "batch_normalization_5 (Batch (None, 24, 24, 96)        384       \n",
      "_________________________________________________________________\n",
      "max_pooling2d_2 (MaxPooling2 (None, 12, 12, 96)        0         \n",
      "_________________________________________________________________\n",
      "conv2d_6 (Conv2D)            (None, 12, 12, 128)       110592    \n",
      "_________________________________________________________________\n",
      "leaky_re_lu_6 (LeakyReLU)    (None, 12, 12, 128)       0         \n",
      "_________________________________________________________________\n",
      "batch_normalization_6 (Batch (None, 12, 12, 128)       512       \n",
      "_________________________________________________________________\n",
      "conv2d_7 (Conv2D)            (None, 12, 12, 128)       147456    \n",
      "_________________________________________________________________\n",
      "leaky_re_lu_7 (LeakyReLU)    (None, 12, 12, 128)       0         \n",
      "_________________________________________________________________\n",
      "batch_normalization_7 (Batch (None, 12, 12, 128)       512       \n",
      "_________________________________________________________________\n",
      "max_pooling2d_3 (MaxPooling2 (None, 6, 6, 128)         0         \n",
      "_________________________________________________________________\n",
      "conv2d_8 (Conv2D)            (None, 6, 6, 256)         294912    \n",
      "_________________________________________________________________\n",
      "leaky_re_lu_8 (LeakyReLU)    (None, 6, 6, 256)         0         \n",
      "_________________________________________________________________\n",
      "batch_normalization_8 (Batch (None, 6, 6, 256)         1024      \n",
      "_________________________________________________________________\n",
      "conv2d_9 (Conv2D)            (None, 6, 6, 256)         589824    \n",
      "_________________________________________________________________\n",
      "leaky_re_lu_9 (LeakyReLU)    (None, 6, 6, 256)         0         \n",
      "_________________________________________________________________\n",
      "batch_normalization_9 (Batch (None, 6, 6, 256)         1024      \n",
      "_________________________________________________________________\n",
      "max_pooling2d_4 (MaxPooling2 (None, 3, 3, 256)         0         \n",
      "_________________________________________________________________\n",
      "conv2d_10 (Conv2D)           (None, 3, 3, 512)         1179648   \n",
      "_________________________________________________________________\n",
      "leaky_re_lu_10 (LeakyReLU)   (None, 3, 3, 512)         0         \n",
      "_________________________________________________________________\n",
      "batch_normalization_10 (Batc (None, 3, 3, 512)         2048      \n",
      "_________________________________________________________________\n",
      "conv2d_11 (Conv2D)           (None, 3, 3, 512)         2359296   \n",
      "_________________________________________________________________\n",
      "leaky_re_lu_11 (LeakyReLU)   (None, 3, 3, 512)         0         \n",
      "_________________________________________________________________\n",
      "batch_normalization_11 (Batc (None, 3, 3, 512)         2048      \n",
      "_________________________________________________________________\n",
      "flatten (Flatten)            (None, 4608)              0         \n",
      "_________________________________________________________________\n",
      "dense (Dense)                (None, 512)               2359808   \n",
      "_________________________________________________________________\n",
      "dropout (Dropout)            (None, 512)               0         \n",
      "_________________________________________________________________\n",
      "dense_1 (Dense)              (None, 30)                15390     \n",
      "=================================================================\n",
      "Total params: 7,268,670\n",
      "Trainable params: 7,264,318\n",
      "Non-trainable params: 4,352\n",
      "_________________________________________________________________\n",
      "('Failed to import pydot. You must `pip install pydot` and install graphviz (https://graphviz.gitlab.io/download/), ', 'for `pydotprint` to work.')\n"
     ]
    }
   ],
   "source": [
    "model = Sequential()\n",
    "\n",
    "#Block 1\n",
    "model.add(Convolution2D(32, (3,3), padding='same', use_bias=False, input_shape=(96,96,1)))\n",
    "model.add(LeakyReLU(alpha = 0.1))\n",
    "model.add(BatchNormalization())\n",
    "\n",
    "model.add(Convolution2D(32, (3,3), padding='same', use_bias=False))\n",
    "model.add(LeakyReLU(alpha = 0.1))\n",
    "model.add(BatchNormalization())\n",
    "model.add(MaxPool2D(pool_size=(2, 2)))\n",
    "\n",
    "#Block 2\n",
    "model.add(Convolution2D(64, (3,3), padding='same', use_bias=False))\n",
    "model.add(LeakyReLU(alpha = 0.1))\n",
    "model.add(BatchNormalization())\n",
    "\n",
    "model.add(Convolution2D(64, (3,3), padding='same', use_bias=False))\n",
    "model.add(LeakyReLU(alpha = 0.1))\n",
    "model.add(BatchNormalization())\n",
    "model.add(MaxPool2D(pool_size=(2, 2)))\n",
    "\n",
    "# Block 3\n",
    "model.add(Convolution2D(96, (3,3), padding='same', use_bias=False))\n",
    "model.add(LeakyReLU(alpha = 0.1))\n",
    "model.add(BatchNormalization())\n",
    "\n",
    "model.add(Convolution2D(96, (3,3), padding='same', use_bias=False))\n",
    "model.add(LeakyReLU(alpha = 0.1))\n",
    "model.add(BatchNormalization())\n",
    "model.add(MaxPool2D(pool_size=(2, 2)))\n",
    "\n",
    "#Block 4\n",
    "model.add(Convolution2D(128, (3,3),padding='same', use_bias=False))\n",
    "model.add(LeakyReLU(alpha = 0.1))\n",
    "model.add(BatchNormalization())\n",
    "\n",
    "model.add(Convolution2D(128, (3,3),padding='same', use_bias=False))\n",
    "model.add(LeakyReLU(alpha = 0.1))\n",
    "model.add(BatchNormalization())\n",
    "model.add(MaxPool2D(pool_size=(2, 2)))\n",
    "\n",
    "#Block 5\n",
    "model.add(Convolution2D(256, (3,3),padding='same',use_bias=False))\n",
    "model.add(LeakyReLU(alpha = 0.1))\n",
    "model.add(BatchNormalization())\n",
    "\n",
    "model.add(Convolution2D(256, (3,3),padding='same',use_bias=False))\n",
    "model.add(LeakyReLU(alpha = 0.1))\n",
    "model.add(BatchNormalization())\n",
    "model.add(MaxPool2D(pool_size=(2, 2)))\n",
    "\n",
    "#Block 6\n",
    "model.add(Convolution2D(512, (3,3), padding='same', use_bias=False))\n",
    "model.add(LeakyReLU(alpha = 0.1))\n",
    "model.add(BatchNormalization())\n",
    "\n",
    "model.add(Convolution2D(512, (3,3), padding='same', use_bias=False))\n",
    "model.add(LeakyReLU(alpha = 0.1))\n",
    "model.add(BatchNormalization())\n",
    "\n",
    "model.add(Flatten())\n",
    "model.add(Dense(512,activation='relu'))\n",
    "model.add(Dropout(0.1))\n",
    "model.add(Dense(30))\n",
    "model.summary()\n",
    "keras.utils.plot_model(model, show_shapes=True)"
   ]
  },
  {
   "cell_type": "code",
   "execution_count": 7,
   "metadata": {},
   "outputs": [],
   "source": [
    "model.compile(optimizer='adam',loss='mean_squared_error',metrics=['mae','accuracy'])"
   ]
  },
  {
   "cell_type": "code",
   "execution_count": 8,
   "metadata": {},
   "outputs": [
    {
     "name": "stdout",
     "output_type": "stream",
     "text": [
      "7049\n"
     ]
    }
   ],
   "source": [
    "train_data = pd.read_csv('data/training.csv')\n",
    "\n",
    "images = []\n",
    "y_train = []\n",
    "\n",
    "print(len(train_data))\n",
    "train_data = train_data.fillna(method = 'ffill')\n",
    "for idx, sample in train_data.iterrows():\n",
    "    image = np.array(sample['Image'].split(' '), dtype=int)\n",
    "    image = np.reshape(image, (96,96,1))\n",
    "    images.append(image)\n",
    "X_train = np.array(images)"
   ]
  },
  {
   "cell_type": "code",
   "execution_count": 9,
   "metadata": {},
   "outputs": [],
   "source": [
    "training = train_data.drop('Image',axis = 1)\n",
    "\n",
    "y_train = []\n",
    "for idx, sample in training.iterrows():\n",
    "    y = training.iloc[idx,:]\n",
    "    y_train.append(y)    \n",
    "y_train = np.array(y_train,dtype = 'float')"
   ]
  },
  {
   "cell_type": "code",
   "execution_count": 10,
   "metadata": {},
   "outputs": [
    {
     "name": "stdout",
     "output_type": "stream",
     "text": [
      "Epoch 1/100\n",
      " 2/13 [===>..........................] - ETA: 2s - loss: 2348.9858 - mae: 44.9870 - accuracy: 0.1044WARNING:tensorflow:Callbacks method `on_train_batch_end` is slow compared to the batch time (batch time: 0.1460s vs `on_train_batch_end` time: 0.2345s). Check your callbacks.\n",
      "13/13 [==============================] - 7s 520ms/step - loss: 580.3337 - mae: 17.1078 - accuracy: 0.2628 - val_loss: 1477.7000 - val_mae: 35.9162 - val_accuracy: 0.6851\n",
      "Epoch 2/100\n",
      "13/13 [==============================] - 5s 395ms/step - loss: 47.7928 - mae: 5.4471 - accuracy: 0.3325 - val_loss: 515.4197 - val_mae: 21.0499 - val_accuracy: 0.6872\n",
      "Epoch 3/100\n",
      "13/13 [==============================] - 5s 393ms/step - loss: 33.2223 - mae: 4.4948 - accuracy: 0.3415 - val_loss: 348.6436 - val_mae: 17.0759 - val_accuracy: 0.6752\n",
      "Epoch 4/100\n",
      "13/13 [==============================] - 5s 392ms/step - loss: 28.1437 - mae: 4.1028 - accuracy: 0.3760 - val_loss: 174.4755 - val_mae: 12.0801 - val_accuracy: 0.6482\n",
      "Epoch 5/100\n",
      "13/13 [==============================] - 5s 390ms/step - loss: 25.7379 - mae: 3.9206 - accuracy: 0.3953 - val_loss: 131.7099 - val_mae: 10.4204 - val_accuracy: 0.6872\n",
      "Epoch 6/100\n",
      "13/13 [==============================] - 5s 389ms/step - loss: 24.5048 - mae: 3.8147 - accuracy: 0.4036 - val_loss: 81.6177 - val_mae: 8.1327 - val_accuracy: 0.6872\n",
      "Epoch 7/100\n",
      "13/13 [==============================] - 5s 398ms/step - loss: 23.3183 - mae: 3.7182 - accuracy: 0.4111 - val_loss: 72.7421 - val_mae: 7.6782 - val_accuracy: 0.6872\n",
      "Epoch 8/100\n",
      "13/13 [==============================] - 5s 388ms/step - loss: 22.3538 - mae: 3.6348 - accuracy: 0.4137 - val_loss: 77.3885 - val_mae: 7.9084 - val_accuracy: 0.6872\n",
      "Epoch 9/100\n",
      "13/13 [==============================] - 5s 389ms/step - loss: 21.3718 - mae: 3.5467 - accuracy: 0.4311 - val_loss: 69.4742 - val_mae: 7.4516 - val_accuracy: 0.6887\n",
      "Epoch 10/100\n",
      "13/13 [==============================] - 5s 390ms/step - loss: 20.4533 - mae: 3.4629 - accuracy: 0.4371 - val_loss: 72.6737 - val_mae: 7.6205 - val_accuracy: 0.6872\n",
      "Epoch 11/100\n",
      "13/13 [==============================] - 5s 397ms/step - loss: 19.3176 - mae: 3.3604 - accuracy: 0.4490 - val_loss: 53.9544 - val_mae: 6.5576 - val_accuracy: 0.6809\n",
      "Epoch 12/100\n",
      "13/13 [==============================] - 5s 394ms/step - loss: 18.6852 - mae: 3.3013 - accuracy: 0.4678 - val_loss: 45.8569 - val_mae: 6.0165 - val_accuracy: 0.6851\n",
      "Epoch 13/100\n",
      "13/13 [==============================] - 5s 388ms/step - loss: 18.0054 - mae: 3.2303 - accuracy: 0.4985 - val_loss: 48.9826 - val_mae: 6.1996 - val_accuracy: 0.6887\n",
      "Epoch 14/100\n",
      "13/13 [==============================] - 5s 391ms/step - loss: 17.3200 - mae: 3.1671 - accuracy: 0.5230 - val_loss: 34.5853 - val_mae: 5.1580 - val_accuracy: 0.6865\n",
      "Epoch 15/100\n",
      "13/13 [==============================] - 5s 391ms/step - loss: 16.6628 - mae: 3.1064 - accuracy: 0.5262 - val_loss: 29.7296 - val_mae: 4.7053 - val_accuracy: 0.6887\n",
      "Epoch 16/100\n",
      "13/13 [==============================] - 5s 387ms/step - loss: 16.2036 - mae: 3.0628 - accuracy: 0.5476 - val_loss: 27.5880 - val_mae: 4.5389 - val_accuracy: 0.6908\n",
      "Epoch 17/100\n",
      "13/13 [==============================] - 5s 387ms/step - loss: 15.5969 - mae: 2.9948 - accuracy: 0.5636 - val_loss: 26.9950 - val_mae: 4.4987 - val_accuracy: 0.6887\n",
      "Epoch 18/100\n",
      "13/13 [==============================] - 5s 387ms/step - loss: 14.9977 - mae: 2.9413 - accuracy: 0.5691 - val_loss: 30.9478 - val_mae: 4.8685 - val_accuracy: 0.6929\n",
      "Epoch 19/100\n",
      "13/13 [==============================] - 5s 386ms/step - loss: 14.7102 - mae: 2.9069 - accuracy: 0.5909 - val_loss: 26.7089 - val_mae: 4.4652 - val_accuracy: 0.6908\n",
      "Epoch 20/100\n",
      "13/13 [==============================] - 5s 387ms/step - loss: 14.1929 - mae: 2.8579 - accuracy: 0.5980 - val_loss: 30.5469 - val_mae: 4.8399 - val_accuracy: 0.6957\n",
      "Epoch 21/100\n",
      "13/13 [==============================] - 5s 387ms/step - loss: 13.7164 - mae: 2.8106 - accuracy: 0.6193 - val_loss: 25.6948 - val_mae: 4.3571 - val_accuracy: 0.6894\n",
      "Epoch 22/100\n",
      "13/13 [==============================] - 5s 386ms/step - loss: 13.2281 - mae: 2.7536 - accuracy: 0.6138 - val_loss: 23.3004 - val_mae: 4.1211 - val_accuracy: 0.6979\n",
      "Epoch 23/100\n",
      "13/13 [==============================] - 5s 386ms/step - loss: 13.0789 - mae: 2.7441 - accuracy: 0.6310 - val_loss: 23.1317 - val_mae: 4.1212 - val_accuracy: 0.6929\n",
      "Epoch 24/100\n",
      "13/13 [==============================] - 5s 386ms/step - loss: 13.1035 - mae: 2.7501 - accuracy: 0.6404 - val_loss: 21.0938 - val_mae: 3.8657 - val_accuracy: 0.6950\n",
      "Epoch 25/100\n",
      "13/13 [==============================] - 5s 389ms/step - loss: 13.1951 - mae: 2.7623 - accuracy: 0.6397 - val_loss: 10.2342 - val_mae: 2.4481 - val_accuracy: 0.7050\n",
      "Epoch 26/100\n",
      "13/13 [==============================] - 5s 386ms/step - loss: 12.1327 - mae: 2.6480 - accuracy: 0.6375 - val_loss: 13.7477 - val_mae: 3.0100 - val_accuracy: 0.6915\n",
      "Epoch 27/100\n",
      "13/13 [==============================] - 5s 386ms/step - loss: 11.5593 - mae: 2.5805 - accuracy: 0.6561 - val_loss: 10.6336 - val_mae: 2.5326 - val_accuracy: 0.7035\n",
      "Epoch 28/100\n",
      "13/13 [==============================] - 5s 386ms/step - loss: 11.8080 - mae: 2.6158 - accuracy: 0.6620 - val_loss: 8.9395 - val_mae: 2.2117 - val_accuracy: 0.7142\n",
      "Epoch 29/100\n",
      "13/13 [==============================] - 5s 387ms/step - loss: 11.0223 - mae: 2.5204 - accuracy: 0.6585 - val_loss: 13.3338 - val_mae: 2.9355 - val_accuracy: 0.7121\n",
      "Epoch 30/100\n",
      "13/13 [==============================] - 5s 387ms/step - loss: 11.1722 - mae: 2.5432 - accuracy: 0.6655 - val_loss: 6.7979 - val_mae: 1.7927 - val_accuracy: 0.6943\n",
      "Epoch 31/100\n",
      "13/13 [==============================] - 5s 387ms/step - loss: 10.4297 - mae: 2.4577 - accuracy: 0.6680 - val_loss: 17.2093 - val_mae: 3.3926 - val_accuracy: 0.6986\n",
      "Epoch 32/100\n",
      "13/13 [==============================] - 5s 389ms/step - loss: 10.7094 - mae: 2.4984 - accuracy: 0.6693 - val_loss: 6.2537 - val_mae: 1.7134 - val_accuracy: 0.6972\n",
      "Epoch 33/100\n",
      "13/13 [==============================] - 5s 388ms/step - loss: 10.6134 - mae: 2.4865 - accuracy: 0.6765 - val_loss: 3.8561 - val_mae: 1.0762 - val_accuracy: 0.6922\n",
      "Epoch 34/100\n",
      "13/13 [==============================] - 5s 389ms/step - loss: 10.9664 - mae: 2.5387 - accuracy: 0.6905 - val_loss: 9.1676 - val_mae: 2.3414 - val_accuracy: 0.6950\n",
      "Epoch 35/100\n",
      "13/13 [==============================] - 5s 387ms/step - loss: 10.0475 - mae: 2.4186 - accuracy: 0.6749 - val_loss: 12.0594 - val_mae: 2.8003 - val_accuracy: 0.6950\n",
      "Epoch 36/100\n",
      "13/13 [==============================] - 5s 386ms/step - loss: 10.0583 - mae: 2.4223 - accuracy: 0.6971 - val_loss: 3.3007 - val_mae: 1.0093 - val_accuracy: 0.7021\n",
      "Epoch 37/100\n",
      "13/13 [==============================] - 5s 387ms/step - loss: 10.0548 - mae: 2.4260 - accuracy: 0.6920 - val_loss: 3.1758 - val_mae: 1.0504 - val_accuracy: 0.7007\n",
      "Epoch 38/100\n",
      "13/13 [==============================] - 5s 390ms/step - loss: 9.5708 - mae: 2.3666 - accuracy: 0.6999 - val_loss: 3.3828 - val_mae: 1.1646 - val_accuracy: 0.7000\n",
      "Epoch 39/100\n",
      "13/13 [==============================] - 5s 393ms/step - loss: 9.2543 - mae: 2.3226 - accuracy: 0.6962 - val_loss: 3.3570 - val_mae: 1.0212 - val_accuracy: 0.7234\n",
      "Epoch 40/100\n",
      "13/13 [==============================] - 5s 397ms/step - loss: 8.8072 - mae: 2.2690 - accuracy: 0.7065 - val_loss: 4.9060 - val_mae: 1.4103 - val_accuracy: 0.7390\n",
      "Epoch 41/100\n",
      "13/13 [==============================] - 5s 391ms/step - loss: 8.4676 - mae: 2.2246 - accuracy: 0.7186 - val_loss: 7.7598 - val_mae: 2.1502 - val_accuracy: 0.7262\n",
      "Epoch 42/100\n",
      "13/13 [==============================] - 5s 392ms/step - loss: 8.2739 - mae: 2.1979 - accuracy: 0.7166 - val_loss: 5.6672 - val_mae: 1.6342 - val_accuracy: 0.7291\n",
      "Epoch 43/100\n",
      "13/13 [==============================] - 5s 391ms/step - loss: 8.1802 - mae: 2.1881 - accuracy: 0.7234 - val_loss: 5.7147 - val_mae: 1.7023 - val_accuracy: 0.7369\n",
      "Epoch 44/100\n",
      "13/13 [==============================] - 5s 397ms/step - loss: 7.6112 - mae: 2.1104 - accuracy: 0.7297 - val_loss: 7.2299 - val_mae: 2.0177 - val_accuracy: 0.7390\n",
      "Epoch 45/100\n",
      "13/13 [==============================] - 5s 387ms/step - loss: 7.6384 - mae: 2.1135 - accuracy: 0.7218 - val_loss: 9.5950 - val_mae: 2.4085 - val_accuracy: 0.7149\n",
      "Epoch 46/100\n",
      "13/13 [==============================] - 5s 388ms/step - loss: 8.8982 - mae: 2.2952 - accuracy: 0.7384 - val_loss: 3.9343 - val_mae: 1.1358 - val_accuracy: 0.7369\n",
      "Epoch 47/100\n",
      "13/13 [==============================] - 5s 393ms/step - loss: 7.2476 - mae: 2.0643 - accuracy: 0.7379 - val_loss: 4.4037 - val_mae: 1.3327 - val_accuracy: 0.7433\n",
      "Epoch 48/100\n",
      "13/13 [==============================] - 5s 394ms/step - loss: 7.4494 - mae: 2.0944 - accuracy: 0.7374 - val_loss: 7.7203 - val_mae: 2.1113 - val_accuracy: 0.7440\n",
      "Epoch 49/100\n",
      "13/13 [==============================] - 5s 395ms/step - loss: 8.4321 - mae: 2.2302 - accuracy: 0.7446 - val_loss: 5.3876 - val_mae: 1.5981 - val_accuracy: 0.7397\n",
      "Epoch 50/100\n",
      "13/13 [==============================] - 5s 397ms/step - loss: 7.1457 - mae: 2.0465 - accuracy: 0.7427 - val_loss: 2.8501 - val_mae: 0.8793 - val_accuracy: 0.7241\n",
      "Epoch 51/100\n",
      "13/13 [==============================] - 5s 395ms/step - loss: 7.9799 - mae: 2.1706 - accuracy: 0.7461 - val_loss: 3.5247 - val_mae: 1.1401 - val_accuracy: 0.7340\n",
      "Epoch 52/100\n",
      "13/13 [==============================] - 5s 397ms/step - loss: 9.3323 - mae: 2.3582 - accuracy: 0.7505 - val_loss: 2.8296 - val_mae: 1.0149 - val_accuracy: 0.7511\n",
      "Epoch 53/100\n",
      "13/13 [==============================] - 5s 396ms/step - loss: 7.4839 - mae: 2.1099 - accuracy: 0.7537 - val_loss: 3.1350 - val_mae: 1.0131 - val_accuracy: 0.7376\n",
      "Epoch 54/100\n",
      "13/13 [==============================] - 5s 394ms/step - loss: 6.5939 - mae: 1.9667 - accuracy: 0.7531 - val_loss: 3.3269 - val_mae: 1.0978 - val_accuracy: 0.7560\n",
      "Epoch 55/100\n",
      "13/13 [==============================] - 5s 397ms/step - loss: 7.1092 - mae: 2.0466 - accuracy: 0.7578 - val_loss: 6.7661 - val_mae: 2.1440 - val_accuracy: 0.7390\n",
      "Epoch 56/100\n",
      "13/13 [==============================] - 5s 396ms/step - loss: 7.9733 - mae: 2.1737 - accuracy: 0.7611 - val_loss: 3.0469 - val_mae: 1.0410 - val_accuracy: 0.7511\n",
      "Epoch 57/100\n",
      "13/13 [==============================] - 5s 396ms/step - loss: 6.7675 - mae: 1.9980 - accuracy: 0.7555 - val_loss: 2.8314 - val_mae: 0.9365 - val_accuracy: 0.7496\n",
      "Epoch 58/100\n",
      "13/13 [==============================] - 5s 393ms/step - loss: 6.1723 - mae: 1.9050 - accuracy: 0.7640 - val_loss: 3.0484 - val_mae: 0.9427 - val_accuracy: 0.7546\n",
      "Epoch 59/100\n",
      "13/13 [==============================] - 5s 392ms/step - loss: 6.0315 - mae: 1.8829 - accuracy: 0.7629 - val_loss: 2.5679 - val_mae: 0.8601 - val_accuracy: 0.7468\n",
      "Epoch 60/100\n",
      "13/13 [==============================] - 5s 394ms/step - loss: 6.6073 - mae: 1.9771 - accuracy: 0.7712 - val_loss: 3.8364 - val_mae: 1.4415 - val_accuracy: 0.7362\n",
      "Epoch 61/100\n",
      "13/13 [==============================] - 5s 395ms/step - loss: 7.2105 - mae: 2.0690 - accuracy: 0.7638 - val_loss: 2.3651 - val_mae: 0.8091 - val_accuracy: 0.7908\n",
      "Epoch 62/100\n",
      "13/13 [==============================] - 5s 396ms/step - loss: 6.5465 - mae: 1.9662 - accuracy: 0.7883 - val_loss: 2.7160 - val_mae: 0.8958 - val_accuracy: 0.7674\n",
      "Epoch 63/100\n",
      "13/13 [==============================] - 5s 396ms/step - loss: 6.1033 - mae: 1.8981 - accuracy: 0.7773 - val_loss: 2.8927 - val_mae: 0.9523 - val_accuracy: 0.7652\n",
      "Epoch 64/100\n",
      "13/13 [==============================] - 5s 394ms/step - loss: 6.6492 - mae: 1.9828 - accuracy: 0.7771 - val_loss: 2.7421 - val_mae: 0.9914 - val_accuracy: 0.7766\n",
      "Epoch 65/100\n",
      "13/13 [==============================] - 5s 392ms/step - loss: 6.0270 - mae: 1.8868 - accuracy: 0.7854 - val_loss: 3.2179 - val_mae: 1.1852 - val_accuracy: 0.7504\n",
      "Epoch 66/100\n",
      "13/13 [==============================] - 5s 392ms/step - loss: 6.8316 - mae: 2.0179 - accuracy: 0.7906 - val_loss: 7.5827 - val_mae: 2.1107 - val_accuracy: 0.7667\n",
      "Epoch 67/100\n",
      "13/13 [==============================] - 5s 392ms/step - loss: 6.8842 - mae: 2.0222 - accuracy: 0.7829 - val_loss: 8.6265 - val_mae: 2.4683 - val_accuracy: 0.7397\n",
      "Epoch 68/100\n",
      "13/13 [==============================] - 5s 391ms/step - loss: 6.4931 - mae: 1.9541 - accuracy: 0.7904 - val_loss: 3.1543 - val_mae: 1.0189 - val_accuracy: 0.7560\n",
      "Epoch 69/100\n",
      "13/13 [==============================] - 5s 397ms/step - loss: 5.9660 - mae: 1.8698 - accuracy: 0.7845 - val_loss: 2.5968 - val_mae: 0.8619 - val_accuracy: 0.7716\n",
      "Epoch 70/100\n",
      "13/13 [==============================] - 5s 389ms/step - loss: 5.5878 - mae: 1.8129 - accuracy: 0.8042 - val_loss: 3.2835 - val_mae: 1.2610 - val_accuracy: 0.7567\n",
      "Epoch 71/100\n",
      "13/13 [==============================] - 5s 394ms/step - loss: 5.3124 - mae: 1.7659 - accuracy: 0.7948 - val_loss: 2.8912 - val_mae: 1.0519 - val_accuracy: 0.7525\n",
      "Epoch 72/100\n",
      "13/13 [==============================] - 5s 392ms/step - loss: 5.3984 - mae: 1.7860 - accuracy: 0.7909 - val_loss: 3.5016 - val_mae: 1.2283 - val_accuracy: 0.7766\n",
      "Epoch 73/100\n",
      "13/13 [==============================] - 5s 393ms/step - loss: 5.3418 - mae: 1.7745 - accuracy: 0.7998 - val_loss: 2.3881 - val_mae: 0.8008 - val_accuracy: 0.7773\n",
      "Epoch 74/100\n",
      "13/13 [==============================] - 5s 395ms/step - loss: 5.1451 - mae: 1.7382 - accuracy: 0.7996 - val_loss: 2.7690 - val_mae: 0.8389 - val_accuracy: 0.7369\n",
      "Epoch 75/100\n",
      "13/13 [==============================] - 5s 392ms/step - loss: 5.7391 - mae: 1.8361 - accuracy: 0.8081 - val_loss: 2.6207 - val_mae: 0.9132 - val_accuracy: 0.7340\n",
      "Epoch 76/100\n",
      "13/13 [==============================] - 5s 394ms/step - loss: 6.0014 - mae: 1.8826 - accuracy: 0.7978 - val_loss: 5.6309 - val_mae: 1.6692 - val_accuracy: 0.7837\n",
      "Epoch 77/100\n",
      "13/13 [==============================] - 5s 395ms/step - loss: 5.4917 - mae: 1.7941 - accuracy: 0.8127 - val_loss: 3.0595 - val_mae: 1.0346 - val_accuracy: 0.7780\n",
      "Epoch 78/100\n",
      "13/13 [==============================] - 5s 394ms/step - loss: 5.6718 - mae: 1.8225 - accuracy: 0.7961 - val_loss: 2.9181 - val_mae: 0.9327 - val_accuracy: 0.7752\n",
      "Epoch 79/100\n",
      "13/13 [==============================] - 5s 394ms/step - loss: 5.2993 - mae: 1.7626 - accuracy: 0.8142 - val_loss: 3.9264 - val_mae: 1.4349 - val_accuracy: 0.7730\n",
      "Epoch 80/100\n",
      "13/13 [==============================] - 5s 396ms/step - loss: 5.4817 - mae: 1.7972 - accuracy: 0.8157 - val_loss: 2.8344 - val_mae: 0.8816 - val_accuracy: 0.7759\n",
      "Epoch 81/100\n",
      "13/13 [==============================] - 5s 391ms/step - loss: 4.9132 - mae: 1.6919 - accuracy: 0.8063 - val_loss: 2.4692 - val_mae: 0.9405 - val_accuracy: 0.7681\n",
      "Epoch 82/100\n",
      "13/13 [==============================] - 5s 395ms/step - loss: 5.1863 - mae: 1.7514 - accuracy: 0.8101 - val_loss: 4.1160 - val_mae: 1.5095 - val_accuracy: 0.7801\n",
      "Epoch 83/100\n",
      "13/13 [==============================] - 5s 394ms/step - loss: 7.4572 - mae: 2.1139 - accuracy: 0.8161 - val_loss: 3.3775 - val_mae: 1.1940 - val_accuracy: 0.7589\n",
      "Epoch 84/100\n",
      "13/13 [==============================] - 5s 391ms/step - loss: 6.3530 - mae: 1.9328 - accuracy: 0.8021 - val_loss: 2.3962 - val_mae: 0.7354 - val_accuracy: 0.7461\n",
      "Epoch 85/100\n",
      "13/13 [==============================] - 5s 396ms/step - loss: 5.2872 - mae: 1.7541 - accuracy: 0.8127 - val_loss: 5.9575 - val_mae: 1.9755 - val_accuracy: 0.7809\n",
      "Epoch 86/100\n",
      "13/13 [==============================] - 5s 389ms/step - loss: 5.1189 - mae: 1.7348 - accuracy: 0.8122 - val_loss: 2.5604 - val_mae: 0.8578 - val_accuracy: 0.7709\n",
      "Epoch 87/100\n",
      "13/13 [==============================] - 5s 391ms/step - loss: 4.6518 - mae: 1.6469 - accuracy: 0.8204 - val_loss: 2.5779 - val_mae: 0.9550 - val_accuracy: 0.7943\n",
      "Epoch 88/100\n",
      "13/13 [==============================] - 5s 396ms/step - loss: 4.6743 - mae: 1.6519 - accuracy: 0.8202 - val_loss: 2.8095 - val_mae: 0.9976 - val_accuracy: 0.7695\n",
      "Epoch 89/100\n",
      "13/13 [==============================] - 5s 396ms/step - loss: 4.8750 - mae: 1.6886 - accuracy: 0.8156 - val_loss: 2.6515 - val_mae: 1.0232 - val_accuracy: 0.7851\n",
      "Epoch 90/100\n",
      "13/13 [==============================] - 5s 395ms/step - loss: 4.5103 - mae: 1.6266 - accuracy: 0.8236 - val_loss: 2.6433 - val_mae: 0.8327 - val_accuracy: 0.7794\n",
      "Epoch 91/100\n",
      "13/13 [==============================] - 5s 396ms/step - loss: 4.5204 - mae: 1.6225 - accuracy: 0.8234 - val_loss: 2.6523 - val_mae: 0.9113 - val_accuracy: 0.7837\n"
     ]
    },
    {
     "name": "stdout",
     "output_type": "stream",
     "text": [
      "Epoch 92/100\n",
      "13/13 [==============================] - 5s 395ms/step - loss: 4.6915 - mae: 1.6558 - accuracy: 0.8225 - val_loss: 2.7746 - val_mae: 0.8127 - val_accuracy: 0.7596\n",
      "Epoch 93/100\n",
      "13/13 [==============================] - 5s 393ms/step - loss: 4.3636 - mae: 1.5933 - accuracy: 0.8278 - val_loss: 2.5130 - val_mae: 0.8005 - val_accuracy: 0.7801\n",
      "Epoch 94/100\n",
      "13/13 [==============================] - 5s 396ms/step - loss: 4.3678 - mae: 1.5919 - accuracy: 0.8234 - val_loss: 3.3967 - val_mae: 1.1687 - val_accuracy: 0.7993\n",
      "Epoch 95/100\n",
      "13/13 [==============================] - 5s 398ms/step - loss: 5.8972 - mae: 1.8619 - accuracy: 0.8255 - val_loss: 4.5952 - val_mae: 1.6309 - val_accuracy: 0.7965\n",
      "Epoch 96/100\n",
      "13/13 [==============================] - 5s 399ms/step - loss: 5.1876 - mae: 1.7406 - accuracy: 0.8308 - val_loss: 3.0689 - val_mae: 1.1465 - val_accuracy: 0.7922\n",
      "Epoch 97/100\n",
      "13/13 [==============================] - 5s 392ms/step - loss: 5.1234 - mae: 1.7323 - accuracy: 0.8275 - val_loss: 3.8641 - val_mae: 1.4744 - val_accuracy: 0.7489\n",
      "Epoch 98/100\n",
      "13/13 [==============================] - 5s 406ms/step - loss: 4.8354 - mae: 1.6777 - accuracy: 0.8310 - val_loss: 2.2413 - val_mae: 0.7396 - val_accuracy: 0.7688\n",
      "Epoch 99/100\n",
      "13/13 [==============================] - 5s 395ms/step - loss: 4.7231 - mae: 1.6555 - accuracy: 0.8179 - val_loss: 4.1185 - val_mae: 1.5209 - val_accuracy: 0.8028\n",
      "Epoch 100/100\n",
      "13/13 [==============================] - 5s 389ms/step - loss: 4.6080 - mae: 1.6339 - accuracy: 0.8333 - val_loss: 3.2508 - val_mae: 1.2714 - val_accuracy: 0.7865\n",
      "Duration: 0:08:50.315857\n"
     ]
    }
   ],
   "source": [
    "start_time = datetime.now()\n",
    "history = model.fit(X_train,y_train,epochs = epochs,batch_size = 450,validation_split = 0.2)\n",
    "end_time = datetime.now()\n",
    "print('Duration: {}'.format(end_time - start_time))"
   ]
  },
  {
   "cell_type": "code",
   "execution_count": 11,
   "metadata": {
    "scrolled": true
   },
   "outputs": [
    {
     "name": "stdout",
     "output_type": "stream",
     "text": [
      "221/221 - 3s - loss: 2.5037 - mae: 1.2058 - accuracy: 0.8745\n"
     ]
    },
    {
     "data": {
      "image/png": "[encoded data removed]",
      "text/plain": [
       "<Figure size 432x288 with 1 Axes>"
      ]
     },
     "metadata": {
      "needs_background": "light"
     },
     "output_type": "display_data"
    }
   ],
   "source": [
    "plt.plot(history.history['accuracy'], label='accuracy')\n",
    "plt.plot(history.history['val_accuracy'], label = 'val_accuracy')\n",
    "plt.xlabel('Epoch')\n",
    "plt.ylabel('Accuracy')\n",
    "plt.ylim([0.5, 1])\n",
    "plt.legend(loc='lower right')\n",
    "\n",
    "test_loss, test_acc, acc = model.evaluate(X_train,y_train, verbose=2)"
   ]
  },
  {
   "cell_type": "code",
   "execution_count": 12,
   "metadata": {},
   "outputs": [],
   "source": [
    "arc = '6block_2FC'\n",
    "subname = '{}_epochs_{}_'.format(arc, epochs)\n",
    "model_name = \"data/models/\"+subname+strftime(\"%Y-%m-%d_%H-%M-%S\")+\".keras\"\n",
    "model.save(model_name)"
   ]
  },
  {
   "cell_type": "code",
   "execution_count": 13,
   "metadata": {},
   "outputs": [
    {
     "data": {
      "text/plain": [
       "'data/models/6block_2FC_epochs_100_2020-12-05_00-55-39.keras'"
      ]
     },
     "execution_count": 13,
     "metadata": {},
     "output_type": "execute_result"
    }
   ],
   "source": [
    "model_name"
   ]
  },
  {
   "cell_type": "code",
   "execution_count": 14,
   "metadata": {},
   "outputs": [],
   "source": [
    "# model_name = \"model_simple_nn_2020-11-13_06-57-10.keras\"\n",
    "model = keras.models.load_model(model_name)"
   ]
  },
  {
   "cell_type": "code",
   "execution_count": 15,
   "metadata": {},
   "outputs": [
    {
     "name": "stdout",
     "output_type": "stream",
     "text": [
      "('Failed to import pydot. You must `pip install pydot` and install graphviz (https://graphviz.gitlab.io/download/), ', 'for `pydotprint` to work.')\n"
     ]
    }
   ],
   "source": [
    "keras.utils.plot_model(model, show_shapes=True)"
   ]
  },
  {
   "cell_type": "code",
   "execution_count": 16,
   "metadata": {},
   "outputs": [],
   "source": [
    "images = []\n",
    "\n",
    "test_data = pd.read_csv('data/test.csv') \n",
    "for idx, sample in test_data.iterrows():\n",
    "    image = np.array(sample['Image'].split(' '), dtype=int)\n",
    "    image = np.reshape(image, (96,96,1))\n",
    "    images.append(image)\n",
    "X_predict = np.array(images)"
   ]
  },
  {
   "cell_type": "markdown",
   "metadata": {},
   "source": [
    "# Make Predictions"
   ]
  },
  {
   "cell_type": "code",
   "execution_count": 17,
   "metadata": {},
   "outputs": [],
   "source": [
    "Id_data = pd.read_csv('data/IdLookupTable.csv') \n",
    "\n",
    "test_preds = model.predict(X_predict)\n",
    "test_preds[test_preds > 96] = 96\n",
    "\n",
    "image_id = list(Id_data[\"ImageId\"]-1)\n",
    "mark_names = list(Id_data['FeatureName'])\n",
    "mark_id = [mark_names.index(x) for x in mark_names]\n",
    "\n",
    "req_predictions = [test_preds[x,y] for x,y in zip(image_id,mark_id)]\n",
    "\n",
    "rowid = pd.Series(Id_data['RowId'], name = 'RowId')\n",
    "loc = pd.Series(req_predictions, name = 'Location')\n",
    "submission = pd.concat([rowid, loc], axis = 1)\n",
    "submission.to_csv('data/{}submission.csv'.format(subname),index = False)"
   ]
  },
  {
   "cell_type": "code",
   "execution_count": 18,
   "metadata": {},
   "outputs": [
    {
     "data": {
      "text/plain": [
       "'data/6block_2FC_epochs_100_submission.csv'"
      ]
     },
     "execution_count": 18,
     "metadata": {},
     "output_type": "execute_result"
    }
   ],
   "source": [
    "'data/{}submission.csv'.format(subname)"
   ]
  },
  {
   "cell_type": "code",
   "execution_count": null,
   "metadata": {},
   "outputs": [],
   "source": []
  }
 ],
 "metadata": {
  "environment": {
   "name": "tf2-gpu.2-1.m55",
   "type": "gcloud",
   "uri": "gcr.io/deeplearning-platform-release/tf2-gpu.2-1:m55"
  },
  "kernelspec": {
   "display_name": "Python 3",
   "language": "python",
   "name": "python3"
  },
  "language_info": {
   "codemirror_mode": {
    "name": "ipython",
    "version": 3
   },
   "file_extension": ".py",
   "mimetype": "text/x-python",
   "name": "python",
   "nbconvert_exporter": "python",
   "pygments_lexer": "ipython3",
   "version": "3.6.9"
  }
 },
 "nbformat": 4,
 "nbformat_minor": 4
}
