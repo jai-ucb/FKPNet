{
 "cells": [
  {
   "cell_type": "markdown",
   "metadata": {},
   "source": [
    "# GPU Monitor"
   ]
  },
  {
   "cell_type": "code",
   "execution_count": 1,
   "metadata": {},
   "outputs": [],
   "source": [
    "#https://developer.nvidia.com/blog/profiling-and-optimizing-deep-neural-networks-with-dlprof-and-pyprof/\n",
    "#nvidia-smi\n",
    "#nvidia-smi dmon"
   ]
  },
  {
   "cell_type": "markdown",
   "metadata": {},
   "source": [
    "## Import Libs"
   ]
  },
  {
   "cell_type": "code",
   "execution_count": 2,
   "metadata": {},
   "outputs": [],
   "source": [
    "# This tells matplotlib not to try opening a new window for each plot.\n",
    "%matplotlib inline\n",
    "\n",
    "import os\n",
    "####*IMPORANT*: Have to do this line *before* importing tensorflow\n",
    "os.environ['PYTHONHASHSEED']=str(1)\n",
    "\n",
    "# General libraries.\n",
    "import re\n",
    "import numpy as np\n",
    "import matplotlib.pyplot as plt\n",
    "import pandas as pd\n",
    "import pickle\n",
    "\n",
    "from sklearn.datasets import make_regression\n",
    "from sklearn.tree import DecisionTreeRegressor\n",
    "from sklearn.model_selection import cross_val_score\n",
    "from sklearn.metrics import confusion_matrix\n",
    "from sklearn import metrics\n",
    "from sklearn.model_selection import train_test_split\n",
    "from sklearn.ensemble import RandomForestRegressor\n",
    "\n",
    "import cv2\n",
    "from math import sin, cos, pi\n",
    "from time import strftime\n",
    "from datetime import datetime"
   ]
  },
  {
   "cell_type": "code",
   "execution_count": 3,
   "metadata": {},
   "outputs": [],
   "source": [
    "train_data = pd.read_csv('data/training.csv') \n",
    "test_data = pd.read_csv('data/test.csv') \n",
    "Id_data = pd.read_csv('data/IdLookupTable.csv') "
   ]
  },
  {
   "cell_type": "markdown",
   "metadata": {},
   "source": [
    "# MODEL EXAMPLE\n",
    "https://www.tensorflow.org/tutorials/images/cnn"
   ]
  },
  {
   "cell_type": "code",
   "execution_count": 4,
   "metadata": {},
   "outputs": [],
   "source": [
    "from tensorflow import keras\n",
    "from keras.layers import Conv2D,Dropout,Dense,Flatten\n",
    "from keras.models import Sequential\n",
    "from keras.layers.advanced_activations import LeakyReLU\n",
    "from keras.models import Sequential, Model\n",
    "from keras.layers import Activation, Convolution2D, MaxPooling2D, BatchNormalization, Flatten, Dense, Dropout, Conv2D,MaxPool2D, ZeroPadding2D\n",
    "import random\n",
    "import tensorflow as tf\n",
    "\n"
   ]
  },
  {
   "cell_type": "code",
   "execution_count": 5,
   "metadata": {},
   "outputs": [],
   "source": [
    "epochs = 100\n",
    "def reset_random_seeds():\n",
    "    os.environ['PYTHONHASHSEED']=str(1)\n",
    "    tf.random.set_seed(1)\n",
    "    np.random.seed(1)\n",
    "    random.seed(1)\n",
    "\n",
    "#make some random data\n",
    "reset_random_seeds()"
   ]
  },
  {
   "cell_type": "code",
   "execution_count": 6,
   "metadata": {},
   "outputs": [
    {
     "name": "stdout",
     "output_type": "stream",
     "text": [
      "Model: \"sequential\"\n",
      "_________________________________________________________________\n",
      "Layer (type)                 Output Shape              Param #   \n",
      "=================================================================\n",
      "conv2d (Conv2D)              (None, 96, 96, 32)        288       \n",
      "_________________________________________________________________\n",
      "leaky_re_lu (LeakyReLU)      (None, 96, 96, 32)        0         \n",
      "_________________________________________________________________\n",
      "batch_normalization (BatchNo (None, 96, 96, 32)        128       \n",
      "_________________________________________________________________\n",
      "conv2d_1 (Conv2D)            (None, 96, 96, 32)        9216      \n",
      "_________________________________________________________________\n",
      "leaky_re_lu_1 (LeakyReLU)    (None, 96, 96, 32)        0         \n",
      "_________________________________________________________________\n",
      "batch_normalization_1 (Batch (None, 96, 96, 32)        128       \n",
      "_________________________________________________________________\n",
      "max_pooling2d (MaxPooling2D) (None, 48, 48, 32)        0         \n",
      "_________________________________________________________________\n",
      "conv2d_2 (Conv2D)            (None, 48, 48, 64)        18432     \n",
      "_________________________________________________________________\n",
      "leaky_re_lu_2 (LeakyReLU)    (None, 48, 48, 64)        0         \n",
      "_________________________________________________________________\n",
      "batch_normalization_2 (Batch (None, 48, 48, 64)        256       \n",
      "_________________________________________________________________\n",
      "conv2d_3 (Conv2D)            (None, 48, 48, 64)        36864     \n",
      "_________________________________________________________________\n",
      "leaky_re_lu_3 (LeakyReLU)    (None, 48, 48, 64)        0         \n",
      "_________________________________________________________________\n",
      "batch_normalization_3 (Batch (None, 48, 48, 64)        256       \n",
      "_________________________________________________________________\n",
      "max_pooling2d_1 (MaxPooling2 (None, 24, 24, 64)        0         \n",
      "_________________________________________________________________\n",
      "conv2d_4 (Conv2D)            (None, 24, 24, 96)        55296     \n",
      "_________________________________________________________________\n",
      "leaky_re_lu_4 (LeakyReLU)    (None, 24, 24, 96)        0         \n",
      "_________________________________________________________________\n",
      "batch_normalization_4 (Batch (None, 24, 24, 96)        384       \n",
      "_________________________________________________________________\n",
      "conv2d_5 (Conv2D)            (None, 24, 24, 96)        82944     \n",
      "_________________________________________________________________\n",
      "leaky_re_lu_5 (LeakyReLU)    (None, 24, 24, 96)        0         \n",
      "_________________________________________________________________\n",
      "batch_normalization_5 (Batch (None, 24, 24, 96)        384       \n",
      "_________________________________________________________________\n",
      "max_pooling2d_2 (MaxPooling2 (None, 12, 12, 96)        0         \n",
      "_________________________________________________________________\n",
      "conv2d_6 (Conv2D)            (None, 12, 12, 128)       110592    \n",
      "_________________________________________________________________\n",
      "leaky_re_lu_6 (LeakyReLU)    (None, 12, 12, 128)       0         \n",
      "_________________________________________________________________\n",
      "batch_normalization_6 (Batch (None, 12, 12, 128)       512       \n",
      "_________________________________________________________________\n",
      "conv2d_7 (Conv2D)            (None, 12, 12, 128)       147456    \n",
      "_________________________________________________________________\n",
      "leaky_re_lu_7 (LeakyReLU)    (None, 12, 12, 128)       0         \n",
      "_________________________________________________________________\n",
      "batch_normalization_7 (Batch (None, 12, 12, 128)       512       \n",
      "_________________________________________________________________\n",
      "max_pooling2d_3 (MaxPooling2 (None, 6, 6, 128)         0         \n",
      "_________________________________________________________________\n",
      "conv2d_8 (Conv2D)            (None, 6, 6, 256)         294912    \n",
      "_________________________________________________________________\n",
      "leaky_re_lu_8 (LeakyReLU)    (None, 6, 6, 256)         0         \n",
      "_________________________________________________________________\n",
      "batch_normalization_8 (Batch (None, 6, 6, 256)         1024      \n",
      "_________________________________________________________________\n",
      "conv2d_9 (Conv2D)            (None, 6, 6, 256)         589824    \n",
      "_________________________________________________________________\n",
      "leaky_re_lu_9 (LeakyReLU)    (None, 6, 6, 256)         0         \n",
      "_________________________________________________________________\n",
      "batch_normalization_9 (Batch (None, 6, 6, 256)         1024      \n",
      "_________________________________________________________________\n",
      "max_pooling2d_4 (MaxPooling2 (None, 3, 3, 256)         0         \n",
      "_________________________________________________________________\n",
      "flatten (Flatten)            (None, 2304)              0         \n",
      "_________________________________________________________________\n",
      "dense (Dense)                (None, 512)               1180160   \n",
      "_________________________________________________________________\n",
      "dropout (Dropout)            (None, 512)               0         \n",
      "_________________________________________________________________\n",
      "dense_1 (Dense)              (None, 30)                15390     \n",
      "=================================================================\n",
      "Total params: 2,545,982\n",
      "Trainable params: 2,543,678\n",
      "Non-trainable params: 2,304\n",
      "_________________________________________________________________\n",
      "('Failed to import pydot. You must `pip install pydot` and install graphviz (https://graphviz.gitlab.io/download/), ', 'for `pydotprint` to work.')\n"
     ]
    }
   ],
   "source": [
    "model = Sequential()\n",
    "\n",
    "#Block 1\n",
    "model.add(Convolution2D(32, (3,3), padding='same', use_bias=False, input_shape=(96,96,1)))\n",
    "model.add(LeakyReLU(alpha = 0.1))\n",
    "model.add(BatchNormalization())\n",
    "\n",
    "model.add(Convolution2D(32, (3,3), padding='same', use_bias=False))\n",
    "model.add(LeakyReLU(alpha = 0.1))\n",
    "model.add(BatchNormalization())\n",
    "model.add(MaxPool2D(pool_size=(2, 2)))\n",
    "\n",
    "#Block 2\n",
    "model.add(Convolution2D(64, (3,3), padding='same', use_bias=False))\n",
    "model.add(LeakyReLU(alpha = 0.1))\n",
    "model.add(BatchNormalization())\n",
    "\n",
    "model.add(Convolution2D(64, (3,3), padding='same', use_bias=False))\n",
    "model.add(LeakyReLU(alpha = 0.1))\n",
    "model.add(BatchNormalization())\n",
    "model.add(MaxPool2D(pool_size=(2, 2)))\n",
    "\n",
    "# Block 3\n",
    "model.add(Convolution2D(96, (3,3), padding='same', use_bias=False))\n",
    "model.add(LeakyReLU(alpha = 0.1))\n",
    "model.add(BatchNormalization())\n",
    "\n",
    "model.add(Convolution2D(96, (3,3), padding='same', use_bias=False))\n",
    "model.add(LeakyReLU(alpha = 0.1))\n",
    "model.add(BatchNormalization())\n",
    "model.add(MaxPool2D(pool_size=(2, 2)))\n",
    "\n",
    "#Block 4\n",
    "model.add(Convolution2D(128, (3,3),padding='same', use_bias=False))\n",
    "model.add(LeakyReLU(alpha = 0.1))\n",
    "model.add(BatchNormalization())\n",
    "\n",
    "model.add(Convolution2D(128, (3,3),padding='same', use_bias=False))\n",
    "model.add(LeakyReLU(alpha = 0.1))\n",
    "model.add(BatchNormalization())\n",
    "model.add(MaxPool2D(pool_size=(2, 2)))\n",
    "\n",
    "#Block 5\n",
    "model.add(Convolution2D(256, (3,3),padding='same',use_bias=False))\n",
    "model.add(LeakyReLU(alpha = 0.1))\n",
    "model.add(BatchNormalization())\n",
    "\n",
    "model.add(Convolution2D(256, (3,3),padding='same',use_bias=False))\n",
    "model.add(LeakyReLU(alpha = 0.1))\n",
    "model.add(BatchNormalization())\n",
    "model.add(MaxPool2D(pool_size=(2, 2)))\n",
    "\n",
    "model.add(Flatten())\n",
    "model.add(Dense(512,activation='relu'))\n",
    "model.add(Dropout(0.1))\n",
    "model.add(Dense(30))\n",
    "model.summary()\n",
    "keras.utils.plot_model(model, show_shapes=True)"
   ]
  },
  {
   "cell_type": "code",
   "execution_count": 7,
   "metadata": {},
   "outputs": [],
   "source": [
    "model.compile(optimizer='adam',loss='mean_squared_error',metrics=['mae','accuracy'])"
   ]
  },
  {
   "cell_type": "code",
   "execution_count": 8,
   "metadata": {},
   "outputs": [
    {
     "name": "stdout",
     "output_type": "stream",
     "text": [
      "7049\n"
     ]
    }
   ],
   "source": [
    "train_data = pd.read_csv('data/training.csv')\n",
    "\n",
    "images = []\n",
    "y_train = []\n",
    "\n",
    "print(len(train_data))\n",
    "train_data = train_data.fillna(method = 'ffill')\n",
    "for idx, sample in train_data.iterrows():\n",
    "    image = np.array(sample['Image'].split(' '), dtype=int)\n",
    "    image = np.reshape(image, (96,96,1))\n",
    "    images.append(image)\n",
    "X_train = np.array(images)"
   ]
  },
  {
   "cell_type": "code",
   "execution_count": 9,
   "metadata": {},
   "outputs": [],
   "source": [
    "training = train_data.drop('Image',axis = 1)\n",
    "\n",
    "y_train = []\n",
    "for idx, sample in training.iterrows():\n",
    "    y = training.iloc[idx,:]\n",
    "    y_train.append(y)    \n",
    "y_train = np.array(y_train,dtype = 'float')"
   ]
  },
  {
   "cell_type": "code",
   "execution_count": 10,
   "metadata": {},
   "outputs": [
    {
     "name": "stdout",
     "output_type": "stream",
     "text": [
      "Epoch 1/100\n",
      " 2/13 [===>..........................] - ETA: 2s - loss: 2355.2170 - mae: 44.9744 - accuracy: 0.0111WARNING:tensorflow:Callbacks method `on_train_batch_end` is slow compared to the batch time (batch time: 0.1464s vs `on_train_batch_end` time: 0.2301s). Check your callbacks.\n",
      "13/13 [==============================] - 6s 481ms/step - loss: 639.9589 - mae: 17.8349 - accuracy: 0.1736 - val_loss: 2197.1318 - val_mae: 43.7781 - val_accuracy: 0.6872\n",
      "Epoch 2/100\n",
      "13/13 [==============================] - 5s 382ms/step - loss: 40.0142 - mae: 4.9399 - accuracy: 0.3729 - val_loss: 1719.9907 - val_mae: 38.5457 - val_accuracy: 0.3461\n",
      "Epoch 3/100\n",
      "13/13 [==============================] - 5s 382ms/step - loss: 27.3588 - mae: 4.0479 - accuracy: 0.4066 - val_loss: 1211.7107 - val_mae: 32.2329 - val_accuracy: 0.6631\n",
      "Epoch 4/100\n",
      "13/13 [==============================] - 5s 382ms/step - loss: 24.5234 - mae: 3.8334 - accuracy: 0.3774 - val_loss: 672.0407 - val_mae: 23.8494 - val_accuracy: 0.6865\n",
      "Epoch 5/100\n",
      "13/13 [==============================] - 5s 382ms/step - loss: 22.6852 - mae: 3.6799 - accuracy: 0.4442 - val_loss: 321.3062 - val_mae: 16.1652 - val_accuracy: 0.6879\n",
      "Epoch 6/100\n",
      "13/13 [==============================] - 5s 383ms/step - loss: 21.3804 - mae: 3.5656 - accuracy: 0.4534 - val_loss: 145.2890 - val_mae: 10.6140 - val_accuracy: 0.6858\n",
      "Epoch 7/100\n",
      "13/13 [==============================] - 5s 382ms/step - loss: 19.4907 - mae: 3.4021 - accuracy: 0.4903 - val_loss: 89.3938 - val_mae: 8.0625 - val_accuracy: 0.6887\n",
      "Epoch 8/100\n",
      "13/13 [==============================] - 5s 384ms/step - loss: 18.9114 - mae: 3.3517 - accuracy: 0.5068 - val_loss: 82.1822 - val_mae: 7.9097 - val_accuracy: 0.6879\n",
      "Epoch 9/100\n",
      "13/13 [==============================] - 5s 401ms/step - loss: 18.3747 - mae: 3.3007 - accuracy: 0.5065 - val_loss: 63.4230 - val_mae: 7.0195 - val_accuracy: 0.6894\n",
      "Epoch 10/100\n",
      "13/13 [==============================] - 5s 386ms/step - loss: 17.5099 - mae: 3.2233 - accuracy: 0.5352 - val_loss: 26.3019 - val_mae: 4.2210 - val_accuracy: 0.6887\n",
      "Epoch 11/100\n",
      "13/13 [==============================] - 5s 393ms/step - loss: 17.5058 - mae: 3.2167 - accuracy: 0.5519 - val_loss: 22.0219 - val_mae: 3.8856 - val_accuracy: 0.6887\n",
      "Epoch 12/100\n",
      "13/13 [==============================] - 5s 382ms/step - loss: 16.2449 - mae: 3.0941 - accuracy: 0.5458 - val_loss: 10.7691 - val_mae: 2.3302 - val_accuracy: 0.6908\n",
      "Epoch 13/100\n",
      "13/13 [==============================] - 5s 387ms/step - loss: 15.7489 - mae: 3.0486 - accuracy: 0.5636 - val_loss: 17.8819 - val_mae: 3.4187 - val_accuracy: 0.6901\n",
      "Epoch 14/100\n",
      "13/13 [==============================] - 5s 389ms/step - loss: 15.3483 - mae: 3.0018 - accuracy: 0.5657 - val_loss: 11.7328 - val_mae: 2.6347 - val_accuracy: 0.6993\n",
      "Epoch 15/100\n",
      "13/13 [==============================] - 5s 391ms/step - loss: 14.5664 - mae: 2.9177 - accuracy: 0.5705 - val_loss: 7.4767 - val_mae: 1.8469 - val_accuracy: 0.7007\n",
      "Epoch 16/100\n",
      "13/13 [==============================] - 5s 383ms/step - loss: 14.0868 - mae: 2.8801 - accuracy: 0.5850 - val_loss: 7.2123 - val_mae: 1.7731 - val_accuracy: 0.6972\n",
      "Epoch 17/100\n",
      "13/13 [==============================] - 5s 382ms/step - loss: 13.5924 - mae: 2.8137 - accuracy: 0.5962 - val_loss: 5.8899 - val_mae: 1.5827 - val_accuracy: 0.6979\n",
      "Epoch 18/100\n",
      "13/13 [==============================] - 5s 383ms/step - loss: 13.5444 - mae: 2.8179 - accuracy: 0.5896 - val_loss: 8.7224 - val_mae: 2.2056 - val_accuracy: 0.7035\n",
      "Epoch 19/100\n",
      "13/13 [==============================] - 5s 382ms/step - loss: 12.8187 - mae: 2.7296 - accuracy: 0.6090 - val_loss: 6.6237 - val_mae: 1.7791 - val_accuracy: 0.7035\n",
      "Epoch 20/100\n",
      "13/13 [==============================] - 5s 383ms/step - loss: 12.4914 - mae: 2.6904 - accuracy: 0.6139 - val_loss: 11.9200 - val_mae: 2.7431 - val_accuracy: 0.6986\n",
      "Epoch 21/100\n",
      "13/13 [==============================] - 5s 383ms/step - loss: 12.5896 - mae: 2.7080 - accuracy: 0.6136 - val_loss: 7.2678 - val_mae: 1.9431 - val_accuracy: 0.7085\n",
      "Epoch 22/100\n",
      "13/13 [==============================] - 5s 383ms/step - loss: 12.6146 - mae: 2.7079 - accuracy: 0.6260 - val_loss: 4.8627 - val_mae: 1.4224 - val_accuracy: 0.7262\n",
      "Epoch 23/100\n",
      "13/13 [==============================] - 5s 384ms/step - loss: 12.3008 - mae: 2.6741 - accuracy: 0.6253 - val_loss: 4.6500 - val_mae: 1.3549 - val_accuracy: 0.7149\n",
      "Epoch 24/100\n",
      "13/13 [==============================] - 5s 388ms/step - loss: 11.8080 - mae: 2.6134 - accuracy: 0.6428 - val_loss: 4.2499 - val_mae: 1.2626 - val_accuracy: 0.7270\n",
      "Epoch 25/100\n",
      "13/13 [==============================] - 5s 390ms/step - loss: 11.6573 - mae: 2.5932 - accuracy: 0.6411 - val_loss: 4.4148 - val_mae: 1.3169 - val_accuracy: 0.7270\n",
      "Epoch 26/100\n",
      "13/13 [==============================] - 5s 391ms/step - loss: 12.2716 - mae: 2.6647 - accuracy: 0.6471 - val_loss: 5.7910 - val_mae: 1.7525 - val_accuracy: 0.7241\n",
      "Epoch 27/100\n",
      "13/13 [==============================] - 5s 394ms/step - loss: 11.3804 - mae: 2.5648 - accuracy: 0.6464 - val_loss: 6.6543 - val_mae: 1.9057 - val_accuracy: 0.7241\n",
      "Epoch 28/100\n",
      "13/13 [==============================] - 5s 401ms/step - loss: 10.9963 - mae: 2.5144 - accuracy: 0.6542 - val_loss: 12.6348 - val_mae: 2.9729 - val_accuracy: 0.7206\n",
      "Epoch 29/100\n",
      "13/13 [==============================] - 5s 388ms/step - loss: 10.7112 - mae: 2.4847 - accuracy: 0.6569 - val_loss: 4.4932 - val_mae: 1.4612 - val_accuracy: 0.7241\n",
      "Epoch 30/100\n",
      "13/13 [==============================] - 5s 386ms/step - loss: 11.0264 - mae: 2.5257 - accuracy: 0.6556 - val_loss: 10.8836 - val_mae: 2.6672 - val_accuracy: 0.7064\n",
      "Epoch 31/100\n",
      "13/13 [==============================] - 5s 389ms/step - loss: 11.7861 - mae: 2.6176 - accuracy: 0.6666 - val_loss: 8.7062 - val_mae: 2.3375 - val_accuracy: 0.7057\n",
      "Epoch 32/100\n",
      "13/13 [==============================] - 5s 389ms/step - loss: 10.3613 - mae: 2.4382 - accuracy: 0.6664 - val_loss: 7.6301 - val_mae: 2.1057 - val_accuracy: 0.7191\n",
      "Epoch 33/100\n",
      "13/13 [==============================] - 5s 387ms/step - loss: 9.9144 - mae: 2.3826 - accuracy: 0.6638 - val_loss: 5.9661 - val_mae: 1.8059 - val_accuracy: 0.7078\n",
      "Epoch 34/100\n",
      "13/13 [==============================] - 5s 387ms/step - loss: 9.9116 - mae: 2.3826 - accuracy: 0.6726 - val_loss: 5.8700 - val_mae: 1.7665 - val_accuracy: 0.7106\n",
      "Epoch 35/100\n",
      "13/13 [==============================] - 5s 387ms/step - loss: 9.8531 - mae: 2.3715 - accuracy: 0.6707 - val_loss: 5.7003 - val_mae: 1.7699 - val_accuracy: 0.7184\n",
      "Epoch 36/100\n",
      "13/13 [==============================] - 5s 388ms/step - loss: 9.3934 - mae: 2.3209 - accuracy: 0.6858 - val_loss: 8.2883 - val_mae: 2.2549 - val_accuracy: 0.7170\n",
      "Epoch 37/100\n",
      "13/13 [==============================] - 5s 386ms/step - loss: 9.2927 - mae: 2.3003 - accuracy: 0.6780 - val_loss: 3.8084 - val_mae: 1.2186 - val_accuracy: 0.7220\n",
      "Epoch 38/100\n",
      "13/13 [==============================] - 5s 386ms/step - loss: 9.1237 - mae: 2.2824 - accuracy: 0.6934 - val_loss: 6.0816 - val_mae: 1.8614 - val_accuracy: 0.7142\n",
      "Epoch 39/100\n",
      "13/13 [==============================] - 5s 389ms/step - loss: 9.2469 - mae: 2.3000 - accuracy: 0.6998 - val_loss: 4.2916 - val_mae: 1.4009 - val_accuracy: 0.7326\n",
      "Epoch 40/100\n",
      "13/13 [==============================] - 5s 386ms/step - loss: 8.9043 - mae: 2.2609 - accuracy: 0.7007 - val_loss: 5.0472 - val_mae: 1.5682 - val_accuracy: 0.7305\n",
      "Epoch 41/100\n",
      "13/13 [==============================] - 5s 391ms/step - loss: 8.6481 - mae: 2.2227 - accuracy: 0.7030 - val_loss: 4.6747 - val_mae: 1.5668 - val_accuracy: 0.7390\n",
      "Epoch 42/100\n",
      "13/13 [==============================] - 5s 384ms/step - loss: 9.1865 - mae: 2.2976 - accuracy: 0.7028 - val_loss: 5.2892 - val_mae: 1.6955 - val_accuracy: 0.7305\n",
      "Epoch 43/100\n",
      "13/13 [==============================] - 5s 386ms/step - loss: 9.6421 - mae: 2.3565 - accuracy: 0.7108 - val_loss: 3.4513 - val_mae: 1.1482 - val_accuracy: 0.7383\n",
      "Epoch 44/100\n",
      "13/13 [==============================] - 5s 385ms/step - loss: 8.6239 - mae: 2.2219 - accuracy: 0.7035 - val_loss: 5.2751 - val_mae: 1.6881 - val_accuracy: 0.7496\n",
      "Epoch 45/100\n",
      "13/13 [==============================] - 5s 382ms/step - loss: 8.3253 - mae: 2.1808 - accuracy: 0.7209 - val_loss: 5.0221 - val_mae: 1.6462 - val_accuracy: 0.7277\n"
     ]
    },
    {
     "name": "stdout",
     "output_type": "stream",
     "text": [
      "Epoch 46/100\n",
      "13/13 [==============================] - 5s 386ms/step - loss: 8.1640 - mae: 2.1590 - accuracy: 0.7177 - val_loss: 4.3598 - val_mae: 1.4795 - val_accuracy: 0.7312\n",
      "Epoch 47/100\n",
      "13/13 [==============================] - 5s 385ms/step - loss: 7.7840 - mae: 2.1050 - accuracy: 0.7150 - val_loss: 7.9174 - val_mae: 2.2560 - val_accuracy: 0.7461\n",
      "Epoch 48/100\n",
      "13/13 [==============================] - 5s 386ms/step - loss: 8.5798 - mae: 2.2254 - accuracy: 0.7239 - val_loss: 3.2884 - val_mae: 1.1248 - val_accuracy: 0.7348\n",
      "Epoch 49/100\n",
      "13/13 [==============================] - 5s 393ms/step - loss: 7.5533 - mae: 2.0744 - accuracy: 0.7269 - val_loss: 3.7384 - val_mae: 1.3000 - val_accuracy: 0.7574\n",
      "Epoch 50/100\n",
      "13/13 [==============================] - 5s 396ms/step - loss: 7.3973 - mae: 2.0540 - accuracy: 0.7230 - val_loss: 3.2081 - val_mae: 1.0952 - val_accuracy: 0.7404\n",
      "Epoch 51/100\n",
      "13/13 [==============================] - 5s 387ms/step - loss: 7.5503 - mae: 2.0815 - accuracy: 0.7333 - val_loss: 5.5757 - val_mae: 1.8242 - val_accuracy: 0.7461\n",
      "Epoch 52/100\n",
      "13/13 [==============================] - 5s 386ms/step - loss: 8.4685 - mae: 2.2117 - accuracy: 0.7226 - val_loss: 3.5374 - val_mae: 1.2159 - val_accuracy: 0.7645\n",
      "Epoch 53/100\n",
      "13/13 [==============================] - 5s 383ms/step - loss: 8.0265 - mae: 2.1477 - accuracy: 0.7308 - val_loss: 6.3910 - val_mae: 1.9851 - val_accuracy: 0.7433\n",
      "Epoch 54/100\n",
      "13/13 [==============================] - 5s 395ms/step - loss: 7.1881 - mae: 2.0251 - accuracy: 0.7303 - val_loss: 3.0349 - val_mae: 1.0589 - val_accuracy: 0.7404\n",
      "Epoch 55/100\n",
      "13/13 [==============================] - 5s 388ms/step - loss: 7.3977 - mae: 2.0573 - accuracy: 0.7367 - val_loss: 7.7201 - val_mae: 2.1759 - val_accuracy: 0.7404\n",
      "Epoch 56/100\n",
      "13/13 [==============================] - 5s 383ms/step - loss: 7.5179 - mae: 2.0740 - accuracy: 0.7358 - val_loss: 3.2363 - val_mae: 1.1333 - val_accuracy: 0.7482\n",
      "Epoch 57/100\n",
      "13/13 [==============================] - 5s 383ms/step - loss: 7.3999 - mae: 2.0625 - accuracy: 0.7406 - val_loss: 5.5696 - val_mae: 1.8023 - val_accuracy: 0.7667\n",
      "Epoch 58/100\n",
      "13/13 [==============================] - 5s 384ms/step - loss: 7.4132 - mae: 2.0671 - accuracy: 0.7446 - val_loss: 2.8848 - val_mae: 1.0293 - val_accuracy: 0.7660\n",
      "Epoch 59/100\n",
      "13/13 [==============================] - 5s 383ms/step - loss: 7.9428 - mae: 2.1466 - accuracy: 0.7423 - val_loss: 10.7066 - val_mae: 2.7543 - val_accuracy: 0.7759\n",
      "Epoch 60/100\n",
      "13/13 [==============================] - 5s 386ms/step - loss: 6.8691 - mae: 1.9834 - accuracy: 0.7459 - val_loss: 7.8727 - val_mae: 2.2667 - val_accuracy: 0.7631\n",
      "Epoch 61/100\n",
      "13/13 [==============================] - 5s 386ms/step - loss: 6.7735 - mae: 1.9635 - accuracy: 0.7425 - val_loss: 5.7527 - val_mae: 1.8397 - val_accuracy: 0.7723\n",
      "Epoch 62/100\n",
      "13/13 [==============================] - 5s 384ms/step - loss: 6.5037 - mae: 1.9301 - accuracy: 0.7485 - val_loss: 3.4433 - val_mae: 1.2251 - val_accuracy: 0.7589\n",
      "Epoch 63/100\n",
      "13/13 [==============================] - 5s 387ms/step - loss: 6.4942 - mae: 1.9291 - accuracy: 0.7563 - val_loss: 4.1155 - val_mae: 1.2785 - val_accuracy: 0.7716\n",
      "Epoch 64/100\n",
      "13/13 [==============================] - 5s 391ms/step - loss: 7.0707 - mae: 2.0184 - accuracy: 0.7601 - val_loss: 3.2042 - val_mae: 1.1533 - val_accuracy: 0.7574\n",
      "Epoch 65/100\n",
      "13/13 [==============================] - 5s 394ms/step - loss: 7.4281 - mae: 2.0691 - accuracy: 0.7523 - val_loss: 6.2423 - val_mae: 1.9376 - val_accuracy: 0.7730\n",
      "Epoch 66/100\n",
      "13/13 [==============================] - 5s 393ms/step - loss: 7.1352 - mae: 2.0273 - accuracy: 0.7670 - val_loss: 4.6302 - val_mae: 1.5933 - val_accuracy: 0.7645\n",
      "Epoch 67/100\n",
      "13/13 [==============================] - 5s 385ms/step - loss: 6.2249 - mae: 1.8879 - accuracy: 0.7602 - val_loss: 4.6264 - val_mae: 1.6112 - val_accuracy: 0.7652\n",
      "Epoch 68/100\n",
      "13/13 [==============================] - 5s 391ms/step - loss: 5.8942 - mae: 1.8329 - accuracy: 0.7581 - val_loss: 2.9915 - val_mae: 1.0139 - val_accuracy: 0.7504\n",
      "Epoch 69/100\n",
      "13/13 [==============================] - 5s 384ms/step - loss: 5.8080 - mae: 1.8220 - accuracy: 0.7631 - val_loss: 3.8285 - val_mae: 1.3464 - val_accuracy: 0.7447\n",
      "Epoch 70/100\n",
      "13/13 [==============================] - 5s 387ms/step - loss: 5.8288 - mae: 1.8271 - accuracy: 0.7712 - val_loss: 3.9939 - val_mae: 1.4162 - val_accuracy: 0.7475\n",
      "Epoch 71/100\n",
      "13/13 [==============================] - 5s 386ms/step - loss: 6.4421 - mae: 1.9301 - accuracy: 0.7794 - val_loss: 4.1626 - val_mae: 1.4623 - val_accuracy: 0.7667\n",
      "Epoch 72/100\n",
      "13/13 [==============================] - 5s 393ms/step - loss: 6.6040 - mae: 1.9595 - accuracy: 0.7780 - val_loss: 4.2234 - val_mae: 1.4780 - val_accuracy: 0.7454\n",
      "Epoch 73/100\n",
      "13/13 [==============================] - 5s 386ms/step - loss: 5.6263 - mae: 1.7997 - accuracy: 0.7750 - val_loss: 4.2940 - val_mae: 1.5009 - val_accuracy: 0.7787\n",
      "Epoch 74/100\n",
      "13/13 [==============================] - 5s 383ms/step - loss: 5.5797 - mae: 1.7925 - accuracy: 0.7753 - val_loss: 3.1868 - val_mae: 1.0294 - val_accuracy: 0.7518\n",
      "Epoch 75/100\n",
      "13/13 [==============================] - 5s 387ms/step - loss: 5.4198 - mae: 1.7667 - accuracy: 0.7734 - val_loss: 3.8399 - val_mae: 1.3536 - val_accuracy: 0.7532\n",
      "Epoch 76/100\n",
      "13/13 [==============================] - 5s 384ms/step - loss: 5.4047 - mae: 1.7656 - accuracy: 0.7751 - val_loss: 3.1618 - val_mae: 1.1173 - val_accuracy: 0.7794\n",
      "Epoch 77/100\n",
      "13/13 [==============================] - 5s 385ms/step - loss: 5.2881 - mae: 1.7439 - accuracy: 0.7835 - val_loss: 3.8502 - val_mae: 1.3776 - val_accuracy: 0.7702\n",
      "Epoch 78/100\n",
      "13/13 [==============================] - 5s 398ms/step - loss: 5.6312 - mae: 1.8085 - accuracy: 0.7821 - val_loss: 2.6901 - val_mae: 0.9423 - val_accuracy: 0.7603\n",
      "Epoch 79/100\n",
      "13/13 [==============================] - 5s 389ms/step - loss: 6.2676 - mae: 1.9129 - accuracy: 0.7886 - val_loss: 5.4382 - val_mae: 1.7743 - val_accuracy: 0.7794\n",
      "Epoch 80/100\n",
      "13/13 [==============================] - 5s 387ms/step - loss: 6.1580 - mae: 1.8918 - accuracy: 0.7936 - val_loss: 2.8757 - val_mae: 1.0098 - val_accuracy: 0.7787\n",
      "Epoch 81/100\n",
      "13/13 [==============================] - 5s 383ms/step - loss: 5.1558 - mae: 1.7231 - accuracy: 0.7782 - val_loss: 2.9556 - val_mae: 1.0827 - val_accuracy: 0.7738\n",
      "Epoch 82/100\n",
      "13/13 [==============================] - 5s 383ms/step - loss: 5.3284 - mae: 1.7584 - accuracy: 0.7868 - val_loss: 2.6134 - val_mae: 0.9623 - val_accuracy: 0.7851\n",
      "Epoch 83/100\n",
      "13/13 [==============================] - 5s 390ms/step - loss: 5.4691 - mae: 1.7792 - accuracy: 0.7870 - val_loss: 3.0203 - val_mae: 1.1088 - val_accuracy: 0.7603\n",
      "Epoch 84/100\n",
      "13/13 [==============================] - 5s 390ms/step - loss: 5.1270 - mae: 1.7224 - accuracy: 0.7874 - val_loss: 3.1294 - val_mae: 1.0374 - val_accuracy: 0.7596\n",
      "Epoch 85/100\n",
      "13/13 [==============================] - 5s 386ms/step - loss: 5.6351 - mae: 1.8123 - accuracy: 0.7961 - val_loss: 4.4025 - val_mae: 1.4065 - val_accuracy: 0.7766\n",
      "Epoch 86/100\n",
      "13/13 [==============================] - 5s 389ms/step - loss: 5.3127 - mae: 1.7561 - accuracy: 0.7918 - val_loss: 3.3414 - val_mae: 1.1573 - val_accuracy: 0.7915\n",
      "Epoch 87/100\n",
      "13/13 [==============================] - 5s 390ms/step - loss: 4.8032 - mae: 1.6658 - accuracy: 0.8010 - val_loss: 6.9361 - val_mae: 2.1162 - val_accuracy: 0.7823\n",
      "Epoch 88/100\n",
      "13/13 [==============================] - 5s 387ms/step - loss: 4.8727 - mae: 1.6767 - accuracy: 0.7927 - val_loss: 3.7505 - val_mae: 1.3568 - val_accuracy: 0.7879\n",
      "Epoch 89/100\n",
      "13/13 [==============================] - 5s 387ms/step - loss: 5.4484 - mae: 1.7817 - accuracy: 0.8009 - val_loss: 6.3450 - val_mae: 1.9885 - val_accuracy: 0.7915\n",
      "Epoch 90/100\n",
      "13/13 [==============================] - 5s 387ms/step - loss: 4.9561 - mae: 1.6955 - accuracy: 0.7996 - val_loss: 3.3398 - val_mae: 1.1053 - val_accuracy: 0.7738\n",
      "Epoch 91/100\n",
      "13/13 [==============================] - 5s 391ms/step - loss: 5.0748 - mae: 1.7184 - accuracy: 0.7991 - val_loss: 2.8197 - val_mae: 0.9797 - val_accuracy: 0.7695\n",
      "Epoch 92/100\n",
      "13/13 [==============================] - 5s 387ms/step - loss: 5.1660 - mae: 1.7326 - accuracy: 0.7989 - val_loss: 2.4784 - val_mae: 0.9053 - val_accuracy: 0.7801\n",
      "Epoch 93/100\n",
      "13/13 [==============================] - 5s 389ms/step - loss: 4.7323 - mae: 1.6546 - accuracy: 0.8090 - val_loss: 2.8032 - val_mae: 0.9524 - val_accuracy: 0.7794\n",
      "Epoch 94/100\n",
      "13/13 [==============================] - 5s 390ms/step - loss: 4.4643 - mae: 1.6071 - accuracy: 0.8081 - val_loss: 2.9713 - val_mae: 1.1604 - val_accuracy: 0.7809\n",
      "Epoch 95/100\n",
      "13/13 [==============================] - 5s 391ms/step - loss: 4.4135 - mae: 1.5983 - accuracy: 0.8095 - val_loss: 2.6232 - val_mae: 0.9666 - val_accuracy: 0.7936\n",
      "Epoch 96/100\n",
      "13/13 [==============================] - 5s 391ms/step - loss: 4.5336 - mae: 1.6227 - accuracy: 0.8101 - val_loss: 3.5419 - val_mae: 1.3209 - val_accuracy: 0.7908\n",
      "Epoch 97/100\n",
      "13/13 [==============================] - 5s 387ms/step - loss: 4.6803 - mae: 1.6472 - accuracy: 0.8092 - val_loss: 4.3358 - val_mae: 1.5286 - val_accuracy: 0.7660\n",
      "Epoch 98/100\n",
      "13/13 [==============================] - 5s 388ms/step - loss: 5.1148 - mae: 1.7296 - accuracy: 0.8165 - val_loss: 2.8785 - val_mae: 1.0102 - val_accuracy: 0.7759\n",
      "Epoch 99/100\n",
      "13/13 [==============================] - 5s 389ms/step - loss: 4.5253 - mae: 1.6179 - accuracy: 0.8108 - val_loss: 3.8424 - val_mae: 1.3574 - val_accuracy: 0.7865\n",
      "Epoch 100/100\n",
      "13/13 [==============================] - 5s 382ms/step - loss: 4.3468 - mae: 1.5820 - accuracy: 0.8099 - val_loss: 3.5703 - val_mae: 1.3439 - val_accuracy: 0.7667\n",
      "Duration: 0:08:43.125691\n"
     ]
    }
   ],
   "source": [
    "start_time = datetime.now()\n",
    "history = model.fit(X_train,y_train,epochs = epochs,batch_size = 450,validation_split = 0.2)\n",
    "end_time = datetime.now()\n",
    "print('Duration: {}'.format(end_time - start_time))"
   ]
  },
  {
   "cell_type": "code",
   "execution_count": 11,
   "metadata": {
    "scrolled": true
   },
   "outputs": [
    {
     "name": "stdout",
     "output_type": "stream",
     "text": [
      "221/221 - 3s - loss: 2.9229 - mae: 1.3039 - accuracy: 0.8596\n"
     ]
    },
    {
     "data": {
      "image/png": "[encoded data removed]",
      "text/plain": [
       "<Figure size 432x288 with 1 Axes>"
      ]
     },
     "metadata": {
      "needs_background": "light"
     },
     "output_type": "display_data"
    }
   ],
   "source": [
    "plt.plot(history.history['accuracy'], label='accuracy')\n",
    "plt.plot(history.history['val_accuracy'], label = 'val_accuracy')\n",
    "plt.xlabel('Epoch')\n",
    "plt.ylabel('Accuracy')\n",
    "plt.ylim([0.5, 1])\n",
    "plt.legend(loc='lower right')\n",
    "\n",
    "test_loss, test_acc, acc = model.evaluate(X_train,y_train, verbose=2)"
   ]
  },
  {
   "cell_type": "code",
   "execution_count": 12,
   "metadata": {},
   "outputs": [],
   "source": [
    "arc = '5block_2FC'\n",
    "subname = '{}_epochs_{}_'.format(arc, epochs)\n",
    "model_name = \"data/models/\"+subname+strftime(\"%Y-%m-%d_%H-%M-%S\")+\".keras\"\n",
    "model.save(model_name)"
   ]
  },
  {
   "cell_type": "code",
   "execution_count": 13,
   "metadata": {},
   "outputs": [
    {
     "data": {
      "text/plain": [
       "'data/models/5block_2FC_epochs_100_2020-12-05_00-32-11.keras'"
      ]
     },
     "execution_count": 13,
     "metadata": {},
     "output_type": "execute_result"
    }
   ],
   "source": [
    "model_name"
   ]
  },
  {
   "cell_type": "code",
   "execution_count": 14,
   "metadata": {},
   "outputs": [],
   "source": [
    "# model_name = \"model_simple_nn_2020-11-13_06-57-10.keras\"\n",
    "model = keras.models.load_model(model_name)"
   ]
  },
  {
   "cell_type": "code",
   "execution_count": 15,
   "metadata": {},
   "outputs": [
    {
     "name": "stdout",
     "output_type": "stream",
     "text": [
      "('Failed to import pydot. You must `pip install pydot` and install graphviz (https://graphviz.gitlab.io/download/), ', 'for `pydotprint` to work.')\n"
     ]
    }
   ],
   "source": [
    "keras.utils.plot_model(model, show_shapes=True)"
   ]
  },
  {
   "cell_type": "code",
   "execution_count": 16,
   "metadata": {},
   "outputs": [],
   "source": [
    "images = []\n",
    "\n",
    "test_data = pd.read_csv('data/test.csv') \n",
    "for idx, sample in test_data.iterrows():\n",
    "    image = np.array(sample['Image'].split(' '), dtype=int)\n",
    "    image = np.reshape(image, (96,96,1))\n",
    "    images.append(image)\n",
    "X_predict = np.array(images)"
   ]
  },
  {
   "cell_type": "markdown",
   "metadata": {},
   "source": [
    "# Make Predictions"
   ]
  },
  {
   "cell_type": "code",
   "execution_count": 17,
   "metadata": {},
   "outputs": [],
   "source": [
    "Id_data = pd.read_csv('data/IdLookupTable.csv') \n",
    "\n",
    "test_preds = model.predict(X_predict)\n",
    "test_preds[test_preds > 96] = 96\n",
    "\n",
    "image_id = list(Id_data[\"ImageId\"]-1)\n",
    "mark_names = list(Id_data['FeatureName'])\n",
    "mark_id = [mark_names.index(x) for x in mark_names]\n",
    "\n",
    "req_predictions = [test_preds[x,y] for x,y in zip(image_id,mark_id)]\n",
    "\n",
    "rowid = pd.Series(Id_data['RowId'], name = 'RowId')\n",
    "loc = pd.Series(req_predictions, name = 'Location')\n",
    "submission = pd.concat([rowid, loc], axis = 1)\n",
    "submission.to_csv('data/{}submission.csv'.format(subname),index = False)"
   ]
  },
  {
   "cell_type": "code",
   "execution_count": 18,
   "metadata": {},
   "outputs": [
    {
     "data": {
      "text/plain": [
       "'data/5block_2FC_epochs_100_submission.csv'"
      ]
     },
     "execution_count": 18,
     "metadata": {},
     "output_type": "execute_result"
    }
   ],
   "source": [
    "'data/{}submission.csv'.format(subname)"
   ]
  },
  {
   "cell_type": "code",
   "execution_count": null,
   "metadata": {},
   "outputs": [],
   "source": []
  }
 ],
 "metadata": {
  "environment": {
   "name": "tf2-gpu.2-1.m55",
   "type": "gcloud",
   "uri": "gcr.io/deeplearning-platform-release/tf2-gpu.2-1:m55"
  },
  "kernelspec": {
   "display_name": "Python 3",
   "language": "python",
   "name": "python3"
  },
  "language_info": {
   "codemirror_mode": {
    "name": "ipython",
    "version": 3
   },
   "file_extension": ".py",
   "mimetype": "text/x-python",
   "name": "python",
   "nbconvert_exporter": "python",
   "pygments_lexer": "ipython3",
   "version": "3.6.9"
  }
 },
 "nbformat": 4,
 "nbformat_minor": 4
}
