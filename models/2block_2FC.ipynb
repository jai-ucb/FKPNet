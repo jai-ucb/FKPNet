{
 "cells": [
  {
   "cell_type": "markdown",
   "metadata": {},
   "source": [
    "# GPU Monitor"
   ]
  },
  {
   "cell_type": "code",
   "execution_count": 1,
   "metadata": {},
   "outputs": [],
   "source": [
    "#https://developer.nvidia.com/blog/profiling-and-optimizing-deep-neural-networks-with-dlprof-and-pyprof/\n",
    "#nvidia-smi\n",
    "#nvidia-smi dmon"
   ]
  },
  {
   "cell_type": "markdown",
   "metadata": {},
   "source": [
    "## Import Libs"
   ]
  },
  {
   "cell_type": "code",
   "execution_count": 2,
   "metadata": {},
   "outputs": [],
   "source": [
    "# This tells matplotlib not to try opening a new window for each plot.\n",
    "%matplotlib inline\n",
    "\n",
    "import os\n",
    "####*IMPORANT*: Have to do this line *before* importing tensorflow\n",
    "os.environ['PYTHONHASHSEED']=str(1)\n",
    "\n",
    "# General libraries.\n",
    "import re\n",
    "import numpy as np\n",
    "import matplotlib.pyplot as plt\n",
    "import pandas as pd\n",
    "import pickle\n",
    "\n",
    "from sklearn.datasets import make_regression\n",
    "from sklearn.tree import DecisionTreeRegressor\n",
    "from sklearn.model_selection import cross_val_score\n",
    "from sklearn.metrics import confusion_matrix\n",
    "from sklearn import metrics\n",
    "from sklearn.model_selection import train_test_split\n",
    "from sklearn.ensemble import RandomForestRegressor\n",
    "\n",
    "import cv2\n",
    "from math import sin, cos, pi\n",
    "from time import strftime\n",
    "from datetime import datetime"
   ]
  },
  {
   "cell_type": "code",
   "execution_count": 3,
   "metadata": {},
   "outputs": [],
   "source": [
    "train_data = pd.read_csv('data/training.csv') \n",
    "test_data = pd.read_csv('data/test.csv') \n",
    "Id_data = pd.read_csv('data/IdLookupTable.csv') "
   ]
  },
  {
   "cell_type": "markdown",
   "metadata": {},
   "source": [
    "# MODEL EXAMPLE\n",
    "https://www.tensorflow.org/tutorials/images/cnn"
   ]
  },
  {
   "cell_type": "code",
   "execution_count": 4,
   "metadata": {},
   "outputs": [],
   "source": [
    "from tensorflow import keras\n",
    "from keras.layers import Conv2D,Dropout,Dense,Flatten\n",
    "from keras.models import Sequential\n",
    "from keras.layers.advanced_activations import LeakyReLU\n",
    "from keras.models import Sequential, Model\n",
    "from keras.layers import Activation, Convolution2D, MaxPooling2D, BatchNormalization, Flatten, Dense, Dropout, Conv2D,MaxPool2D, ZeroPadding2D\n",
    "import random\n",
    "import tensorflow as tf\n",
    "\n"
   ]
  },
  {
   "cell_type": "code",
   "execution_count": 5,
   "metadata": {},
   "outputs": [],
   "source": [
    "epochs = 100\n",
    "def reset_random_seeds():\n",
    "    os.environ['PYTHONHASHSEED']=str(1)\n",
    "    tf.random.set_seed(1)\n",
    "    np.random.seed(1)\n",
    "    random.seed(1)\n",
    "\n",
    "#make some random data\n",
    "reset_random_seeds()"
   ]
  },
  {
   "cell_type": "code",
   "execution_count": 6,
   "metadata": {},
   "outputs": [
    {
     "name": "stdout",
     "output_type": "stream",
     "text": [
      "Model: \"sequential\"\n",
      "_________________________________________________________________\n",
      "Layer (type)                 Output Shape              Param #   \n",
      "=================================================================\n",
      "conv2d (Conv2D)              (None, 96, 96, 32)        288       \n",
      "_________________________________________________________________\n",
      "leaky_re_lu (LeakyReLU)      (None, 96, 96, 32)        0         \n",
      "_________________________________________________________________\n",
      "batch_normalization (BatchNo (None, 96, 96, 32)        128       \n",
      "_________________________________________________________________\n",
      "conv2d_1 (Conv2D)            (None, 96, 96, 32)        9216      \n",
      "_________________________________________________________________\n",
      "leaky_re_lu_1 (LeakyReLU)    (None, 96, 96, 32)        0         \n",
      "_________________________________________________________________\n",
      "batch_normalization_1 (Batch (None, 96, 96, 32)        128       \n",
      "_________________________________________________________________\n",
      "max_pooling2d (MaxPooling2D) (None, 48, 48, 32)        0         \n",
      "_________________________________________________________________\n",
      "conv2d_2 (Conv2D)            (None, 48, 48, 64)        18432     \n",
      "_________________________________________________________________\n",
      "leaky_re_lu_2 (LeakyReLU)    (None, 48, 48, 64)        0         \n",
      "_________________________________________________________________\n",
      "batch_normalization_2 (Batch (None, 48, 48, 64)        256       \n",
      "_________________________________________________________________\n",
      "conv2d_3 (Conv2D)            (None, 48, 48, 64)        36864     \n",
      "_________________________________________________________________\n",
      "leaky_re_lu_3 (LeakyReLU)    (None, 48, 48, 64)        0         \n",
      "_________________________________________________________________\n",
      "batch_normalization_3 (Batch (None, 48, 48, 64)        256       \n",
      "_________________________________________________________________\n",
      "max_pooling2d_1 (MaxPooling2 (None, 24, 24, 64)        0         \n",
      "_________________________________________________________________\n",
      "flatten (Flatten)            (None, 36864)             0         \n",
      "_________________________________________________________________\n",
      "dense (Dense)                (None, 512)               18874880  \n",
      "_________________________________________________________________\n",
      "dropout (Dropout)            (None, 512)               0         \n",
      "_________________________________________________________________\n",
      "dense_1 (Dense)              (None, 30)                15390     \n",
      "=================================================================\n",
      "Total params: 18,955,838\n",
      "Trainable params: 18,955,454\n",
      "Non-trainable params: 384\n",
      "_________________________________________________________________\n",
      "('Failed to import pydot. You must `pip install pydot` and install graphviz (https://graphviz.gitlab.io/download/), ', 'for `pydotprint` to work.')\n"
     ]
    }
   ],
   "source": [
    "model = Sequential()\n",
    "\n",
    "#Block 1\n",
    "model.add(Convolution2D(32, (3,3), padding='same', use_bias=False, input_shape=(96,96,1)))\n",
    "model.add(LeakyReLU(alpha = 0.1))\n",
    "model.add(BatchNormalization())\n",
    "\n",
    "model.add(Convolution2D(32, (3,3), padding='same', use_bias=False))\n",
    "model.add(LeakyReLU(alpha = 0.1))\n",
    "model.add(BatchNormalization())\n",
    "model.add(MaxPool2D(pool_size=(2, 2)))\n",
    "\n",
    "#Block 2\n",
    "model.add(Convolution2D(64, (3,3), padding='same', use_bias=False))\n",
    "model.add(LeakyReLU(alpha = 0.1))\n",
    "model.add(BatchNormalization())\n",
    "\n",
    "model.add(Convolution2D(64, (3,3), padding='same', use_bias=False))\n",
    "model.add(LeakyReLU(alpha = 0.1))\n",
    "model.add(BatchNormalization())\n",
    "model.add(MaxPool2D(pool_size=(2, 2)))\n",
    "\n",
    "model.add(Flatten())\n",
    "model.add(Dense(512,activation='relu'))\n",
    "model.add(Dropout(0.1))\n",
    "model.add(Dense(30))\n",
    "model.summary()\n",
    "keras.utils.plot_model(model, show_shapes=True)"
   ]
  },
  {
   "cell_type": "code",
   "execution_count": 7,
   "metadata": {},
   "outputs": [],
   "source": [
    "model.compile(optimizer='adam',loss='mean_squared_error',metrics=['mae','accuracy'])"
   ]
  },
  {
   "cell_type": "code",
   "execution_count": 8,
   "metadata": {},
   "outputs": [
    {
     "name": "stdout",
     "output_type": "stream",
     "text": [
      "7049\n"
     ]
    }
   ],
   "source": [
    "train_data = pd.read_csv('data/training.csv')\n",
    "\n",
    "images = []\n",
    "y_train = []\n",
    "\n",
    "print(len(train_data))\n",
    "train_data = train_data.fillna(method = 'ffill')\n",
    "for idx, sample in train_data.iterrows():\n",
    "    image = np.array(sample['Image'].split(' '), dtype=int)\n",
    "    image = np.reshape(image, (96,96,1))\n",
    "    images.append(image)\n",
    "X_train = np.array(images)"
   ]
  },
  {
   "cell_type": "code",
   "execution_count": 9,
   "metadata": {},
   "outputs": [],
   "source": [
    "training = train_data.drop('Image',axis = 1)\n",
    "\n",
    "y_train = []\n",
    "for idx, sample in training.iterrows():\n",
    "    y = training.iloc[idx,:]\n",
    "    y_train.append(y)    \n",
    "y_train = np.array(y_train,dtype = 'float')"
   ]
  },
  {
   "cell_type": "code",
   "execution_count": 10,
   "metadata": {},
   "outputs": [
    {
     "name": "stdout",
     "output_type": "stream",
     "text": [
      "Epoch 1/100\n",
      " 2/13 [===>..........................] - ETA: 1s - loss: 1616.5381 - mae: 33.1594 - accuracy: 0.2256WARNING:tensorflow:Callbacks method `on_train_batch_end` is slow compared to the batch time (batch time: 0.1212s vs `on_train_batch_end` time: 0.2024s). Check your callbacks.\n",
      "13/13 [==============================] - 5s 389ms/step - loss: 435.7756 - mae: 14.5010 - accuracy: 0.2328 - val_loss: 12763.1602 - val_mae: 94.1751 - val_accuracy: 0.0113\n",
      "Epoch 2/100\n",
      "13/13 [==============================] - 4s 320ms/step - loss: 86.3361 - mae: 7.2763 - accuracy: 0.3245 - val_loss: 9429.3740 - val_mae: 80.3166 - val_accuracy: 0.6844\n",
      "Epoch 3/100\n",
      "13/13 [==============================] - 4s 317ms/step - loss: 54.0123 - mae: 5.7686 - accuracy: 0.3760 - val_loss: 1786.0959 - val_mae: 31.5672 - val_accuracy: 0.6794\n",
      "Epoch 4/100\n",
      "13/13 [==============================] - 4s 317ms/step - loss: 43.2087 - mae: 5.1558 - accuracy: 0.3958 - val_loss: 914.6425 - val_mae: 21.9958 - val_accuracy: 0.6156\n",
      "Epoch 5/100\n",
      "13/13 [==============================] - 4s 318ms/step - loss: 39.8249 - mae: 4.9418 - accuracy: 0.4279 - val_loss: 536.3300 - val_mae: 16.9828 - val_accuracy: 0.6681\n",
      "Epoch 6/100\n",
      "13/13 [==============================] - 4s 317ms/step - loss: 34.8524 - mae: 4.6252 - accuracy: 0.4595 - val_loss: 486.0966 - val_mae: 16.1161 - val_accuracy: 0.6688\n",
      "Epoch 7/100\n",
      "13/13 [==============================] - 4s 321ms/step - loss: 33.3768 - mae: 4.5264 - accuracy: 0.4687 - val_loss: 273.7119 - val_mae: 13.2881 - val_accuracy: 0.1936\n",
      "Epoch 8/100\n",
      "13/13 [==============================] - 4s 318ms/step - loss: 31.1302 - mae: 4.3697 - accuracy: 0.4770 - val_loss: 245.5104 - val_mae: 12.5086 - val_accuracy: 0.5383\n",
      "Epoch 9/100\n",
      "13/13 [==============================] - 4s 326ms/step - loss: 28.5867 - mae: 4.1779 - accuracy: 0.4891 - val_loss: 293.4303 - val_mae: 14.7216 - val_accuracy: 0.6511\n",
      "Epoch 10/100\n",
      "13/13 [==============================] - 4s 327ms/step - loss: 24.7696 - mae: 3.8749 - accuracy: 0.5212 - val_loss: 304.5379 - val_mae: 15.3197 - val_accuracy: 0.6965\n",
      "Epoch 11/100\n",
      "13/13 [==============================] - 4s 327ms/step - loss: 24.2988 - mae: 3.8435 - accuracy: 0.5228 - val_loss: 270.4216 - val_mae: 14.5537 - val_accuracy: 0.6887\n",
      "Epoch 12/100\n",
      "13/13 [==============================] - 4s 325ms/step - loss: 22.5626 - mae: 3.6992 - accuracy: 0.5265 - val_loss: 246.5616 - val_mae: 13.9842 - val_accuracy: 0.6986\n",
      "Epoch 13/100\n",
      "13/13 [==============================] - 4s 322ms/step - loss: 21.8706 - mae: 3.6434 - accuracy: 0.5453 - val_loss: 278.9249 - val_mae: 15.1225 - val_accuracy: 0.6645\n",
      "Epoch 14/100\n",
      "13/13 [==============================] - 4s 324ms/step - loss: 22.9623 - mae: 3.7253 - accuracy: 0.5485 - val_loss: 214.2319 - val_mae: 13.3152 - val_accuracy: 0.7099\n",
      "Epoch 15/100\n",
      "13/13 [==============================] - 4s 324ms/step - loss: 21.1209 - mae: 3.5715 - accuracy: 0.5544 - val_loss: 161.8052 - val_mae: 11.3938 - val_accuracy: 0.7085\n",
      "Epoch 16/100\n",
      "13/13 [==============================] - 4s 323ms/step - loss: 23.4664 - mae: 3.7690 - accuracy: 0.5584 - val_loss: 184.5878 - val_mae: 12.3438 - val_accuracy: 0.7170\n",
      "Epoch 17/100\n",
      "13/13 [==============================] - 4s 326ms/step - loss: 28.5996 - mae: 4.1426 - accuracy: 0.5653 - val_loss: 89.7231 - val_mae: 7.8288 - val_accuracy: 0.7064\n",
      "Epoch 18/100\n",
      "13/13 [==============================] - 4s 326ms/step - loss: 24.1867 - mae: 3.8286 - accuracy: 0.5776 - val_loss: 47.1325 - val_mae: 5.8590 - val_accuracy: 0.7418\n",
      "Epoch 19/100\n",
      "13/13 [==============================] - 4s 328ms/step - loss: 24.8319 - mae: 3.8744 - accuracy: 0.5749 - val_loss: 29.7121 - val_mae: 4.4292 - val_accuracy: 0.7355\n",
      "Epoch 20/100\n",
      "13/13 [==============================] - 4s 326ms/step - loss: 19.9954 - mae: 3.4702 - accuracy: 0.5767 - val_loss: 30.7759 - val_mae: 4.5296 - val_accuracy: 0.7234\n",
      "Epoch 21/100\n",
      "13/13 [==============================] - 4s 325ms/step - loss: 20.4472 - mae: 3.5132 - accuracy: 0.5873 - val_loss: 30.4408 - val_mae: 4.3725 - val_accuracy: 0.7348\n",
      "Epoch 22/100\n",
      "13/13 [==============================] - 4s 323ms/step - loss: 20.1981 - mae: 3.4923 - accuracy: 0.5944 - val_loss: 58.9679 - val_mae: 6.1622 - val_accuracy: 0.7199\n",
      "Epoch 23/100\n",
      "13/13 [==============================] - 4s 319ms/step - loss: 22.2351 - mae: 3.6429 - accuracy: 0.5994 - val_loss: 51.9289 - val_mae: 6.0224 - val_accuracy: 0.7369\n",
      "Epoch 24/100\n",
      "13/13 [==============================] - 4s 324ms/step - loss: 17.6650 - mae: 3.2485 - accuracy: 0.5967 - val_loss: 16.2368 - val_mae: 3.1145 - val_accuracy: 0.7270\n",
      "Epoch 25/100\n",
      "13/13 [==============================] - 4s 330ms/step - loss: 17.0900 - mae: 3.2077 - accuracy: 0.6154 - val_loss: 28.1651 - val_mae: 4.3787 - val_accuracy: 0.7404\n",
      "Epoch 26/100\n",
      "13/13 [==============================] - 4s 326ms/step - loss: 21.8766 - mae: 3.6115 - accuracy: 0.6061 - val_loss: 27.0492 - val_mae: 4.3090 - val_accuracy: 0.7248\n",
      "Epoch 27/100\n",
      "13/13 [==============================] - 4s 325ms/step - loss: 18.1152 - mae: 3.3005 - accuracy: 0.6233 - val_loss: 7.7820 - val_mae: 1.9499 - val_accuracy: 0.7333\n",
      "Epoch 28/100\n",
      "13/13 [==============================] - 4s 328ms/step - loss: 16.3404 - mae: 3.1311 - accuracy: 0.6217 - val_loss: 23.0883 - val_mae: 3.9041 - val_accuracy: 0.7482\n",
      "Epoch 29/100\n",
      "13/13 [==============================] - 4s 326ms/step - loss: 18.4432 - mae: 3.3158 - accuracy: 0.6251 - val_loss: 7.8920 - val_mae: 1.9649 - val_accuracy: 0.7461\n",
      "Epoch 30/100\n",
      "13/13 [==============================] - 4s 326ms/step - loss: 16.3372 - mae: 3.1350 - accuracy: 0.6276 - val_loss: 18.3365 - val_mae: 3.2343 - val_accuracy: 0.7106\n",
      "Epoch 31/100\n",
      "13/13 [==============================] - 4s 325ms/step - loss: 16.7336 - mae: 3.1541 - accuracy: 0.6379 - val_loss: 18.2932 - val_mae: 3.4346 - val_accuracy: 0.7369\n",
      "Epoch 32/100\n",
      "13/13 [==============================] - 4s 327ms/step - loss: 16.7890 - mae: 3.1567 - accuracy: 0.6350 - val_loss: 16.1759 - val_mae: 3.0477 - val_accuracy: 0.7326\n",
      "Epoch 33/100\n",
      "13/13 [==============================] - 4s 326ms/step - loss: 15.3526 - mae: 3.0247 - accuracy: 0.6368 - val_loss: 10.8464 - val_mae: 2.3655 - val_accuracy: 0.7383\n",
      "Epoch 34/100\n",
      "13/13 [==============================] - 4s 325ms/step - loss: 16.6417 - mae: 3.1519 - accuracy: 0.6373 - val_loss: 10.4924 - val_mae: 2.3731 - val_accuracy: 0.7404\n",
      "Epoch 35/100\n",
      "13/13 [==============================] - 4s 325ms/step - loss: 16.2192 - mae: 3.0978 - accuracy: 0.6491 - val_loss: 8.7832 - val_mae: 2.0927 - val_accuracy: 0.7220\n",
      "Epoch 36/100\n",
      "13/13 [==============================] - 4s 336ms/step - loss: 20.4273 - mae: 3.4482 - accuracy: 0.6473 - val_loss: 12.0629 - val_mae: 2.5994 - val_accuracy: 0.7454\n",
      "Epoch 37/100\n",
      "13/13 [==============================] - 4s 326ms/step - loss: 14.5735 - mae: 2.9452 - accuracy: 0.6489 - val_loss: 11.4339 - val_mae: 2.4458 - val_accuracy: 0.7348\n",
      "Epoch 38/100\n",
      "13/13 [==============================] - 4s 329ms/step - loss: 15.9828 - mae: 3.0773 - accuracy: 0.6668 - val_loss: 17.9080 - val_mae: 3.1530 - val_accuracy: 0.7461\n",
      "Epoch 39/100\n",
      "13/13 [==============================] - 4s 326ms/step - loss: 20.1868 - mae: 3.4698 - accuracy: 0.6517 - val_loss: 10.9320 - val_mae: 2.3611 - val_accuracy: 0.7362\n",
      "Epoch 40/100\n",
      "13/13 [==============================] - 4s 328ms/step - loss: 16.3092 - mae: 3.1094 - accuracy: 0.6567 - val_loss: 10.3443 - val_mae: 2.3500 - val_accuracy: 0.7617\n",
      "Epoch 41/100\n",
      "13/13 [==============================] - 4s 322ms/step - loss: 13.2074 - mae: 2.7989 - accuracy: 0.6666 - val_loss: 11.5765 - val_mae: 2.5071 - val_accuracy: 0.7404\n",
      "Epoch 42/100\n",
      "13/13 [==============================] - 4s 320ms/step - loss: 13.3051 - mae: 2.8078 - accuracy: 0.6714 - val_loss: 11.1818 - val_mae: 2.4385 - val_accuracy: 0.7496\n",
      "Epoch 43/100\n",
      "13/13 [==============================] - 4s 318ms/step - loss: 13.9193 - mae: 2.8698 - accuracy: 0.6723 - val_loss: 7.7724 - val_mae: 1.9771 - val_accuracy: 0.7383\n",
      "Epoch 44/100\n",
      "13/13 [==============================] - 4s 319ms/step - loss: 16.0330 - mae: 3.0806 - accuracy: 0.6737 - val_loss: 20.1684 - val_mae: 3.3717 - val_accuracy: 0.7440\n",
      "Epoch 45/100\n",
      "13/13 [==============================] - 4s 319ms/step - loss: 19.4226 - mae: 3.3763 - accuracy: 0.6787 - val_loss: 14.8446 - val_mae: 2.9184 - val_accuracy: 0.7539\n",
      "Epoch 46/100\n",
      "13/13 [==============================] - 4s 317ms/step - loss: 24.8826 - mae: 3.8040 - accuracy: 0.6714 - val_loss: 15.1789 - val_mae: 2.8447 - val_accuracy: 0.7489\n",
      "Epoch 47/100\n",
      "13/13 [==============================] - 4s 320ms/step - loss: 17.3742 - mae: 3.1967 - accuracy: 0.6654 - val_loss: 8.4400 - val_mae: 2.1209 - val_accuracy: 0.7404\n",
      "Epoch 48/100\n",
      "13/13 [==============================] - 4s 319ms/step - loss: 15.0483 - mae: 2.9848 - accuracy: 0.6631 - val_loss: 7.9884 - val_mae: 2.0361 - val_accuracy: 0.7539\n",
      "Epoch 49/100\n",
      "13/13 [==============================] - 4s 328ms/step - loss: 12.0667 - mae: 2.6659 - accuracy: 0.6771 - val_loss: 7.4019 - val_mae: 1.9107 - val_accuracy: 0.7504\n",
      "Epoch 50/100\n",
      "13/13 [==============================] - 4s 329ms/step - loss: 13.0777 - mae: 2.7741 - accuracy: 0.6776 - val_loss: 11.6351 - val_mae: 2.5131 - val_accuracy: 0.7418\n",
      "Epoch 51/100\n",
      "13/13 [==============================] - 4s 328ms/step - loss: 13.4023 - mae: 2.8081 - accuracy: 0.6902 - val_loss: 6.8505 - val_mae: 1.8489 - val_accuracy: 0.7447\n",
      "Epoch 52/100\n",
      "13/13 [==============================] - 4s 327ms/step - loss: 13.4361 - mae: 2.8065 - accuracy: 0.6893 - val_loss: 11.5426 - val_mae: 2.6245 - val_accuracy: 0.7411\n",
      "Epoch 53/100\n",
      "13/13 [==============================] - 4s 321ms/step - loss: 17.5963 - mae: 3.2184 - accuracy: 0.6861 - val_loss: 11.8308 - val_mae: 2.5384 - val_accuracy: 0.7411\n",
      "Epoch 54/100\n",
      "13/13 [==============================] - 4s 330ms/step - loss: 13.8696 - mae: 2.8593 - accuracy: 0.6957 - val_loss: 11.5434 - val_mae: 2.4981 - val_accuracy: 0.7461\n",
      "Epoch 55/100\n",
      "13/13 [==============================] - 4s 326ms/step - loss: 12.3133 - mae: 2.6879 - accuracy: 0.6939 - val_loss: 12.0950 - val_mae: 2.5593 - val_accuracy: 0.7518\n",
      "Epoch 56/100\n",
      "13/13 [==============================] - 4s 323ms/step - loss: 11.0192 - mae: 2.5432 - accuracy: 0.6985 - val_loss: 13.6998 - val_mae: 2.8637 - val_accuracy: 0.7426\n",
      "Epoch 57/100\n",
      "13/13 [==============================] - 4s 321ms/step - loss: 12.4471 - mae: 2.7076 - accuracy: 0.6987 - val_loss: 7.4535 - val_mae: 1.9060 - val_accuracy: 0.7667\n",
      "Epoch 58/100\n",
      "13/13 [==============================] - 4s 334ms/step - loss: 11.1569 - mae: 2.5544 - accuracy: 0.7189 - val_loss: 6.2643 - val_mae: 1.6982 - val_accuracy: 0.7418\n",
      "Epoch 59/100\n",
      "13/13 [==============================] - 4s 324ms/step - loss: 12.5992 - mae: 2.7187 - accuracy: 0.7042 - val_loss: 11.3521 - val_mae: 2.4228 - val_accuracy: 0.7546\n",
      "Epoch 60/100\n",
      "13/13 [==============================] - 4s 322ms/step - loss: 11.8190 - mae: 2.6253 - accuracy: 0.7150 - val_loss: 8.6894 - val_mae: 2.0981 - val_accuracy: 0.7652\n",
      "Epoch 61/100\n",
      "13/13 [==============================] - 4s 323ms/step - loss: 11.6672 - mae: 2.6084 - accuracy: 0.7090 - val_loss: 8.4799 - val_mae: 2.0281 - val_accuracy: 0.7482\n",
      "Epoch 62/100\n",
      "13/13 [==============================] - 4s 330ms/step - loss: 11.5986 - mae: 2.6023 - accuracy: 0.7182 - val_loss: 6.4709 - val_mae: 1.7172 - val_accuracy: 0.7667\n",
      "Epoch 63/100\n",
      "13/13 [==============================] - 4s 317ms/step - loss: 11.3130 - mae: 2.5686 - accuracy: 0.7083 - val_loss: 12.4120 - val_mae: 2.6386 - val_accuracy: 0.7525\n",
      "Epoch 64/100\n",
      "13/13 [==============================] - 4s 318ms/step - loss: 11.2480 - mae: 2.5586 - accuracy: 0.7234 - val_loss: 7.1428 - val_mae: 1.8416 - val_accuracy: 0.7447\n",
      "Epoch 65/100\n",
      "13/13 [==============================] - 4s 319ms/step - loss: 10.7549 - mae: 2.5018 - accuracy: 0.7191 - val_loss: 8.2981 - val_mae: 2.1396 - val_accuracy: 0.7525\n",
      "Epoch 66/100\n",
      "13/13 [==============================] - 4s 318ms/step - loss: 9.8710 - mae: 2.3986 - accuracy: 0.7379 - val_loss: 7.0048 - val_mae: 1.8537 - val_accuracy: 0.7567\n",
      "Epoch 67/100\n",
      "13/13 [==============================] - 4s 321ms/step - loss: 9.9913 - mae: 2.4056 - accuracy: 0.7306 - val_loss: 7.0899 - val_mae: 1.8580 - val_accuracy: 0.7560\n",
      "Epoch 68/100\n",
      "13/13 [==============================] - 4s 326ms/step - loss: 11.4898 - mae: 2.5833 - accuracy: 0.7329 - val_loss: 7.2847 - val_mae: 1.8653 - val_accuracy: 0.7348\n",
      "Epoch 69/100\n",
      "13/13 [==============================] - 4s 326ms/step - loss: 10.6844 - mae: 2.4942 - accuracy: 0.7328 - val_loss: 6.2279 - val_mae: 1.7180 - val_accuracy: 0.7390\n",
      "Epoch 70/100\n",
      "13/13 [==============================] - 4s 320ms/step - loss: 11.0141 - mae: 2.5260 - accuracy: 0.7333 - val_loss: 14.3674 - val_mae: 2.9644 - val_accuracy: 0.7496\n",
      "Epoch 71/100\n",
      "13/13 [==============================] - 4s 323ms/step - loss: 12.4493 - mae: 2.6862 - accuracy: 0.7464 - val_loss: 12.1951 - val_mae: 2.5650 - val_accuracy: 0.7532\n",
      "Epoch 72/100\n",
      "13/13 [==============================] - 4s 330ms/step - loss: 10.6819 - mae: 2.4863 - accuracy: 0.7411 - val_loss: 14.9101 - val_mae: 2.9072 - val_accuracy: 0.7574\n",
      "Epoch 73/100\n",
      "13/13 [==============================] - 4s 322ms/step - loss: 10.3513 - mae: 2.4503 - accuracy: 0.7492 - val_loss: 11.3020 - val_mae: 2.4924 - val_accuracy: 0.7539\n",
      "Epoch 74/100\n",
      "13/13 [==============================] - 4s 319ms/step - loss: 10.4779 - mae: 2.4580 - accuracy: 0.7508 - val_loss: 7.0753 - val_mae: 1.9046 - val_accuracy: 0.7631\n",
      "Epoch 75/100\n",
      "13/13 [==============================] - 4s 318ms/step - loss: 10.8027 - mae: 2.5044 - accuracy: 0.7445 - val_loss: 13.6014 - val_mae: 2.7433 - val_accuracy: 0.7362\n",
      "Epoch 76/100\n",
      "13/13 [==============================] - 4s 321ms/step - loss: 10.9673 - mae: 2.5064 - accuracy: 0.7468 - val_loss: 7.1065 - val_mae: 1.8546 - val_accuracy: 0.7433\n",
      "Epoch 77/100\n",
      "13/13 [==============================] - 4s 319ms/step - loss: 9.7649 - mae: 2.3750 - accuracy: 0.7510 - val_loss: 7.8716 - val_mae: 1.9967 - val_accuracy: 0.7504\n",
      "Epoch 78/100\n",
      "13/13 [==============================] - 4s 319ms/step - loss: 9.4421 - mae: 2.3355 - accuracy: 0.7352 - val_loss: 18.3707 - val_mae: 3.4059 - val_accuracy: 0.7539\n",
      "Epoch 79/100\n",
      "13/13 [==============================] - 4s 324ms/step - loss: 11.0488 - mae: 2.5298 - accuracy: 0.7530 - val_loss: 9.8104 - val_mae: 2.3079 - val_accuracy: 0.7489\n",
      "Epoch 80/100\n",
      "13/13 [==============================] - 4s 337ms/step - loss: 11.0138 - mae: 2.5199 - accuracy: 0.7519 - val_loss: 6.3047 - val_mae: 1.7350 - val_accuracy: 0.7596\n",
      "Epoch 81/100\n",
      "13/13 [==============================] - 4s 335ms/step - loss: 12.0810 - mae: 2.6388 - accuracy: 0.7657 - val_loss: 6.4433 - val_mae: 1.7964 - val_accuracy: 0.7333\n",
      "Epoch 82/100\n",
      "13/13 [==============================] - 4s 336ms/step - loss: 13.5028 - mae: 2.7928 - accuracy: 0.7546 - val_loss: 6.7279 - val_mae: 1.8476 - val_accuracy: 0.7546\n",
      "Epoch 83/100\n",
      "13/13 [==============================] - 4s 322ms/step - loss: 12.1914 - mae: 2.6575 - accuracy: 0.7565 - val_loss: 9.3673 - val_mae: 2.2231 - val_accuracy: 0.7475\n",
      "Epoch 84/100\n",
      "13/13 [==============================] - 4s 325ms/step - loss: 9.6347 - mae: 2.3612 - accuracy: 0.7581 - val_loss: 6.5951 - val_mae: 1.7891 - val_accuracy: 0.7638\n",
      "Epoch 85/100\n",
      "13/13 [==============================] - 4s 322ms/step - loss: 8.6886 - mae: 2.2311 - accuracy: 0.7549 - val_loss: 6.1495 - val_mae: 1.6878 - val_accuracy: 0.7504\n",
      "Epoch 86/100\n",
      "13/13 [==============================] - 4s 328ms/step - loss: 7.9612 - mae: 2.1432 - accuracy: 0.7686 - val_loss: 5.2213 - val_mae: 1.5249 - val_accuracy: 0.7532\n",
      "Epoch 87/100\n",
      "13/13 [==============================] - 4s 339ms/step - loss: 10.4490 - mae: 2.4598 - accuracy: 0.7569 - val_loss: 6.8884 - val_mae: 1.8681 - val_accuracy: 0.7397\n",
      "Epoch 88/100\n",
      "13/13 [==============================] - 4s 327ms/step - loss: 10.9851 - mae: 2.5033 - accuracy: 0.7712 - val_loss: 7.9985 - val_mae: 2.0042 - val_accuracy: 0.7482\n",
      "Epoch 89/100\n",
      "13/13 [==============================] - 4s 332ms/step - loss: 8.8243 - mae: 2.2473 - accuracy: 0.7664 - val_loss: 17.3724 - val_mae: 3.1286 - val_accuracy: 0.7454\n",
      "Epoch 90/100\n",
      "13/13 [==============================] - 4s 330ms/step - loss: 11.2782 - mae: 2.5485 - accuracy: 0.7702 - val_loss: 8.8381 - val_mae: 2.1614 - val_accuracy: 0.7660\n",
      "Epoch 91/100\n"
     ]
    },
    {
     "name": "stdout",
     "output_type": "stream",
     "text": [
      "13/13 [==============================] - 4s 322ms/step - loss: 9.1179 - mae: 2.2969 - accuracy: 0.7758 - val_loss: 7.7512 - val_mae: 2.0446 - val_accuracy: 0.7539\n",
      "Epoch 92/100\n",
      "13/13 [==============================] - 4s 320ms/step - loss: 12.6268 - mae: 2.7132 - accuracy: 0.7826 - val_loss: 9.5449 - val_mae: 2.2395 - val_accuracy: 0.7560\n",
      "Epoch 93/100\n",
      "13/13 [==============================] - 4s 319ms/step - loss: 9.4760 - mae: 2.3279 - accuracy: 0.7778 - val_loss: 5.4547 - val_mae: 1.5775 - val_accuracy: 0.7567\n",
      "Epoch 94/100\n",
      "13/13 [==============================] - 4s 318ms/step - loss: 9.1386 - mae: 2.2927 - accuracy: 0.7819 - val_loss: 9.9657 - val_mae: 2.2727 - val_accuracy: 0.7631\n",
      "Epoch 95/100\n",
      "13/13 [==============================] - 4s 329ms/step - loss: 8.8381 - mae: 2.2497 - accuracy: 0.7867 - val_loss: 5.3882 - val_mae: 1.5702 - val_accuracy: 0.7525\n",
      "Epoch 96/100\n",
      "13/13 [==============================] - 4s 334ms/step - loss: 10.1889 - mae: 2.4227 - accuracy: 0.7801 - val_loss: 6.1045 - val_mae: 1.6763 - val_accuracy: 0.7624\n",
      "Epoch 97/100\n",
      "13/13 [==============================] - 4s 322ms/step - loss: 10.0745 - mae: 2.4063 - accuracy: 0.7840 - val_loss: 16.3134 - val_mae: 2.9562 - val_accuracy: 0.7574\n",
      "Epoch 98/100\n",
      "13/13 [==============================] - 4s 331ms/step - loss: 8.9115 - mae: 2.2589 - accuracy: 0.7881 - val_loss: 10.1172 - val_mae: 2.2992 - val_accuracy: 0.7454\n",
      "Epoch 99/100\n",
      "13/13 [==============================] - 4s 331ms/step - loss: 8.0818 - mae: 2.1467 - accuracy: 0.7883 - val_loss: 16.8712 - val_mae: 3.2823 - val_accuracy: 0.7454\n",
      "Epoch 100/100\n",
      "13/13 [==============================] - 4s 320ms/step - loss: 9.2560 - mae: 2.2989 - accuracy: 0.7971 - val_loss: 7.3136 - val_mae: 1.9046 - val_accuracy: 0.7631\n",
      "Duration: 0:07:17.583493\n"
     ]
    }
   ],
   "source": [
    "start_time = datetime.now()\n",
    "history = model.fit(X_train,y_train,epochs = epochs,batch_size = 450,validation_split = 0.2)\n",
    "end_time = datetime.now()\n",
    "print('Duration: {}'.format(end_time - start_time))"
   ]
  },
  {
   "cell_type": "code",
   "execution_count": 11,
   "metadata": {},
   "outputs": [
    {
     "name": "stdout",
     "output_type": "stream",
     "text": [
      "221/221 - 2s - loss: 4.6625 - mae: 1.6085 - accuracy: 0.8573\n"
     ]
    },
    {
     "data": {
      "image/png": "[encoded data removed]",
      "text/plain": [
       "<Figure size 432x288 with 1 Axes>"
      ]
     },
     "metadata": {
      "needs_background": "light"
     },
     "output_type": "display_data"
    }
   ],
   "source": [
    "plt.plot(history.history['accuracy'], label='accuracy')\n",
    "plt.plot(history.history['val_accuracy'], label = 'val_accuracy')\n",
    "plt.xlabel('Epoch')\n",
    "plt.ylabel('Accuracy')\n",
    "plt.ylim([0.5, 1])\n",
    "plt.legend(loc='lower right')\n",
    "\n",
    "test_loss, test_acc, acc = model.evaluate(X_train,y_train, verbose=2)"
   ]
  },
  {
   "cell_type": "code",
   "execution_count": 12,
   "metadata": {},
   "outputs": [],
   "source": [
    "\n",
    "model_name = \"data/models/model_2block_2FC_epochs_{}_\".format(epochs) +strftime(\"%Y-%m-%d_%H-%M-%S\")+\".keras\"\n",
    "model.save(model_name)"
   ]
  },
  {
   "cell_type": "code",
   "execution_count": 13,
   "metadata": {},
   "outputs": [
    {
     "data": {
      "text/plain": [
       "'data/models/model_2block_2FC_epochs_100_2020-12-04_23-17-41.keras'"
      ]
     },
     "execution_count": 13,
     "metadata": {},
     "output_type": "execute_result"
    }
   ],
   "source": [
    "model_name"
   ]
  },
  {
   "cell_type": "code",
   "execution_count": 14,
   "metadata": {},
   "outputs": [],
   "source": [
    "# model_name = \"model_simple_nn_2020-11-13_06-57-10.keras\"\n",
    "model = keras.models.load_model(model_name)"
   ]
  },
  {
   "cell_type": "code",
   "execution_count": 15,
   "metadata": {},
   "outputs": [
    {
     "name": "stdout",
     "output_type": "stream",
     "text": [
      "('Failed to import pydot. You must `pip install pydot` and install graphviz (https://graphviz.gitlab.io/download/), ', 'for `pydotprint` to work.')\n"
     ]
    }
   ],
   "source": [
    "keras.utils.plot_model(model, show_shapes=True)"
   ]
  },
  {
   "cell_type": "code",
   "execution_count": 16,
   "metadata": {},
   "outputs": [],
   "source": [
    "images = []\n",
    "\n",
    "test_data = pd.read_csv('data/test.csv') \n",
    "for idx, sample in test_data.iterrows():\n",
    "    image = np.array(sample['Image'].split(' '), dtype=int)\n",
    "    image = np.reshape(image, (96,96,1))\n",
    "    images.append(image)\n",
    "X_predict = np.array(images)"
   ]
  },
  {
   "cell_type": "markdown",
   "metadata": {},
   "source": [
    "# Make Predictions"
   ]
  },
  {
   "cell_type": "code",
   "execution_count": 17,
   "metadata": {},
   "outputs": [],
   "source": [
    "Id_data = pd.read_csv('data/IdLookupTable.csv') \n",
    "\n",
    "test_preds = model.predict(X_predict)\n",
    "test_preds[test_preds > 96] = 96\n",
    "\n",
    "image_id = list(Id_data[\"ImageId\"]-1)\n",
    "mark_names = list(Id_data['FeatureName'])\n",
    "mark_id = [mark_names.index(x) for x in mark_names]\n",
    "\n",
    "req_predictions = [test_preds[x,y] for x,y in zip(image_id,mark_id)]\n",
    "\n",
    "rowid = pd.Series(Id_data['RowId'], name = 'RowId')\n",
    "loc = pd.Series(req_predictions, name = 'Location')\n",
    "submission = pd.concat([rowid, loc], axis = 1)\n",
    "submission.to_csv('data/2block_2FC_submission.csv',index = False)"
   ]
  },
  {
   "cell_type": "code",
   "execution_count": null,
   "metadata": {},
   "outputs": [],
   "source": []
  },
  {
   "cell_type": "code",
   "execution_count": null,
   "metadata": {},
   "outputs": [],
   "source": []
  }
 ],
 "metadata": {
  "environment": {
   "name": "tf2-gpu.2-1.m55",
   "type": "gcloud",
   "uri": "gcr.io/deeplearning-platform-release/tf2-gpu.2-1:m55"
  },
  "kernelspec": {
   "display_name": "Python 3",
   "language": "python",
   "name": "python3"
  },
  "language_info": {
   "codemirror_mode": {
    "name": "ipython",
    "version": 3
   },
   "file_extension": ".py",
   "mimetype": "text/x-python",
   "name": "python",
   "nbconvert_exporter": "python",
   "pygments_lexer": "ipython3",
   "version": "3.6.9"
  }
 },
 "nbformat": 4,
 "nbformat_minor": 4
}
