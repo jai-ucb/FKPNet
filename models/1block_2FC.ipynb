{
 "cells": [
  {
   "cell_type": "markdown",
   "metadata": {},
   "source": [
    "# GPU Monitor"
   ]
  },
  {
   "cell_type": "code",
   "execution_count": 1,
   "metadata": {},
   "outputs": [],
   "source": [
    "#https://developer.nvidia.com/blog/profiling-and-optimizing-deep-neural-networks-with-dlprof-and-pyprof/\n",
    "#nvidia-smi\n",
    "#nvidia-smi dmon"
   ]
  },
  {
   "cell_type": "markdown",
   "metadata": {},
   "source": [
    "## Import Libs"
   ]
  },
  {
   "cell_type": "code",
   "execution_count": 2,
   "metadata": {},
   "outputs": [],
   "source": [
    "# This tells matplotlib not to try opening a new window for each plot.\n",
    "%matplotlib inline\n",
    "\n",
    "import os\n",
    "####*IMPORANT*: Have to do this line *before* importing tensorflow\n",
    "os.environ['PYTHONHASHSEED']=str(1)\n",
    "\n",
    "# General libraries.\n",
    "import re\n",
    "import numpy as np\n",
    "import matplotlib.pyplot as plt\n",
    "import pandas as pd\n",
    "import pickle\n",
    "\n",
    "from sklearn.datasets import make_regression\n",
    "from sklearn.tree import DecisionTreeRegressor\n",
    "from sklearn.model_selection import cross_val_score\n",
    "from sklearn.metrics import confusion_matrix\n",
    "from sklearn import metrics\n",
    "from sklearn.model_selection import train_test_split\n",
    "from sklearn.ensemble import RandomForestRegressor\n",
    "\n",
    "import cv2\n",
    "from math import sin, cos, pi\n",
    "from time import strftime\n",
    "from datetime import datetime"
   ]
  },
  {
   "cell_type": "code",
   "execution_count": 3,
   "metadata": {},
   "outputs": [],
   "source": [
    "train_data = pd.read_csv('data/training.csv') \n",
    "test_data = pd.read_csv('data/test.csv') \n",
    "Id_data = pd.read_csv('data/IdLookupTable.csv') "
   ]
  },
  {
   "cell_type": "markdown",
   "metadata": {},
   "source": [
    "# MODEL EXAMPLE\n",
    "https://www.tensorflow.org/tutorials/images/cnn"
   ]
  },
  {
   "cell_type": "code",
   "execution_count": 4,
   "metadata": {},
   "outputs": [],
   "source": [
    "from tensorflow import keras\n",
    "from keras.layers import Conv2D,Dropout,Dense,Flatten\n",
    "from keras.models import Sequential\n",
    "from keras.layers.advanced_activations import LeakyReLU\n",
    "from keras.models import Sequential, Model\n",
    "from keras.layers import Activation, Convolution2D, MaxPooling2D, BatchNormalization, Flatten, Dense, Dropout, Conv2D,MaxPool2D, ZeroPadding2D\n",
    "import random\n",
    "import tensorflow as tf\n",
    "\n"
   ]
  },
  {
   "cell_type": "code",
   "execution_count": 5,
   "metadata": {},
   "outputs": [],
   "source": [
    "epochs = 100\n",
    "def reset_random_seeds():\n",
    "    os.environ['PYTHONHASHSEED']=str(1)\n",
    "    tf.random.set_seed(1)\n",
    "    np.random.seed(1)\n",
    "    random.seed(1)\n",
    "\n",
    "#make some random data\n",
    "reset_random_seeds()"
   ]
  },
  {
   "cell_type": "code",
   "execution_count": 6,
   "metadata": {},
   "outputs": [
    {
     "name": "stdout",
     "output_type": "stream",
     "text": [
      "Model: \"sequential\"\n",
      "_________________________________________________________________\n",
      "Layer (type)                 Output Shape              Param #   \n",
      "=================================================================\n",
      "conv2d (Conv2D)              (None, 96, 96, 32)        288       \n",
      "_________________________________________________________________\n",
      "leaky_re_lu (LeakyReLU)      (None, 96, 96, 32)        0         \n",
      "_________________________________________________________________\n",
      "batch_normalization (BatchNo (None, 96, 96, 32)        128       \n",
      "_________________________________________________________________\n",
      "conv2d_1 (Conv2D)            (None, 96, 96, 32)        9216      \n",
      "_________________________________________________________________\n",
      "leaky_re_lu_1 (LeakyReLU)    (None, 96, 96, 32)        0         \n",
      "_________________________________________________________________\n",
      "batch_normalization_1 (Batch (None, 96, 96, 32)        128       \n",
      "_________________________________________________________________\n",
      "max_pooling2d (MaxPooling2D) (None, 48, 48, 32)        0         \n",
      "_________________________________________________________________\n",
      "flatten (Flatten)            (None, 73728)             0         \n",
      "_________________________________________________________________\n",
      "dense (Dense)                (None, 512)               37749248  \n",
      "_________________________________________________________________\n",
      "dropout (Dropout)            (None, 512)               0         \n",
      "_________________________________________________________________\n",
      "dense_1 (Dense)              (None, 30)                15390     \n",
      "=================================================================\n",
      "Total params: 37,774,398\n",
      "Trainable params: 37,774,270\n",
      "Non-trainable params: 128\n",
      "_________________________________________________________________\n",
      "('Failed to import pydot. You must `pip install pydot` and install graphviz (https://graphviz.gitlab.io/download/), ', 'for `pydotprint` to work.')\n"
     ]
    }
   ],
   "source": [
    "model = Sequential()\n",
    "\n",
    "#Block 1\n",
    "model.add(Convolution2D(32, (3,3), padding='same', use_bias=False, input_shape=(96,96,1)))\n",
    "model.add(LeakyReLU(alpha = 0.1))\n",
    "model.add(BatchNormalization())\n",
    "\n",
    "model.add(Convolution2D(32, (3,3), padding='same', use_bias=False))\n",
    "model.add(LeakyReLU(alpha = 0.1))\n",
    "model.add(BatchNormalization())\n",
    "model.add(MaxPool2D(pool_size=(2, 2)))\n",
    "\n",
    "model.add(Flatten())\n",
    "model.add(Dense(512,activation='relu'))\n",
    "model.add(Dropout(0.1))\n",
    "model.add(Dense(30))\n",
    "model.summary()\n",
    "keras.utils.plot_model(model, show_shapes=True)"
   ]
  },
  {
   "cell_type": "code",
   "execution_count": 7,
   "metadata": {},
   "outputs": [],
   "source": [
    "model.compile(optimizer='adam',loss='mean_squared_error',metrics=['mae','accuracy'])"
   ]
  },
  {
   "cell_type": "code",
   "execution_count": 8,
   "metadata": {},
   "outputs": [
    {
     "name": "stdout",
     "output_type": "stream",
     "text": [
      "7049\n"
     ]
    }
   ],
   "source": [
    "train_data = pd.read_csv('data/training.csv')\n",
    "\n",
    "images = []\n",
    "y_train = []\n",
    "\n",
    "print(len(train_data))\n",
    "train_data = train_data.fillna(method = 'ffill')\n",
    "for idx, sample in train_data.iterrows():\n",
    "    image = np.array(sample['Image'].split(' '), dtype=int)\n",
    "    image = np.reshape(image, (96,96,1))\n",
    "    images.append(image)\n",
    "X_train = np.array(images)"
   ]
  },
  {
   "cell_type": "code",
   "execution_count": 9,
   "metadata": {},
   "outputs": [],
   "source": [
    "training = train_data.drop('Image',axis = 1)\n",
    "\n",
    "y_train = []\n",
    "for idx, sample in training.iterrows():\n",
    "    y = training.iloc[idx,:]\n",
    "    y_train.append(y)    \n",
    "y_train = np.array(y_train,dtype = 'float')"
   ]
  },
  {
   "cell_type": "code",
   "execution_count": 10,
   "metadata": {},
   "outputs": [
    {
     "name": "stdout",
     "output_type": "stream",
     "text": [
      "Epoch 1/100\n",
      " 2/13 [===>..........................] - ETA: 1s - loss: 2342.4167 - mae: 39.7437 - accuracy: 0.2400WARNING:tensorflow:Callbacks method `on_train_batch_end` is slow compared to the batch time (batch time: 0.0870s vs `on_train_batch_end` time: 0.1370s). Check your callbacks.\n",
      "13/13 [==============================] - 4s 276ms/step - loss: 812.2072 - mae: 20.8795 - accuracy: 0.2185 - val_loss: 5218.4219 - val_mae: 58.2783 - val_accuracy: 0.0844\n",
      "Epoch 2/100\n",
      "13/13 [==============================] - 3s 225ms/step - loss: 176.5594 - mae: 10.3952 - accuracy: 0.2188 - val_loss: 1055.5624 - val_mae: 24.3739 - val_accuracy: 0.6858\n",
      "Epoch 3/100\n",
      "13/13 [==============================] - 3s 225ms/step - loss: 105.3140 - mae: 8.0338 - accuracy: 0.2850 - val_loss: 189.6307 - val_mae: 10.7411 - val_accuracy: 0.0716\n",
      "Epoch 4/100\n",
      "13/13 [==============================] - 3s 224ms/step - loss: 72.3415 - mae: 6.6673 - accuracy: 0.3178 - val_loss: 263.8187 - val_mae: 13.2530 - val_accuracy: 0.6099\n",
      "Epoch 5/100\n",
      "13/13 [==============================] - 3s 224ms/step - loss: 60.9245 - mae: 6.1185 - accuracy: 0.3252 - val_loss: 206.7097 - val_mae: 11.9962 - val_accuracy: 0.4369\n",
      "Epoch 6/100\n",
      "13/13 [==============================] - 3s 224ms/step - loss: 51.3024 - mae: 5.6177 - accuracy: 0.3586 - val_loss: 311.9362 - val_mae: 15.6357 - val_accuracy: 0.4305\n",
      "Epoch 7/100\n",
      "13/13 [==============================] - 3s 225ms/step - loss: 49.2847 - mae: 5.4986 - accuracy: 0.3728 - val_loss: 173.5725 - val_mae: 11.4086 - val_accuracy: 0.6199\n",
      "Epoch 8/100\n",
      "13/13 [==============================] - 3s 224ms/step - loss: 42.7921 - mae: 5.1252 - accuracy: 0.4036 - val_loss: 294.3564 - val_mae: 15.6660 - val_accuracy: 0.5823\n",
      "Epoch 9/100\n",
      "13/13 [==============================] - 3s 227ms/step - loss: 40.5304 - mae: 4.9876 - accuracy: 0.4274 - val_loss: 135.5482 - val_mae: 10.2129 - val_accuracy: 0.6539\n",
      "Epoch 10/100\n",
      "13/13 [==============================] - 3s 227ms/step - loss: 36.2578 - mae: 4.7161 - accuracy: 0.4364 - val_loss: 151.4305 - val_mae: 10.7463 - val_accuracy: 0.6645\n",
      "Epoch 11/100\n",
      "13/13 [==============================] - 3s 230ms/step - loss: 34.7910 - mae: 4.6215 - accuracy: 0.4503 - val_loss: 116.2868 - val_mae: 9.2476 - val_accuracy: 0.6993\n",
      "Epoch 12/100\n",
      "13/13 [==============================] - 3s 231ms/step - loss: 33.6513 - mae: 4.5343 - accuracy: 0.4637 - val_loss: 76.2728 - val_mae: 7.4966 - val_accuracy: 0.6915\n",
      "Epoch 13/100\n",
      "13/13 [==============================] - 3s 238ms/step - loss: 33.2236 - mae: 4.5042 - accuracy: 0.4758 - val_loss: 71.7141 - val_mae: 6.8720 - val_accuracy: 0.6901\n",
      "Epoch 14/100\n",
      "13/13 [==============================] - 3s 236ms/step - loss: 35.6854 - mae: 4.6713 - accuracy: 0.4753 - val_loss: 110.2011 - val_mae: 9.3573 - val_accuracy: 0.6965\n",
      "Epoch 15/100\n",
      "13/13 [==============================] - 3s 231ms/step - loss: 28.1349 - mae: 4.1425 - accuracy: 0.4806 - val_loss: 25.9391 - val_mae: 3.9330 - val_accuracy: 0.6943\n",
      "Epoch 16/100\n",
      "13/13 [==============================] - 3s 237ms/step - loss: 27.6794 - mae: 4.1108 - accuracy: 0.5038 - val_loss: 42.7020 - val_mae: 5.6068 - val_accuracy: 0.6986\n",
      "Epoch 17/100\n",
      "13/13 [==============================] - 3s 237ms/step - loss: 27.2453 - mae: 4.0737 - accuracy: 0.5006 - val_loss: 74.2466 - val_mae: 7.6655 - val_accuracy: 0.6908\n",
      "Epoch 18/100\n",
      "13/13 [==============================] - 3s 236ms/step - loss: 27.4212 - mae: 4.0801 - accuracy: 0.5008 - val_loss: 17.5578 - val_mae: 3.0592 - val_accuracy: 0.7007\n",
      "Epoch 19/100\n",
      "13/13 [==============================] - 3s 233ms/step - loss: 31.0248 - mae: 4.3316 - accuracy: 0.5254 - val_loss: 26.0603 - val_mae: 4.1805 - val_accuracy: 0.7170\n",
      "Epoch 20/100\n",
      "13/13 [==============================] - 3s 226ms/step - loss: 27.1978 - mae: 4.0403 - accuracy: 0.5224 - val_loss: 14.1240 - val_mae: 2.7703 - val_accuracy: 0.7177\n",
      "Epoch 21/100\n",
      "13/13 [==============================] - 3s 222ms/step - loss: 31.6824 - mae: 4.3481 - accuracy: 0.5164 - val_loss: 12.0602 - val_mae: 2.5585 - val_accuracy: 0.7113\n",
      "Epoch 22/100\n",
      "13/13 [==============================] - 3s 222ms/step - loss: 26.5586 - mae: 3.9918 - accuracy: 0.5182 - val_loss: 25.5040 - val_mae: 4.0638 - val_accuracy: 0.7319\n",
      "Epoch 23/100\n",
      "13/13 [==============================] - 3s 223ms/step - loss: 30.5281 - mae: 4.2860 - accuracy: 0.5295 - val_loss: 34.2123 - val_mae: 4.7902 - val_accuracy: 0.7440\n",
      "Epoch 24/100\n",
      "13/13 [==============================] - 3s 223ms/step - loss: 26.2375 - mae: 3.9785 - accuracy: 0.5347 - val_loss: 9.6660 - val_mae: 2.1693 - val_accuracy: 0.7255\n",
      "Epoch 25/100\n",
      "13/13 [==============================] - 3s 228ms/step - loss: 24.4574 - mae: 3.8346 - accuracy: 0.5393 - val_loss: 18.1572 - val_mae: 3.3252 - val_accuracy: 0.7333\n",
      "Epoch 26/100\n",
      "13/13 [==============================] - 3s 231ms/step - loss: 25.3169 - mae: 3.9085 - accuracy: 0.5395 - val_loss: 9.4125 - val_mae: 2.1707 - val_accuracy: 0.7277\n",
      "Epoch 27/100\n",
      "13/13 [==============================] - 3s 234ms/step - loss: 24.5110 - mae: 3.8378 - accuracy: 0.5434 - val_loss: 11.1011 - val_mae: 2.3764 - val_accuracy: 0.7362\n",
      "Epoch 28/100\n",
      "13/13 [==============================] - 3s 231ms/step - loss: 22.9163 - mae: 3.7202 - accuracy: 0.5641 - val_loss: 21.4901 - val_mae: 3.6119 - val_accuracy: 0.7284\n",
      "Epoch 29/100\n",
      "13/13 [==============================] - 3s 229ms/step - loss: 34.6039 - mae: 4.5375 - accuracy: 0.5595 - val_loss: 68.9785 - val_mae: 6.6492 - val_accuracy: 0.7333\n",
      "Epoch 30/100\n",
      "13/13 [==============================] - 3s 236ms/step - loss: 35.6423 - mae: 4.5801 - accuracy: 0.5499 - val_loss: 14.5533 - val_mae: 2.6551 - val_accuracy: 0.7397\n",
      "Epoch 31/100\n",
      "13/13 [==============================] - 3s 241ms/step - loss: 27.4049 - mae: 4.0367 - accuracy: 0.5510 - val_loss: 32.7490 - val_mae: 4.6769 - val_accuracy: 0.7206\n",
      "Epoch 32/100\n",
      "13/13 [==============================] - 3s 235ms/step - loss: 30.5597 - mae: 4.2931 - accuracy: 0.5528 - val_loss: 17.6884 - val_mae: 3.2235 - val_accuracy: 0.7426\n",
      "Epoch 33/100\n",
      "13/13 [==============================] - 3s 234ms/step - loss: 30.6145 - mae: 4.2462 - accuracy: 0.5726 - val_loss: 13.2106 - val_mae: 2.7157 - val_accuracy: 0.7184\n",
      "Epoch 34/100\n",
      "13/13 [==============================] - 3s 229ms/step - loss: 24.9843 - mae: 3.8783 - accuracy: 0.5653 - val_loss: 9.9229 - val_mae: 2.2383 - val_accuracy: 0.7340\n",
      "Epoch 35/100\n",
      "13/13 [==============================] - 3s 229ms/step - loss: 25.1622 - mae: 3.8889 - accuracy: 0.5599 - val_loss: 9.8400 - val_mae: 2.2404 - val_accuracy: 0.7284\n",
      "Epoch 36/100\n",
      "13/13 [==============================] - 3s 238ms/step - loss: 20.6355 - mae: 3.5085 - accuracy: 0.5655 - val_loss: 9.2403 - val_mae: 2.1154 - val_accuracy: 0.7496\n",
      "Epoch 37/100\n",
      "13/13 [==============================] - 3s 236ms/step - loss: 26.1562 - mae: 3.9346 - accuracy: 0.5732 - val_loss: 17.6727 - val_mae: 3.2206 - val_accuracy: 0.7319\n",
      "Epoch 38/100\n",
      "13/13 [==============================] - 3s 231ms/step - loss: 29.0422 - mae: 4.1324 - accuracy: 0.5760 - val_loss: 10.0322 - val_mae: 2.2501 - val_accuracy: 0.7482\n",
      "Epoch 39/100\n",
      "13/13 [==============================] - 3s 235ms/step - loss: 23.0943 - mae: 3.7096 - accuracy: 0.5767 - val_loss: 8.9042 - val_mae: 2.1661 - val_accuracy: 0.7397\n",
      "Epoch 40/100\n",
      "13/13 [==============================] - 3s 229ms/step - loss: 18.8010 - mae: 3.3493 - accuracy: 0.5813 - val_loss: 8.8272 - val_mae: 2.0807 - val_accuracy: 0.7482\n",
      "Epoch 41/100\n",
      "13/13 [==============================] - 3s 241ms/step - loss: 19.0820 - mae: 3.3720 - accuracy: 0.5866 - val_loss: 7.7399 - val_mae: 1.9113 - val_accuracy: 0.7426\n",
      "Epoch 42/100\n",
      "13/13 [==============================] - 3s 236ms/step - loss: 17.6243 - mae: 3.2362 - accuracy: 0.5983 - val_loss: 9.2983 - val_mae: 2.1535 - val_accuracy: 0.7376\n",
      "Epoch 43/100\n",
      "13/13 [==============================] - 3s 230ms/step - loss: 17.0199 - mae: 3.1924 - accuracy: 0.5973 - val_loss: 7.2121 - val_mae: 1.8520 - val_accuracy: 0.7426\n",
      "Epoch 44/100\n",
      "13/13 [==============================] - 3s 229ms/step - loss: 16.3477 - mae: 3.1169 - accuracy: 0.6191 - val_loss: 11.4816 - val_mae: 2.5418 - val_accuracy: 0.7560\n",
      "Epoch 45/100\n",
      "13/13 [==============================] - 3s 234ms/step - loss: 18.7528 - mae: 3.3213 - accuracy: 0.6193 - val_loss: 19.2589 - val_mae: 3.2606 - val_accuracy: 0.7426\n",
      "Epoch 46/100\n",
      "13/13 [==============================] - 3s 233ms/step - loss: 38.8919 - mae: 4.7966 - accuracy: 0.6131 - val_loss: 23.9062 - val_mae: 3.9281 - val_accuracy: 0.7184\n",
      "Epoch 47/100\n",
      "13/13 [==============================] - 3s 238ms/step - loss: 36.1920 - mae: 4.6502 - accuracy: 0.6123 - val_loss: 8.9289 - val_mae: 2.0814 - val_accuracy: 0.7142\n",
      "Epoch 48/100\n",
      "13/13 [==============================] - 3s 241ms/step - loss: 23.9814 - mae: 3.7751 - accuracy: 0.6021 - val_loss: 10.1359 - val_mae: 2.3282 - val_accuracy: 0.7404\n",
      "Epoch 49/100\n",
      "13/13 [==============================] - 3s 234ms/step - loss: 27.6859 - mae: 4.0435 - accuracy: 0.5971 - val_loss: 8.6040 - val_mae: 2.0754 - val_accuracy: 0.7284\n",
      "Epoch 50/100\n",
      "13/13 [==============================] - 3s 230ms/step - loss: 19.6159 - mae: 3.4023 - accuracy: 0.5934 - val_loss: 6.8275 - val_mae: 1.7863 - val_accuracy: 0.7440\n",
      "Epoch 51/100\n",
      "13/13 [==============================] - 3s 234ms/step - loss: 17.9670 - mae: 3.2569 - accuracy: 0.6122 - val_loss: 13.7340 - val_mae: 2.8104 - val_accuracy: 0.7376\n",
      "Epoch 52/100\n",
      "13/13 [==============================] - 3s 241ms/step - loss: 22.4711 - mae: 3.6545 - accuracy: 0.6113 - val_loss: 6.9750 - val_mae: 1.8294 - val_accuracy: 0.7504\n",
      "Epoch 53/100\n",
      "13/13 [==============================] - 3s 230ms/step - loss: 18.9715 - mae: 3.3392 - accuracy: 0.6111 - val_loss: 20.0082 - val_mae: 3.4599 - val_accuracy: 0.7312\n",
      "Epoch 54/100\n",
      "13/13 [==============================] - 3s 227ms/step - loss: 18.8351 - mae: 3.3320 - accuracy: 0.6162 - val_loss: 8.6087 - val_mae: 2.1054 - val_accuracy: 0.7404\n",
      "Epoch 55/100\n",
      "13/13 [==============================] - 3s 228ms/step - loss: 22.4284 - mae: 3.6357 - accuracy: 0.6132 - val_loss: 20.8896 - val_mae: 3.6660 - val_accuracy: 0.7277\n",
      "Epoch 56/100\n",
      "13/13 [==============================] - 3s 236ms/step - loss: 21.3041 - mae: 3.5377 - accuracy: 0.6320 - val_loss: 8.2816 - val_mae: 2.0241 - val_accuracy: 0.7539\n",
      "Epoch 57/100\n",
      "13/13 [==============================] - 3s 230ms/step - loss: 16.4648 - mae: 3.1160 - accuracy: 0.6324 - val_loss: 8.8402 - val_mae: 2.0846 - val_accuracy: 0.7596\n",
      "Epoch 58/100\n",
      "13/13 [==============================] - 3s 230ms/step - loss: 14.8342 - mae: 2.9536 - accuracy: 0.6388 - val_loss: 5.9731 - val_mae: 1.6642 - val_accuracy: 0.7390\n",
      "Epoch 59/100\n",
      "13/13 [==============================] - 3s 226ms/step - loss: 14.8831 - mae: 2.9670 - accuracy: 0.6464 - val_loss: 7.8285 - val_mae: 1.9760 - val_accuracy: 0.7532\n",
      "Epoch 60/100\n",
      "13/13 [==============================] - 3s 225ms/step - loss: 15.8753 - mae: 3.0509 - accuracy: 0.6473 - val_loss: 7.6023 - val_mae: 1.9355 - val_accuracy: 0.7397\n",
      "Epoch 61/100\n",
      "13/13 [==============================] - 3s 225ms/step - loss: 14.6590 - mae: 2.9379 - accuracy: 0.6471 - val_loss: 7.8496 - val_mae: 1.9357 - val_accuracy: 0.7376\n",
      "Epoch 62/100\n",
      "13/13 [==============================] - 3s 224ms/step - loss: 13.7963 - mae: 2.8468 - accuracy: 0.6515 - val_loss: 7.5993 - val_mae: 1.9483 - val_accuracy: 0.7525\n",
      "Epoch 63/100\n",
      "13/13 [==============================] - 3s 224ms/step - loss: 17.6108 - mae: 3.2072 - accuracy: 0.6655 - val_loss: 10.4488 - val_mae: 2.3050 - val_accuracy: 0.7553\n",
      "Epoch 64/100\n",
      "13/13 [==============================] - 3s 224ms/step - loss: 21.0447 - mae: 3.5012 - accuracy: 0.6519 - val_loss: 9.9115 - val_mae: 2.2631 - val_accuracy: 0.7461\n",
      "Epoch 65/100\n",
      "13/13 [==============================] - 3s 224ms/step - loss: 19.2047 - mae: 3.3351 - accuracy: 0.6618 - val_loss: 7.1524 - val_mae: 1.8579 - val_accuracy: 0.7475\n",
      "Epoch 66/100\n",
      "13/13 [==============================] - 3s 225ms/step - loss: 14.7286 - mae: 2.9368 - accuracy: 0.6540 - val_loss: 17.7339 - val_mae: 3.3978 - val_accuracy: 0.7631\n",
      "Epoch 67/100\n",
      "13/13 [==============================] - 3s 225ms/step - loss: 15.7793 - mae: 3.0322 - accuracy: 0.6592 - val_loss: 6.9636 - val_mae: 1.7635 - val_accuracy: 0.7475\n",
      "Epoch 68/100\n",
      "13/13 [==============================] - 3s 226ms/step - loss: 14.5683 - mae: 2.9107 - accuracy: 0.6678 - val_loss: 8.9675 - val_mae: 2.2094 - val_accuracy: 0.7553\n",
      "Epoch 69/100\n",
      "13/13 [==============================] - 3s 224ms/step - loss: 14.3415 - mae: 2.8913 - accuracy: 0.6650 - val_loss: 6.8266 - val_mae: 1.7557 - val_accuracy: 0.7440\n",
      "Epoch 70/100\n",
      "13/13 [==============================] - 3s 224ms/step - loss: 15.1317 - mae: 2.9586 - accuracy: 0.6803 - val_loss: 8.1772 - val_mae: 2.0588 - val_accuracy: 0.7539\n",
      "Epoch 71/100\n",
      "13/13 [==============================] - 3s 225ms/step - loss: 15.1512 - mae: 2.9600 - accuracy: 0.6757 - val_loss: 6.1809 - val_mae: 1.6608 - val_accuracy: 0.7525\n",
      "Epoch 72/100\n",
      "13/13 [==============================] - 3s 224ms/step - loss: 13.7023 - mae: 2.8236 - accuracy: 0.6707 - val_loss: 7.9065 - val_mae: 1.9604 - val_accuracy: 0.7525\n",
      "Epoch 73/100\n",
      "13/13 [==============================] - 3s 225ms/step - loss: 14.7193 - mae: 2.9190 - accuracy: 0.6835 - val_loss: 7.9012 - val_mae: 1.9071 - val_accuracy: 0.7553\n",
      "Epoch 74/100\n",
      "13/13 [==============================] - 3s 224ms/step - loss: 17.8150 - mae: 3.1984 - accuracy: 0.6785 - val_loss: 17.2296 - val_mae: 3.2838 - val_accuracy: 0.7482\n",
      "Epoch 75/100\n",
      "13/13 [==============================] - 3s 225ms/step - loss: 14.7494 - mae: 2.9247 - accuracy: 0.6982 - val_loss: 12.3490 - val_mae: 2.6276 - val_accuracy: 0.7447\n",
      "Epoch 76/100\n",
      "13/13 [==============================] - 3s 227ms/step - loss: 14.2738 - mae: 2.8748 - accuracy: 0.6859 - val_loss: 8.1426 - val_mae: 2.0154 - val_accuracy: 0.7418\n",
      "Epoch 77/100\n",
      "13/13 [==============================] - 3s 224ms/step - loss: 13.7799 - mae: 2.8272 - accuracy: 0.6923 - val_loss: 12.4026 - val_mae: 2.6976 - val_accuracy: 0.7546\n",
      "Epoch 78/100\n",
      "13/13 [==============================] - 3s 225ms/step - loss: 18.8240 - mae: 3.3102 - accuracy: 0.6941 - val_loss: 8.5011 - val_mae: 2.0756 - val_accuracy: 0.7496\n",
      "Epoch 79/100\n",
      "13/13 [==============================] - 3s 225ms/step - loss: 17.6016 - mae: 3.1971 - accuracy: 0.6909 - val_loss: 10.2108 - val_mae: 2.2921 - val_accuracy: 0.7610\n",
      "Epoch 80/100\n",
      "13/13 [==============================] - 3s 225ms/step - loss: 18.0998 - mae: 3.2277 - accuracy: 0.6856 - val_loss: 8.9176 - val_mae: 2.1073 - val_accuracy: 0.7355\n",
      "Epoch 81/100\n",
      "13/13 [==============================] - 3s 225ms/step - loss: 15.5471 - mae: 3.0041 - accuracy: 0.6897 - val_loss: 6.9683 - val_mae: 1.7608 - val_accuracy: 0.7397\n",
      "Epoch 82/100\n",
      "13/13 [==============================] - 3s 224ms/step - loss: 13.4532 - mae: 2.7838 - accuracy: 0.6989 - val_loss: 7.6650 - val_mae: 1.9657 - val_accuracy: 0.7411\n",
      "Epoch 83/100\n",
      "13/13 [==============================] - 3s 224ms/step - loss: 14.5523 - mae: 2.8937 - accuracy: 0.7024 - val_loss: 13.4573 - val_mae: 2.8499 - val_accuracy: 0.7574\n",
      "Epoch 84/100\n",
      "13/13 [==============================] - 3s 225ms/step - loss: 14.3166 - mae: 2.8757 - accuracy: 0.7067 - val_loss: 7.6966 - val_mae: 1.9326 - val_accuracy: 0.7475\n",
      "Epoch 85/100\n",
      "13/13 [==============================] - 3s 225ms/step - loss: 14.3155 - mae: 2.8701 - accuracy: 0.6992 - val_loss: 10.1926 - val_mae: 2.2708 - val_accuracy: 0.7440\n",
      "Epoch 86/100\n",
      "13/13 [==============================] - 3s 225ms/step - loss: 14.7233 - mae: 2.9061 - accuracy: 0.7051 - val_loss: 28.1223 - val_mae: 4.1507 - val_accuracy: 0.7511\n",
      "Epoch 87/100\n",
      "13/13 [==============================] - 3s 225ms/step - loss: 20.8121 - mae: 3.4754 - accuracy: 0.7001 - val_loss: 14.0082 - val_mae: 2.8882 - val_accuracy: 0.7440\n",
      "Epoch 88/100\n",
      "13/13 [==============================] - 3s 226ms/step - loss: 17.4287 - mae: 3.1673 - accuracy: 0.6907 - val_loss: 8.1023 - val_mae: 1.9820 - val_accuracy: 0.7475\n",
      "Epoch 89/100\n",
      "13/13 [==============================] - 3s 224ms/step - loss: 15.4715 - mae: 2.9925 - accuracy: 0.7017 - val_loss: 7.2837 - val_mae: 1.8639 - val_accuracy: 0.7440\n",
      "Epoch 90/100\n",
      "13/13 [==============================] - 3s 225ms/step - loss: 14.4599 - mae: 2.8858 - accuracy: 0.7047 - val_loss: 8.9783 - val_mae: 2.1371 - val_accuracy: 0.7433\n",
      "Epoch 91/100\n"
     ]
    },
    {
     "name": "stdout",
     "output_type": "stream",
     "text": [
      "13/13 [==============================] - 3s 224ms/step - loss: 16.6719 - mae: 3.1039 - accuracy: 0.7067 - val_loss: 21.4386 - val_mae: 3.6973 - val_accuracy: 0.7426\n",
      "Epoch 92/100\n",
      "13/13 [==============================] - 3s 225ms/step - loss: 22.4597 - mae: 3.5817 - accuracy: 0.7003 - val_loss: 8.9781 - val_mae: 2.0761 - val_accuracy: 0.7376\n",
      "Epoch 93/100\n",
      "13/13 [==============================] - 3s 224ms/step - loss: 14.9387 - mae: 2.9302 - accuracy: 0.6980 - val_loss: 6.0543 - val_mae: 1.6182 - val_accuracy: 0.7504\n",
      "Epoch 94/100\n",
      "13/13 [==============================] - 3s 224ms/step - loss: 12.8633 - mae: 2.7192 - accuracy: 0.7132 - val_loss: 9.5816 - val_mae: 2.2630 - val_accuracy: 0.7525\n",
      "Epoch 95/100\n",
      "13/13 [==============================] - 3s 225ms/step - loss: 11.3012 - mae: 2.5422 - accuracy: 0.7074 - val_loss: 6.2051 - val_mae: 1.6718 - val_accuracy: 0.7489\n",
      "Epoch 96/100\n",
      "13/13 [==============================] - 3s 225ms/step - loss: 11.6668 - mae: 2.5910 - accuracy: 0.7164 - val_loss: 5.3461 - val_mae: 1.5315 - val_accuracy: 0.7496\n",
      "Epoch 97/100\n",
      "13/13 [==============================] - 3s 225ms/step - loss: 12.1228 - mae: 2.6470 - accuracy: 0.7269 - val_loss: 16.6328 - val_mae: 3.1220 - val_accuracy: 0.7539\n",
      "Epoch 98/100\n",
      "13/13 [==============================] - 3s 224ms/step - loss: 16.3732 - mae: 3.0726 - accuracy: 0.7168 - val_loss: 16.5160 - val_mae: 3.2953 - val_accuracy: 0.7511\n",
      "Epoch 99/100\n",
      "13/13 [==============================] - 3s 227ms/step - loss: 13.6126 - mae: 2.7797 - accuracy: 0.7322 - val_loss: 8.3436 - val_mae: 2.0602 - val_accuracy: 0.7652\n",
      "Epoch 100/100\n",
      "13/13 [==============================] - 3s 220ms/step - loss: 10.8472 - mae: 2.4943 - accuracy: 0.7258 - val_loss: 8.0348 - val_mae: 1.9786 - val_accuracy: 0.7567\n",
      "Duration: 0:05:08.398365\n"
     ]
    }
   ],
   "source": [
    "start_time = datetime.now()\n",
    "history = model.fit(X_train,y_train,epochs = epochs,batch_size = 450,validation_split = 0.2)\n",
    "end_time = datetime.now()\n",
    "print('Duration: {}'.format(end_time - start_time))"
   ]
  },
  {
   "cell_type": "code",
   "execution_count": 11,
   "metadata": {},
   "outputs": [
    {
     "name": "stdout",
     "output_type": "stream",
     "text": [
      "221/221 - 2s - loss: 4.9153 - mae: 1.6388 - accuracy: 0.8546\n"
     ]
    },
    {
     "data": {
      "image/png": "[encoded data removed]",
      "text/plain": [
       "<Figure size 432x288 with 1 Axes>"
      ]
     },
     "metadata": {
      "needs_background": "light"
     },
     "output_type": "display_data"
    }
   ],
   "source": [
    "plt.plot(history.history['accuracy'], label='accuracy')\n",
    "plt.plot(history.history['val_accuracy'], label = 'val_accuracy')\n",
    "plt.xlabel('Epoch')\n",
    "plt.ylabel('Accuracy')\n",
    "plt.ylim([0.5, 1])\n",
    "plt.legend(loc='lower right')\n",
    "\n",
    "test_loss, test_acc, acc = model.evaluate(X_train,y_train, verbose=2)"
   ]
  },
  {
   "cell_type": "code",
   "execution_count": 12,
   "metadata": {},
   "outputs": [],
   "source": [
    "arc = '1block_2FC'\n",
    "subname = '{}_epochs_{}_'.format(arc, epochs)\n",
    "model_name = \"data/models/\"+subname+strftime(\"%Y-%m-%d_%H-%M-%S\")+\".keras\"\n",
    "model.save(model_name)"
   ]
  },
  {
   "cell_type": "code",
   "execution_count": 13,
   "metadata": {},
   "outputs": [
    {
     "data": {
      "text/plain": [
       "'data/models/1block_2FC_epochs_100_2020-12-04_23-35-01.keras'"
      ]
     },
     "execution_count": 13,
     "metadata": {},
     "output_type": "execute_result"
    }
   ],
   "source": [
    "model_name"
   ]
  },
  {
   "cell_type": "code",
   "execution_count": 14,
   "metadata": {},
   "outputs": [],
   "source": [
    "# model_name = \"model_simple_nn_2020-11-13_06-57-10.keras\"\n",
    "model = keras.models.load_model(model_name)"
   ]
  },
  {
   "cell_type": "code",
   "execution_count": 15,
   "metadata": {},
   "outputs": [
    {
     "name": "stdout",
     "output_type": "stream",
     "text": [
      "('Failed to import pydot. You must `pip install pydot` and install graphviz (https://graphviz.gitlab.io/download/), ', 'for `pydotprint` to work.')\n"
     ]
    }
   ],
   "source": [
    "keras.utils.plot_model(model, show_shapes=True)"
   ]
  },
  {
   "cell_type": "code",
   "execution_count": 16,
   "metadata": {},
   "outputs": [],
   "source": [
    "images = []\n",
    "\n",
    "test_data = pd.read_csv('data/test.csv') \n",
    "for idx, sample in test_data.iterrows():\n",
    "    image = np.array(sample['Image'].split(' '), dtype=int)\n",
    "    image = np.reshape(image, (96,96,1))\n",
    "    images.append(image)\n",
    "X_predict = np.array(images)"
   ]
  },
  {
   "cell_type": "markdown",
   "metadata": {},
   "source": [
    "# Make Predictions"
   ]
  },
  {
   "cell_type": "code",
   "execution_count": 17,
   "metadata": {},
   "outputs": [],
   "source": [
    "Id_data = pd.read_csv('data/IdLookupTable.csv') \n",
    "\n",
    "test_preds = model.predict(X_predict)\n",
    "test_preds[test_preds > 96] = 96\n",
    "\n",
    "image_id = list(Id_data[\"ImageId\"]-1)\n",
    "mark_names = list(Id_data['FeatureName'])\n",
    "mark_id = [mark_names.index(x) for x in mark_names]\n",
    "\n",
    "req_predictions = [test_preds[x,y] for x,y in zip(image_id,mark_id)]\n",
    "\n",
    "rowid = pd.Series(Id_data['RowId'], name = 'RowId')\n",
    "loc = pd.Series(req_predictions, name = 'Location')\n",
    "submission = pd.concat([rowid, loc], axis = 1)\n",
    "submission.to_csv('{}submission.csv'.format(subname),index = False)"
   ]
  },
  {
   "cell_type": "code",
   "execution_count": 20,
   "metadata": {},
   "outputs": [
    {
     "data": {
      "text/plain": [
       "'1block_2FC_epochs_100_submission.csv'"
      ]
     },
     "execution_count": 20,
     "metadata": {},
     "output_type": "execute_result"
    }
   ],
   "source": [
    "'{}submission.csv'.format(subname)"
   ]
  },
  {
   "cell_type": "code",
   "execution_count": null,
   "metadata": {},
   "outputs": [],
   "source": []
  }
 ],
 "metadata": {
  "environment": {
   "name": "tf2-gpu.2-1.m55",
   "type": "gcloud",
   "uri": "gcr.io/deeplearning-platform-release/tf2-gpu.2-1:m55"
  },
  "kernelspec": {
   "display_name": "Python 3",
   "language": "python",
   "name": "python3"
  },
  "language_info": {
   "codemirror_mode": {
    "name": "ipython",
    "version": 3
   },
   "file_extension": ".py",
   "mimetype": "text/x-python",
   "name": "python",
   "nbconvert_exporter": "python",
   "pygments_lexer": "ipython3",
   "version": "3.6.9"
  }
 },
 "nbformat": 4,
 "nbformat_minor": 4
}
