{
 "cells": [
  {
   "cell_type": "markdown",
   "metadata": {},
   "source": [
    "# GPU Monitor"
   ]
  },
  {
   "cell_type": "code",
   "execution_count": 1,
   "metadata": {},
   "outputs": [],
   "source": [
    "#https://developer.nvidia.com/blog/profiling-and-optimizing-deep-neural-networks-with-dlprof-and-pyprof/\n",
    "#nvidia-smi\n",
    "#nvidia-smi dmon"
   ]
  },
  {
   "cell_type": "markdown",
   "metadata": {},
   "source": [
    "## Import Libs"
   ]
  },
  {
   "cell_type": "code",
   "execution_count": 2,
   "metadata": {},
   "outputs": [],
   "source": [
    "# This tells matplotlib not to try opening a new window for each plot.\n",
    "%matplotlib inline\n",
    "\n",
    "import os\n",
    "####*IMPORANT*: Have to do this line *before* importing tensorflow\n",
    "os.environ['PYTHONHASHSEED']=str(1)\n",
    "\n",
    "# General libraries.\n",
    "import re\n",
    "import numpy as np\n",
    "import matplotlib.pyplot as plt\n",
    "import pandas as pd\n",
    "import pickle\n",
    "\n",
    "from sklearn.datasets import make_regression\n",
    "from sklearn.tree import DecisionTreeRegressor\n",
    "from sklearn.model_selection import cross_val_score\n",
    "from sklearn.metrics import confusion_matrix\n",
    "from sklearn import metrics\n",
    "from sklearn.model_selection import train_test_split\n",
    "from sklearn.ensemble import RandomForestRegressor\n",
    "\n",
    "import cv2\n",
    "from math import sin, cos, pi\n",
    "from time import strftime\n",
    "from datetime import datetime"
   ]
  },
  {
   "cell_type": "code",
   "execution_count": 3,
   "metadata": {},
   "outputs": [],
   "source": [
    "train_data = pd.read_csv('data/training.csv') \n",
    "test_data = pd.read_csv('data/test.csv') \n",
    "Id_data = pd.read_csv('data/IdLookupTable.csv') "
   ]
  },
  {
   "cell_type": "markdown",
   "metadata": {},
   "source": [
    "# MODEL EXAMPLE\n",
    "https://www.tensorflow.org/tutorials/images/cnn"
   ]
  },
  {
   "cell_type": "code",
   "execution_count": 4,
   "metadata": {},
   "outputs": [],
   "source": [
    "from tensorflow import keras\n",
    "from keras.layers import Conv2D,Dropout,Dense,Flatten\n",
    "from keras.models import Sequential\n",
    "from keras.layers.advanced_activations import LeakyReLU\n",
    "from keras.models import Sequential, Model\n",
    "from keras.layers import Activation, Convolution2D, MaxPooling2D, BatchNormalization, Flatten, Dense, Dropout, Conv2D,MaxPool2D, ZeroPadding2D\n",
    "import random\n",
    "import tensorflow as tf\n",
    "\n"
   ]
  },
  {
   "cell_type": "code",
   "execution_count": 5,
   "metadata": {},
   "outputs": [],
   "source": [
    "epochs = 100\n",
    "def reset_random_seeds():\n",
    "    os.environ['PYTHONHASHSEED']=str(1)\n",
    "    tf.random.set_seed(1)\n",
    "    np.random.seed(1)\n",
    "    random.seed(1)\n",
    "\n",
    "#make some random data\n",
    "reset_random_seeds()"
   ]
  },
  {
   "cell_type": "code",
   "execution_count": 6,
   "metadata": {},
   "outputs": [
    {
     "name": "stdout",
     "output_type": "stream",
     "text": [
      "Model: \"sequential\"\n",
      "_________________________________________________________________\n",
      "Layer (type)                 Output Shape              Param #   \n",
      "=================================================================\n",
      "conv2d (Conv2D)              (None, 96, 96, 32)        288       \n",
      "_________________________________________________________________\n",
      "leaky_re_lu (LeakyReLU)      (None, 96, 96, 32)        0         \n",
      "_________________________________________________________________\n",
      "batch_normalization (BatchNo (None, 96, 96, 32)        128       \n",
      "_________________________________________________________________\n",
      "conv2d_1 (Conv2D)            (None, 96, 96, 32)        9216      \n",
      "_________________________________________________________________\n",
      "leaky_re_lu_1 (LeakyReLU)    (None, 96, 96, 32)        0         \n",
      "_________________________________________________________________\n",
      "batch_normalization_1 (Batch (None, 96, 96, 32)        128       \n",
      "_________________________________________________________________\n",
      "max_pooling2d (MaxPooling2D) (None, 48, 48, 32)        0         \n",
      "_________________________________________________________________\n",
      "conv2d_2 (Conv2D)            (None, 48, 48, 64)        18432     \n",
      "_________________________________________________________________\n",
      "leaky_re_lu_2 (LeakyReLU)    (None, 48, 48, 64)        0         \n",
      "_________________________________________________________________\n",
      "batch_normalization_2 (Batch (None, 48, 48, 64)        256       \n",
      "_________________________________________________________________\n",
      "conv2d_3 (Conv2D)            (None, 48, 48, 64)        36864     \n",
      "_________________________________________________________________\n",
      "leaky_re_lu_3 (LeakyReLU)    (None, 48, 48, 64)        0         \n",
      "_________________________________________________________________\n",
      "batch_normalization_3 (Batch (None, 48, 48, 64)        256       \n",
      "_________________________________________________________________\n",
      "max_pooling2d_1 (MaxPooling2 (None, 24, 24, 64)        0         \n",
      "_________________________________________________________________\n",
      "conv2d_4 (Conv2D)            (None, 24, 24, 96)        55296     \n",
      "_________________________________________________________________\n",
      "leaky_re_lu_4 (LeakyReLU)    (None, 24, 24, 96)        0         \n",
      "_________________________________________________________________\n",
      "batch_normalization_4 (Batch (None, 24, 24, 96)        384       \n",
      "_________________________________________________________________\n",
      "conv2d_5 (Conv2D)            (None, 24, 24, 96)        82944     \n",
      "_________________________________________________________________\n",
      "leaky_re_lu_5 (LeakyReLU)    (None, 24, 24, 96)        0         \n",
      "_________________________________________________________________\n",
      "batch_normalization_5 (Batch (None, 24, 24, 96)        384       \n",
      "_________________________________________________________________\n",
      "max_pooling2d_2 (MaxPooling2 (None, 12, 12, 96)        0         \n",
      "_________________________________________________________________\n",
      "conv2d_6 (Conv2D)            (None, 12, 12, 128)       110592    \n",
      "_________________________________________________________________\n",
      "leaky_re_lu_6 (LeakyReLU)    (None, 12, 12, 128)       0         \n",
      "_________________________________________________________________\n",
      "batch_normalization_6 (Batch (None, 12, 12, 128)       512       \n",
      "_________________________________________________________________\n",
      "conv2d_7 (Conv2D)            (None, 12, 12, 128)       147456    \n",
      "_________________________________________________________________\n",
      "leaky_re_lu_7 (LeakyReLU)    (None, 12, 12, 128)       0         \n",
      "_________________________________________________________________\n",
      "batch_normalization_7 (Batch (None, 12, 12, 128)       512       \n",
      "_________________________________________________________________\n",
      "max_pooling2d_3 (MaxPooling2 (None, 6, 6, 128)         0         \n",
      "_________________________________________________________________\n",
      "flatten (Flatten)            (None, 4608)              0         \n",
      "_________________________________________________________________\n",
      "dense (Dense)                (None, 512)               2359808   \n",
      "_________________________________________________________________\n",
      "dropout (Dropout)            (None, 512)               0         \n",
      "_________________________________________________________________\n",
      "dense_1 (Dense)              (None, 30)                15390     \n",
      "=================================================================\n",
      "Total params: 2,838,846\n",
      "Trainable params: 2,837,566\n",
      "Non-trainable params: 1,280\n",
      "_________________________________________________________________\n",
      "('Failed to import pydot. You must `pip install pydot` and install graphviz (https://graphviz.gitlab.io/download/), ', 'for `pydotprint` to work.')\n"
     ]
    }
   ],
   "source": [
    "model = Sequential()\n",
    "\n",
    "#Block 1\n",
    "model.add(Convolution2D(32, (3,3), padding='same', use_bias=False, input_shape=(96,96,1)))\n",
    "model.add(LeakyReLU(alpha = 0.1))\n",
    "model.add(BatchNormalization())\n",
    "\n",
    "model.add(Convolution2D(32, (3,3), padding='same', use_bias=False))\n",
    "model.add(LeakyReLU(alpha = 0.1))\n",
    "model.add(BatchNormalization())\n",
    "model.add(MaxPool2D(pool_size=(2, 2)))\n",
    "\n",
    "#Block 2\n",
    "model.add(Convolution2D(64, (3,3), padding='same', use_bias=False))\n",
    "model.add(LeakyReLU(alpha = 0.1))\n",
    "model.add(BatchNormalization())\n",
    "\n",
    "model.add(Convolution2D(64, (3,3), padding='same', use_bias=False))\n",
    "model.add(LeakyReLU(alpha = 0.1))\n",
    "model.add(BatchNormalization())\n",
    "model.add(MaxPool2D(pool_size=(2, 2)))\n",
    "\n",
    "# Block 3\n",
    "model.add(Convolution2D(96, (3,3), padding='same', use_bias=False))\n",
    "model.add(LeakyReLU(alpha = 0.1))\n",
    "model.add(BatchNormalization())\n",
    "\n",
    "model.add(Convolution2D(96, (3,3), padding='same', use_bias=False))\n",
    "model.add(LeakyReLU(alpha = 0.1))\n",
    "model.add(BatchNormalization())\n",
    "model.add(MaxPool2D(pool_size=(2, 2)))\n",
    "\n",
    "#Block 4\n",
    "model.add(Convolution2D(128, (3,3),padding='same', use_bias=False))\n",
    "model.add(LeakyReLU(alpha = 0.1))\n",
    "model.add(BatchNormalization())\n",
    "\n",
    "model.add(Convolution2D(128, (3,3),padding='same', use_bias=False))\n",
    "model.add(LeakyReLU(alpha = 0.1))\n",
    "model.add(BatchNormalization())\n",
    "model.add(MaxPool2D(pool_size=(2, 2)))\n",
    "\n",
    "model.add(Flatten())\n",
    "model.add(Dense(512,activation='relu'))\n",
    "model.add(Dropout(0.1))\n",
    "model.add(Dense(30))\n",
    "model.summary()\n",
    "keras.utils.plot_model(model, show_shapes=True)"
   ]
  },
  {
   "cell_type": "code",
   "execution_count": 7,
   "metadata": {},
   "outputs": [],
   "source": [
    "model.compile(optimizer='adam',loss='mean_squared_error',metrics=['mae','accuracy'])"
   ]
  },
  {
   "cell_type": "code",
   "execution_count": 8,
   "metadata": {},
   "outputs": [
    {
     "name": "stdout",
     "output_type": "stream",
     "text": [
      "7049\n"
     ]
    }
   ],
   "source": [
    "train_data = pd.read_csv('data/training.csv')\n",
    "\n",
    "images = []\n",
    "y_train = []\n",
    "\n",
    "print(len(train_data))\n",
    "train_data = train_data.fillna(method = 'ffill')\n",
    "for idx, sample in train_data.iterrows():\n",
    "    image = np.array(sample['Image'].split(' '), dtype=int)\n",
    "    image = np.reshape(image, (96,96,1))\n",
    "    images.append(image)\n",
    "X_train = np.array(images)"
   ]
  },
  {
   "cell_type": "code",
   "execution_count": 9,
   "metadata": {},
   "outputs": [],
   "source": [
    "training = train_data.drop('Image',axis = 1)\n",
    "\n",
    "y_train = []\n",
    "for idx, sample in training.iterrows():\n",
    "    y = training.iloc[idx,:]\n",
    "    y_train.append(y)    \n",
    "y_train = np.array(y_train,dtype = 'float')"
   ]
  },
  {
   "cell_type": "code",
   "execution_count": 10,
   "metadata": {},
   "outputs": [
    {
     "name": "stdout",
     "output_type": "stream",
     "text": [
      "Epoch 1/100\n",
      " 2/13 [===>..........................] - ETA: 2s - loss: 2222.5178 - mae: 43.5565 - accuracy: 0.2356WARNING:tensorflow:Callbacks method `on_train_batch_end` is slow compared to the batch time (batch time: 0.1415s vs `on_train_batch_end` time: 0.2262s). Check your callbacks.\n",
      "13/13 [==============================] - 6s 466ms/step - loss: 539.8344 - mae: 16.0379 - accuracy: 0.3520 - val_loss: 1908.8911 - val_mae: 40.6730 - val_accuracy: 0.3121\n",
      "Epoch 2/100\n",
      "13/13 [==============================] - 5s 373ms/step - loss: 46.5236 - mae: 5.3113 - accuracy: 0.3549 - val_loss: 892.9803 - val_mae: 27.3366 - val_accuracy: 0.3440\n",
      "Epoch 3/100\n",
      "13/13 [==============================] - 5s 388ms/step - loss: 32.3866 - mae: 4.4226 - accuracy: 0.3579 - val_loss: 872.5017 - val_mae: 27.1601 - val_accuracy: 0.3050\n",
      "Epoch 4/100\n",
      "13/13 [==============================] - 5s 388ms/step - loss: 29.6976 - mae: 4.2268 - accuracy: 0.4334 - val_loss: 649.5189 - val_mae: 23.4300 - val_accuracy: 0.3298\n",
      "Epoch 5/100\n",
      "13/13 [==============================] - 5s 381ms/step - loss: 27.3479 - mae: 4.0551 - accuracy: 0.4091 - val_loss: 500.0686 - val_mae: 20.4990 - val_accuracy: 0.3681\n",
      "Epoch 6/100\n",
      "13/13 [==============================] - 5s 388ms/step - loss: 26.4945 - mae: 3.9852 - accuracy: 0.4426 - val_loss: 330.1644 - val_mae: 16.4736 - val_accuracy: 0.4440\n",
      "Epoch 7/100\n",
      "13/13 [==============================] - 5s 375ms/step - loss: 24.9020 - mae: 3.8520 - accuracy: 0.4591 - val_loss: 98.6068 - val_mae: 8.3773 - val_accuracy: 0.6213\n",
      "Epoch 8/100\n",
      "13/13 [==============================] - 5s 385ms/step - loss: 21.9760 - mae: 3.6124 - accuracy: 0.4650 - val_loss: 52.5768 - val_mae: 5.6837 - val_accuracy: 0.6504\n",
      "Epoch 9/100\n",
      "13/13 [==============================] - 5s 395ms/step - loss: 21.1502 - mae: 3.5363 - accuracy: 0.4770 - val_loss: 56.4893 - val_mae: 5.9795 - val_accuracy: 0.6752\n",
      "Epoch 10/100\n",
      "13/13 [==============================] - 5s 377ms/step - loss: 20.5071 - mae: 3.4787 - accuracy: 0.4834 - val_loss: 26.2722 - val_mae: 3.8754 - val_accuracy: 0.6794\n",
      "Epoch 11/100\n",
      "13/13 [==============================] - 5s 374ms/step - loss: 20.5421 - mae: 3.4894 - accuracy: 0.5017 - val_loss: 26.8824 - val_mae: 4.0422 - val_accuracy: 0.6709\n",
      "Epoch 12/100\n",
      "13/13 [==============================] - 5s 387ms/step - loss: 19.8630 - mae: 3.4150 - accuracy: 0.4935 - val_loss: 11.7107 - val_mae: 2.4632 - val_accuracy: 0.6844\n",
      "Epoch 13/100\n",
      "13/13 [==============================] - 5s 389ms/step - loss: 18.5710 - mae: 3.3008 - accuracy: 0.5171 - val_loss: 10.8314 - val_mae: 2.4106 - val_accuracy: 0.6844\n",
      "Epoch 14/100\n",
      "13/13 [==============================] - 5s 373ms/step - loss: 17.8222 - mae: 3.2325 - accuracy: 0.5143 - val_loss: 7.7034 - val_mae: 1.9589 - val_accuracy: 0.6957\n",
      "Epoch 15/100\n",
      "13/13 [==============================] - 5s 373ms/step - loss: 17.8931 - mae: 3.2432 - accuracy: 0.5361 - val_loss: 8.3562 - val_mae: 2.0932 - val_accuracy: 0.6965\n",
      "Epoch 16/100\n",
      "13/13 [==============================] - 5s 372ms/step - loss: 17.6678 - mae: 3.2153 - accuracy: 0.5396 - val_loss: 18.3492 - val_mae: 3.2749 - val_accuracy: 0.6950\n",
      "Epoch 17/100\n",
      "13/13 [==============================] - 5s 373ms/step - loss: 16.8536 - mae: 3.1273 - accuracy: 0.5522 - val_loss: 18.5199 - val_mae: 3.4255 - val_accuracy: 0.6993\n",
      "Epoch 18/100\n",
      "13/13 [==============================] - 5s 373ms/step - loss: 17.7453 - mae: 3.2207 - accuracy: 0.5528 - val_loss: 13.5948 - val_mae: 2.8766 - val_accuracy: 0.7113\n",
      "Epoch 19/100\n",
      "13/13 [==============================] - 5s 372ms/step - loss: 18.8206 - mae: 3.3249 - accuracy: 0.5547 - val_loss: 40.7457 - val_mae: 5.2037 - val_accuracy: 0.7050\n",
      "Epoch 20/100\n",
      "13/13 [==============================] - 5s 373ms/step - loss: 20.2783 - mae: 3.4516 - accuracy: 0.5730 - val_loss: 162.7697 - val_mae: 11.2484 - val_accuracy: 0.7092\n",
      "Epoch 21/100\n",
      "13/13 [==============================] - 5s 371ms/step - loss: 18.1750 - mae: 3.2481 - accuracy: 0.5625 - val_loss: 141.4026 - val_mae: 10.8279 - val_accuracy: 0.7021\n",
      "Epoch 22/100\n",
      "13/13 [==============================] - 5s 371ms/step - loss: 15.6387 - mae: 3.0126 - accuracy: 0.5747 - val_loss: 105.0418 - val_mae: 9.1961 - val_accuracy: 0.7177\n",
      "Epoch 23/100\n",
      "13/13 [==============================] - 5s 372ms/step - loss: 15.1765 - mae: 2.9618 - accuracy: 0.5765 - val_loss: 67.1657 - val_mae: 7.2809 - val_accuracy: 0.7135\n",
      "Epoch 24/100\n",
      "13/13 [==============================] - 5s 380ms/step - loss: 14.0987 - mae: 2.8486 - accuracy: 0.5822 - val_loss: 49.1949 - val_mae: 6.2553 - val_accuracy: 0.7206\n",
      "Epoch 25/100\n",
      "13/13 [==============================] - 5s 376ms/step - loss: 14.5349 - mae: 2.8957 - accuracy: 0.5923 - val_loss: 33.1785 - val_mae: 4.9528 - val_accuracy: 0.7142\n",
      "Epoch 26/100\n",
      "13/13 [==============================] - 5s 378ms/step - loss: 14.8255 - mae: 2.9219 - accuracy: 0.5900 - val_loss: 38.6544 - val_mae: 5.1355 - val_accuracy: 0.7099\n",
      "Epoch 27/100\n",
      "13/13 [==============================] - 5s 375ms/step - loss: 13.9717 - mae: 2.8384 - accuracy: 0.6001 - val_loss: 35.3582 - val_mae: 5.2013 - val_accuracy: 0.7270\n",
      "Epoch 28/100\n",
      "13/13 [==============================] - 5s 374ms/step - loss: 12.9287 - mae: 2.7190 - accuracy: 0.6084 - val_loss: 20.4818 - val_mae: 3.7530 - val_accuracy: 0.7262\n",
      "Epoch 29/100\n",
      "13/13 [==============================] - 5s 377ms/step - loss: 13.2022 - mae: 2.7484 - accuracy: 0.6162 - val_loss: 16.8738 - val_mae: 3.4141 - val_accuracy: 0.7326\n",
      "Epoch 30/100\n",
      "13/13 [==============================] - 5s 381ms/step - loss: 12.7371 - mae: 2.6974 - accuracy: 0.6127 - val_loss: 10.5930 - val_mae: 2.5604 - val_accuracy: 0.7319\n",
      "Epoch 31/100\n",
      "13/13 [==============================] - 5s 379ms/step - loss: 12.5527 - mae: 2.6651 - accuracy: 0.6127 - val_loss: 13.8649 - val_mae: 3.0472 - val_accuracy: 0.7340\n",
      "Epoch 32/100\n",
      "13/13 [==============================] - 5s 380ms/step - loss: 12.6861 - mae: 2.6924 - accuracy: 0.6209 - val_loss: 14.3362 - val_mae: 3.1612 - val_accuracy: 0.7312\n",
      "Epoch 33/100\n",
      "13/13 [==============================] - 5s 379ms/step - loss: 13.3508 - mae: 2.7708 - accuracy: 0.6350 - val_loss: 6.1710 - val_mae: 1.6831 - val_accuracy: 0.7206\n",
      "Epoch 34/100\n",
      "13/13 [==============================] - 5s 385ms/step - loss: 13.2162 - mae: 2.7540 - accuracy: 0.6308 - val_loss: 19.6676 - val_mae: 3.7233 - val_accuracy: 0.7340\n",
      "Epoch 35/100\n",
      "13/13 [==============================] - 5s 413ms/step - loss: 12.4495 - mae: 2.6626 - accuracy: 0.6365 - val_loss: 17.5353 - val_mae: 3.5452 - val_accuracy: 0.7369\n",
      "Epoch 36/100\n",
      "13/13 [==============================] - 5s 413ms/step - loss: 14.5480 - mae: 2.8894 - accuracy: 0.6340 - val_loss: 22.0862 - val_mae: 3.8411 - val_accuracy: 0.7270\n",
      "Epoch 37/100\n",
      "13/13 [==============================] - 5s 393ms/step - loss: 14.1732 - mae: 2.8553 - accuracy: 0.6322 - val_loss: 24.3155 - val_mae: 4.1198 - val_accuracy: 0.7355\n",
      "Epoch 38/100\n",
      "13/13 [==============================] - 5s 372ms/step - loss: 13.0695 - mae: 2.7306 - accuracy: 0.6428 - val_loss: 20.6833 - val_mae: 3.8492 - val_accuracy: 0.7397\n",
      "Epoch 39/100\n",
      "13/13 [==============================] - 5s 375ms/step - loss: 11.8477 - mae: 2.5943 - accuracy: 0.6453 - val_loss: 21.9450 - val_mae: 3.9373 - val_accuracy: 0.7440\n",
      "Epoch 40/100\n",
      "13/13 [==============================] - 5s 395ms/step - loss: 11.7715 - mae: 2.5792 - accuracy: 0.6501 - val_loss: 14.1579 - val_mae: 3.0500 - val_accuracy: 0.7383\n",
      "Epoch 41/100\n",
      "13/13 [==============================] - 5s 381ms/step - loss: 11.7319 - mae: 2.5778 - accuracy: 0.6524 - val_loss: 23.7097 - val_mae: 4.2171 - val_accuracy: 0.7397\n",
      "Epoch 42/100\n",
      "13/13 [==============================] - 5s 369ms/step - loss: 11.6172 - mae: 2.5591 - accuracy: 0.6469 - val_loss: 10.6276 - val_mae: 2.4150 - val_accuracy: 0.7426\n",
      "Epoch 43/100\n",
      "13/13 [==============================] - 5s 369ms/step - loss: 10.9600 - mae: 2.4868 - accuracy: 0.6533 - val_loss: 8.0488 - val_mae: 2.1847 - val_accuracy: 0.7326\n",
      "Epoch 44/100\n",
      "13/13 [==============================] - 5s 370ms/step - loss: 10.4458 - mae: 2.4197 - accuracy: 0.6577 - val_loss: 6.3592 - val_mae: 1.8417 - val_accuracy: 0.7333\n",
      "Epoch 45/100\n",
      "13/13 [==============================] - 5s 371ms/step - loss: 11.4334 - mae: 2.5418 - accuracy: 0.6556 - val_loss: 5.1943 - val_mae: 1.5408 - val_accuracy: 0.7390\n",
      "Epoch 46/100\n",
      "13/13 [==============================] - 5s 373ms/step - loss: 12.7420 - mae: 2.6902 - accuracy: 0.6664 - val_loss: 6.6447 - val_mae: 1.8515 - val_accuracy: 0.7397\n",
      "Epoch 47/100\n",
      "13/13 [==============================] - 5s 377ms/step - loss: 11.5479 - mae: 2.5572 - accuracy: 0.6668 - val_loss: 5.5818 - val_mae: 1.6138 - val_accuracy: 0.7411\n",
      "Epoch 48/100\n",
      "13/13 [==============================] - 5s 369ms/step - loss: 10.9127 - mae: 2.4795 - accuracy: 0.6675 - val_loss: 4.4786 - val_mae: 1.3996 - val_accuracy: 0.7326\n",
      "Epoch 49/100\n",
      "13/13 [==============================] - 5s 370ms/step - loss: 10.1084 - mae: 2.3701 - accuracy: 0.6693 - val_loss: 4.1947 - val_mae: 1.3378 - val_accuracy: 0.7482\n",
      "Epoch 50/100\n",
      "13/13 [==============================] - 5s 373ms/step - loss: 9.7961 - mae: 2.3344 - accuracy: 0.6668 - val_loss: 4.9540 - val_mae: 1.4930 - val_accuracy: 0.7418\n",
      "Epoch 51/100\n",
      "13/13 [==============================] - 5s 369ms/step - loss: 10.0498 - mae: 2.3737 - accuracy: 0.6742 - val_loss: 4.3807 - val_mae: 1.3815 - val_accuracy: 0.7461\n",
      "Epoch 52/100\n",
      "13/13 [==============================] - 5s 378ms/step - loss: 10.2843 - mae: 2.3975 - accuracy: 0.6691 - val_loss: 7.2684 - val_mae: 1.9702 - val_accuracy: 0.7454\n",
      "Epoch 53/100\n",
      "13/13 [==============================] - 5s 376ms/step - loss: 10.1460 - mae: 2.3833 - accuracy: 0.6820 - val_loss: 4.9710 - val_mae: 1.5657 - val_accuracy: 0.7383\n",
      "Epoch 54/100\n",
      "13/13 [==============================] - 5s 370ms/step - loss: 11.5022 - mae: 2.5594 - accuracy: 0.6764 - val_loss: 7.7156 - val_mae: 2.0015 - val_accuracy: 0.7532\n",
      "Epoch 55/100\n",
      "13/13 [==============================] - 5s 368ms/step - loss: 10.5202 - mae: 2.4265 - accuracy: 0.6959 - val_loss: 6.6376 - val_mae: 1.8946 - val_accuracy: 0.7418\n",
      "Epoch 56/100\n",
      "13/13 [==============================] - 5s 369ms/step - loss: 9.9377 - mae: 2.3534 - accuracy: 0.6904 - val_loss: 4.4237 - val_mae: 1.3770 - val_accuracy: 0.7461\n",
      "Epoch 57/100\n",
      "13/13 [==============================] - 5s 374ms/step - loss: 9.4832 - mae: 2.2989 - accuracy: 0.6948 - val_loss: 7.8021 - val_mae: 2.1443 - val_accuracy: 0.7326\n",
      "Epoch 58/100\n",
      "13/13 [==============================] - 5s 370ms/step - loss: 10.8509 - mae: 2.4772 - accuracy: 0.6953 - val_loss: 5.9151 - val_mae: 1.7099 - val_accuracy: 0.7525\n",
      "Epoch 59/100\n",
      "13/13 [==============================] - 5s 370ms/step - loss: 9.1973 - mae: 2.2624 - accuracy: 0.7007 - val_loss: 3.9356 - val_mae: 1.2543 - val_accuracy: 0.7426\n",
      "Epoch 60/100\n",
      "13/13 [==============================] - 5s 372ms/step - loss: 8.7327 - mae: 2.1979 - accuracy: 0.7083 - val_loss: 4.4690 - val_mae: 1.3684 - val_accuracy: 0.7468\n",
      "Epoch 61/100\n",
      "13/13 [==============================] - 5s 381ms/step - loss: 9.3667 - mae: 2.2841 - accuracy: 0.6989 - val_loss: 4.6510 - val_mae: 1.4126 - val_accuracy: 0.7546\n",
      "Epoch 62/100\n",
      "13/13 [==============================] - 5s 382ms/step - loss: 8.5344 - mae: 2.1695 - accuracy: 0.7014 - val_loss: 4.3508 - val_mae: 1.3530 - val_accuracy: 0.7433\n",
      "Epoch 63/100\n",
      "13/13 [==============================] - 5s 377ms/step - loss: 9.2998 - mae: 2.2816 - accuracy: 0.6991 - val_loss: 6.6868 - val_mae: 1.8428 - val_accuracy: 0.7433\n",
      "Epoch 64/100\n",
      "13/13 [==============================] - 5s 379ms/step - loss: 10.4319 - mae: 2.4164 - accuracy: 0.7163 - val_loss: 5.8304 - val_mae: 1.7509 - val_accuracy: 0.7440\n",
      "Epoch 65/100\n",
      "13/13 [==============================] - 5s 374ms/step - loss: 10.0769 - mae: 2.3779 - accuracy: 0.7054 - val_loss: 6.8181 - val_mae: 1.9234 - val_accuracy: 0.7589\n",
      "Epoch 66/100\n",
      "13/13 [==============================] - 5s 377ms/step - loss: 9.8615 - mae: 2.3505 - accuracy: 0.7093 - val_loss: 5.2325 - val_mae: 1.6171 - val_accuracy: 0.7404\n",
      "Epoch 67/100\n",
      "13/13 [==============================] - 5s 377ms/step - loss: 9.1478 - mae: 2.2523 - accuracy: 0.7164 - val_loss: 4.3775 - val_mae: 1.3655 - val_accuracy: 0.7567\n",
      "Epoch 68/100\n",
      "13/13 [==============================] - 5s 376ms/step - loss: 9.2656 - mae: 2.2749 - accuracy: 0.7164 - val_loss: 4.4829 - val_mae: 1.4134 - val_accuracy: 0.7610\n",
      "Epoch 69/100\n",
      "13/13 [==============================] - 5s 377ms/step - loss: 9.4124 - mae: 2.2891 - accuracy: 0.7168 - val_loss: 4.8352 - val_mae: 1.4537 - val_accuracy: 0.7468\n",
      "Epoch 70/100\n",
      "13/13 [==============================] - 5s 374ms/step - loss: 9.2865 - mae: 2.2703 - accuracy: 0.7219 - val_loss: 4.3857 - val_mae: 1.3729 - val_accuracy: 0.7440\n",
      "Epoch 71/100\n",
      "13/13 [==============================] - 5s 372ms/step - loss: 9.2515 - mae: 2.2687 - accuracy: 0.7191 - val_loss: 8.5042 - val_mae: 2.0965 - val_accuracy: 0.7440\n",
      "Epoch 72/100\n",
      "13/13 [==============================] - 5s 373ms/step - loss: 9.6033 - mae: 2.3175 - accuracy: 0.7203 - val_loss: 7.0683 - val_mae: 1.9349 - val_accuracy: 0.7461\n",
      "Epoch 73/100\n",
      "13/13 [==============================] - 5s 378ms/step - loss: 10.1385 - mae: 2.3888 - accuracy: 0.7152 - val_loss: 9.2805 - val_mae: 2.2891 - val_accuracy: 0.7532\n",
      "Epoch 74/100\n",
      "13/13 [==============================] - 5s 374ms/step - loss: 9.6109 - mae: 2.3153 - accuracy: 0.7301 - val_loss: 4.8288 - val_mae: 1.4635 - val_accuracy: 0.7496\n",
      "Epoch 75/100\n",
      "13/13 [==============================] - 5s 377ms/step - loss: 10.4978 - mae: 2.4339 - accuracy: 0.7251 - val_loss: 6.4246 - val_mae: 1.7941 - val_accuracy: 0.7397\n",
      "Epoch 76/100\n",
      "13/13 [==============================] - 5s 377ms/step - loss: 10.5126 - mae: 2.4376 - accuracy: 0.7264 - val_loss: 5.0274 - val_mae: 1.5353 - val_accuracy: 0.7355\n",
      "Epoch 77/100\n",
      "13/13 [==============================] - 5s 377ms/step - loss: 8.1872 - mae: 2.1203 - accuracy: 0.7198 - val_loss: 7.1837 - val_mae: 2.0224 - val_accuracy: 0.7546\n",
      "Epoch 78/100\n",
      "13/13 [==============================] - 5s 380ms/step - loss: 8.8561 - mae: 2.2268 - accuracy: 0.7344 - val_loss: 4.7404 - val_mae: 1.4433 - val_accuracy: 0.7603\n",
      "Epoch 79/100\n",
      "13/13 [==============================] - 5s 374ms/step - loss: 9.1220 - mae: 2.2505 - accuracy: 0.7264 - val_loss: 4.4973 - val_mae: 1.4271 - val_accuracy: 0.7560\n",
      "Epoch 80/100\n",
      "13/13 [==============================] - 5s 378ms/step - loss: 9.1370 - mae: 2.2642 - accuracy: 0.7262 - val_loss: 4.3674 - val_mae: 1.3960 - val_accuracy: 0.7234\n",
      "Epoch 81/100\n",
      "13/13 [==============================] - 5s 374ms/step - loss: 8.3527 - mae: 2.1502 - accuracy: 0.7303 - val_loss: 4.7892 - val_mae: 1.5030 - val_accuracy: 0.7489\n",
      "Epoch 82/100\n",
      "13/13 [==============================] - 5s 376ms/step - loss: 7.9302 - mae: 2.0914 - accuracy: 0.7338 - val_loss: 3.8978 - val_mae: 1.2597 - val_accuracy: 0.7504\n",
      "Epoch 83/100\n",
      "13/13 [==============================] - 5s 373ms/step - loss: 7.5740 - mae: 2.0406 - accuracy: 0.7372 - val_loss: 4.2471 - val_mae: 1.3313 - val_accuracy: 0.7617\n",
      "Epoch 84/100\n",
      "13/13 [==============================] - 5s 374ms/step - loss: 7.5500 - mae: 2.0356 - accuracy: 0.7395 - val_loss: 4.0954 - val_mae: 1.3074 - val_accuracy: 0.7426\n",
      "Epoch 85/100\n",
      "13/13 [==============================] - 5s 373ms/step - loss: 7.8077 - mae: 2.0759 - accuracy: 0.7432 - val_loss: 10.2917 - val_mae: 2.5436 - val_accuracy: 0.7397\n",
      "Epoch 86/100\n",
      "13/13 [==============================] - 5s 378ms/step - loss: 8.3650 - mae: 2.1531 - accuracy: 0.7390 - val_loss: 4.7105 - val_mae: 1.4350 - val_accuracy: 0.7511\n",
      "Epoch 87/100\n",
      "13/13 [==============================] - 5s 378ms/step - loss: 7.3475 - mae: 2.0134 - accuracy: 0.7400 - val_loss: 4.0185 - val_mae: 1.3201 - val_accuracy: 0.7567\n",
      "Epoch 88/100\n",
      "13/13 [==============================] - 5s 377ms/step - loss: 8.4142 - mae: 2.1621 - accuracy: 0.7420 - val_loss: 5.3880 - val_mae: 1.5741 - val_accuracy: 0.7376\n",
      "Epoch 89/100\n",
      "13/13 [==============================] - 5s 376ms/step - loss: 7.2159 - mae: 1.9884 - accuracy: 0.7501 - val_loss: 5.8309 - val_mae: 1.6813 - val_accuracy: 0.7624\n",
      "Epoch 90/100\n",
      "13/13 [==============================] - 5s 373ms/step - loss: 7.1260 - mae: 1.9796 - accuracy: 0.7500 - val_loss: 6.8162 - val_mae: 1.9117 - val_accuracy: 0.7461\n",
      "Epoch 91/100\n"
     ]
    },
    {
     "name": "stdout",
     "output_type": "stream",
     "text": [
      "13/13 [==============================] - 5s 374ms/step - loss: 7.5720 - mae: 2.0501 - accuracy: 0.7508 - val_loss: 4.9974 - val_mae: 1.5336 - val_accuracy: 0.7461\n",
      "Epoch 92/100\n",
      "13/13 [==============================] - 5s 373ms/step - loss: 7.6028 - mae: 2.0459 - accuracy: 0.7546 - val_loss: 6.9573 - val_mae: 1.9510 - val_accuracy: 0.7305\n",
      "Epoch 93/100\n",
      "13/13 [==============================] - 5s 373ms/step - loss: 7.0619 - mae: 1.9630 - accuracy: 0.7585 - val_loss: 4.7702 - val_mae: 1.4481 - val_accuracy: 0.7355\n",
      "Epoch 94/100\n",
      "13/13 [==============================] - 5s 373ms/step - loss: 7.5951 - mae: 2.0503 - accuracy: 0.7540 - val_loss: 8.4111 - val_mae: 2.1108 - val_accuracy: 0.7404\n",
      "Epoch 95/100\n",
      "13/13 [==============================] - 5s 373ms/step - loss: 7.9930 - mae: 2.1063 - accuracy: 0.7505 - val_loss: 6.1574 - val_mae: 1.7645 - val_accuracy: 0.7539\n",
      "Epoch 96/100\n",
      "13/13 [==============================] - 5s 373ms/step - loss: 7.3770 - mae: 2.0172 - accuracy: 0.7576 - val_loss: 6.2985 - val_mae: 1.8054 - val_accuracy: 0.7397\n",
      "Epoch 97/100\n",
      "13/13 [==============================] - 5s 376ms/step - loss: 7.3285 - mae: 2.0124 - accuracy: 0.7583 - val_loss: 5.5998 - val_mae: 1.6920 - val_accuracy: 0.7447\n",
      "Epoch 98/100\n",
      "13/13 [==============================] - 5s 376ms/step - loss: 6.6543 - mae: 1.9071 - accuracy: 0.7624 - val_loss: 5.2646 - val_mae: 1.6012 - val_accuracy: 0.7426\n",
      "Epoch 99/100\n",
      "13/13 [==============================] - 5s 374ms/step - loss: 6.4952 - mae: 1.8786 - accuracy: 0.7627 - val_loss: 11.8490 - val_mae: 2.7969 - val_accuracy: 0.7674\n",
      "Epoch 100/100\n",
      "13/13 [==============================] - 5s 368ms/step - loss: 8.8276 - mae: 2.2430 - accuracy: 0.7709 - val_loss: 4.8280 - val_mae: 1.4746 - val_accuracy: 0.7759\n",
      "Duration: 0:08:29.018384\n"
     ]
    }
   ],
   "source": [
    "start_time = datetime.now()\n",
    "history = model.fit(X_train,y_train,epochs = epochs,batch_size = 450,validation_split = 0.2)\n",
    "end_time = datetime.now()\n",
    "print('Duration: {}'.format(end_time - start_time))"
   ]
  },
  {
   "cell_type": "code",
   "execution_count": 11,
   "metadata": {
    "scrolled": true
   },
   "outputs": [
    {
     "name": "stdout",
     "output_type": "stream",
     "text": [
      "221/221 - 2s - loss: 3.9532 - mae: 1.3582 - accuracy: 0.8089\n"
     ]
    },
    {
     "data": {
      "image/png": "[encoded data removed]",
      "text/plain": [
       "<Figure size 432x288 with 1 Axes>"
      ]
     },
     "metadata": {
      "needs_background": "light"
     },
     "output_type": "display_data"
    }
   ],
   "source": [
    "plt.plot(history.history['accuracy'], label='accuracy')\n",
    "plt.plot(history.history['val_accuracy'], label = 'val_accuracy')\n",
    "plt.xlabel('Epoch')\n",
    "plt.ylabel('Accuracy')\n",
    "plt.ylim([0.5, 1])\n",
    "plt.legend(loc='lower right')\n",
    "\n",
    "test_loss, test_acc, acc = model.evaluate(X_train,y_train, verbose=2)"
   ]
  },
  {
   "cell_type": "code",
   "execution_count": 12,
   "metadata": {},
   "outputs": [],
   "source": [
    "arc = '4block_2FC'\n",
    "subname = '{}_epochs_{}_'.format(arc, epochs)\n",
    "model_name = \"data/models/\"+subname+strftime(\"%Y-%m-%d_%H-%M-%S\")+\".keras\"\n",
    "model.save(model_name)"
   ]
  },
  {
   "cell_type": "code",
   "execution_count": 13,
   "metadata": {},
   "outputs": [
    {
     "data": {
      "text/plain": [
       "'data/models/4block_2FC_epochs_100_2020-12-05_00-14-36.keras'"
      ]
     },
     "execution_count": 13,
     "metadata": {},
     "output_type": "execute_result"
    }
   ],
   "source": [
    "model_name"
   ]
  },
  {
   "cell_type": "code",
   "execution_count": 14,
   "metadata": {},
   "outputs": [],
   "source": [
    "# model_name = \"model_simple_nn_2020-11-13_06-57-10.keras\"\n",
    "model = keras.models.load_model(model_name)"
   ]
  },
  {
   "cell_type": "code",
   "execution_count": 15,
   "metadata": {},
   "outputs": [
    {
     "name": "stdout",
     "output_type": "stream",
     "text": [
      "('Failed to import pydot. You must `pip install pydot` and install graphviz (https://graphviz.gitlab.io/download/), ', 'for `pydotprint` to work.')\n"
     ]
    }
   ],
   "source": [
    "keras.utils.plot_model(model, show_shapes=True)"
   ]
  },
  {
   "cell_type": "code",
   "execution_count": 16,
   "metadata": {},
   "outputs": [],
   "source": [
    "images = []\n",
    "\n",
    "test_data = pd.read_csv('data/test.csv') \n",
    "for idx, sample in test_data.iterrows():\n",
    "    image = np.array(sample['Image'].split(' '), dtype=int)\n",
    "    image = np.reshape(image, (96,96,1))\n",
    "    images.append(image)\n",
    "X_predict = np.array(images)"
   ]
  },
  {
   "cell_type": "markdown",
   "metadata": {},
   "source": [
    "# Make Predictions"
   ]
  },
  {
   "cell_type": "code",
   "execution_count": 17,
   "metadata": {},
   "outputs": [],
   "source": [
    "Id_data = pd.read_csv('data/IdLookupTable.csv') \n",
    "\n",
    "test_preds = model.predict(X_predict)\n",
    "test_preds[test_preds > 96] = 96\n",
    "\n",
    "image_id = list(Id_data[\"ImageId\"]-1)\n",
    "mark_names = list(Id_data['FeatureName'])\n",
    "mark_id = [mark_names.index(x) for x in mark_names]\n",
    "\n",
    "req_predictions = [test_preds[x,y] for x,y in zip(image_id,mark_id)]\n",
    "\n",
    "rowid = pd.Series(Id_data['RowId'], name = 'RowId')\n",
    "loc = pd.Series(req_predictions, name = 'Location')\n",
    "submission = pd.concat([rowid, loc], axis = 1)\n",
    "submission.to_csv('data/{}submission.csv'.format(subname),index = False)"
   ]
  },
  {
   "cell_type": "code",
   "execution_count": 18,
   "metadata": {},
   "outputs": [
    {
     "data": {
      "text/plain": [
       "'data/4block_2FC_epochs_100_submission.csv'"
      ]
     },
     "execution_count": 18,
     "metadata": {},
     "output_type": "execute_result"
    }
   ],
   "source": [
    "'data/{}submission.csv'.format(subname)"
   ]
  },
  {
   "cell_type": "code",
   "execution_count": null,
   "metadata": {},
   "outputs": [],
   "source": []
  }
 ],
 "metadata": {
  "environment": {
   "name": "tf2-gpu.2-1.m55",
   "type": "gcloud",
   "uri": "gcr.io/deeplearning-platform-release/tf2-gpu.2-1:m55"
  },
  "kernelspec": {
   "display_name": "Python 3",
   "language": "python",
   "name": "python3"
  },
  "language_info": {
   "codemirror_mode": {
    "name": "ipython",
    "version": 3
   },
   "file_extension": ".py",
   "mimetype": "text/x-python",
   "name": "python",
   "nbconvert_exporter": "python",
   "pygments_lexer": "ipython3",
   "version": "3.6.9"
  }
 },
 "nbformat": 4,
 "nbformat_minor": 4
}
